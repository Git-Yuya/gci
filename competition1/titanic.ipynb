{
  "nbformat": 4,
  "nbformat_minor": 0,
  "metadata": {
    "colab": {
      "provenance": [],
      "collapsed_sections": [
        "1EY4zvK2vuEq",
        "8tC5WjHHwLAQ",
        "0P8qnAV2wPbR",
        "0F6hNegqO8FU",
        "4VOw3jUPv4B4",
        "V5sEU6LxwsfQ",
        "V5UJ3L95h77c",
        "ZQRxldYXhVCw",
        "KcIxEEbUkFPK",
        "oo7pGSOVgMNI",
        "v6pEGcBfgTQz",
        "654wcS8GRkBH",
        "HZa9NajYSFHi",
        "dWhRTCbSSdyN",
        "hnyZ1EmfSqeF",
        "YK3XqkHkSx4Q",
        "9xY-cAucAwcA",
        "ZkcnKsDhDYy4",
        "HCTfGGjWTDYc",
        "zlcKl5SJTvOH",
        "W05XHdw7UULz",
        "OdT1BcULUyn-",
        "9_9Ze2wsWuia",
        "JRANehR9-oaP",
        "51PruzTu-zPx",
        "VSdhUyD7AYLl",
        "V2jtC4GEAdy5",
        "L0Aef-POBToE",
        "zibaju5uXED4",
        "XChGMySfXX4v",
        "h9opI91z4WRZ",
        "kAb5csCK4eGZ",
        "tmlzeZqhQTNn",
        "K4UzdRwfkX47",
        "ybajGn84jPbu",
        "dSqUkHS0lwpS",
        "oKFvKY77XgOf",
        "Q_lub51GXrh9",
        "aMkD0-z7WEep",
        "xz5QLNHwDspg",
        "fqKTBDAyVnGk",
        "ajmOTjxSVq_W",
        "iLBHP4_iVlgT",
        "Q3G_LxgDMfdw",
        "frtRlsAuQYhL",
        "m-q9tqcQpp6m",
        "AQDz33uKd2LM",
        "A5ajxXvDG3pT",
        "ogMmFK0WkyqA",
        "NB64q3zvNZBR",
        "Qqo7bic8aJko",
        "jYFAMFOjIYq2"
      ]
    },
    "kernelspec": {
      "name": "python3",
      "display_name": "Python 3"
    },
    "language_info": {
      "name": "python"
    }
  },
  "cells": [
    {
      "cell_type": "markdown",
      "source": [
        "# Titanic\n",
        "![](https://i.imgur.com/rRFchA8.png)"
      ],
      "metadata": {
        "id": "bb1biJfcvE84"
      }
    },
    {
      "cell_type": "markdown",
      "source": [
        "## 目次\n",
        "0. ライブラリ・データ読み込み\n",
        "1. 探索的データ分析 (EDA)\n",
        "2. データの前処理・特徴量エンジニアリング\n",
        "3. ランダムフォレストモデル構築\n",
        "4. 提出ファイル作成"
      ],
      "metadata": {
        "id": "a44SyZ6zvgPN"
      }
    },
    {
      "cell_type": "markdown",
      "source": [
        "## 0\\. ライブラリ・データ読み込み\n"
      ],
      "metadata": {
        "id": "1EY4zvK2vuEq"
      }
    },
    {
      "cell_type": "markdown",
      "source": [
        "### 0.1 ライブラリのインストール・インポート"
      ],
      "metadata": {
        "id": "8tC5WjHHwLAQ"
      }
    },
    {
      "cell_type": "code",
      "source": [
        "# !pip install optuna"
      ],
      "metadata": {
        "id": "RIidyo3KZrBY"
      },
      "execution_count": null,
      "outputs": []
    },
    {
      "cell_type": "code",
      "execution_count": null,
      "metadata": {
        "id": "7Hl7q7GBRA-N"
      },
      "outputs": [],
      "source": [
        "import numpy as np\n",
        "import pandas as pd\n",
        "from pandas import DataFrame, Series\n",
        "import matplotlib.pyplot as plt\n",
        "import seaborn as sns\n",
        "import re as re\n",
        "# import optuna\n",
        "\n",
        "from sklearn.model_selection import train_test_split, GridSearchCV, cross_validate\n",
        "from sklearn.ensemble import RandomForestRegressor, RandomForestClassifier\n",
        "from sklearn.feature_selection import SelectKBest\n",
        "from sklearn.pipeline import Pipeline, make_pipeline\n",
        "from sklearn.metrics import accuracy_score\n",
        "from sklearn.linear_model import LogisticRegression\n",
        "from sklearn.neural_network import MLPClassifier\n",
        "from sklearn import ensemble, model_selection\n",
        "\n",
        "import warnings\n",
        "warnings.filterwarnings(\"ignore\")"
      ]
    },
    {
      "cell_type": "markdown",
      "source": [
        "### 0.2 trainとtestデータの読み込み"
      ],
      "metadata": {
        "id": "0P8qnAV2wPbR"
      }
    },
    {
      "cell_type": "code",
      "source": [
        "# ファイルをセッションストレージにアップロード\n",
        "df = pd.read_csv(\"train.csv\")\n",
        "df_test = pd.read_csv(\"test.csv\")"
      ],
      "metadata": {
        "id": "TegJBGptv9ZP"
      },
      "execution_count": null,
      "outputs": []
    },
    {
      "cell_type": "markdown",
      "source": [
        "### 0.3 trainとtestデータを結合"
      ],
      "metadata": {
        "id": "0F6hNegqO8FU"
      }
    },
    {
      "cell_type": "code",
      "source": [
        "df_all = pd.concat([df, df_test], ignore_index=True)\n",
        "print(df_all.shape)\n",
        "df_all.tail()"
      ],
      "metadata": {
        "colab": {
          "base_uri": "https://localhost:8080/"
        },
        "id": "8tuxLy72PBOQ",
        "outputId": "afb4b1b7-b8fc-4272-afd5-3d858e4f96b7"
      },
      "execution_count": null,
      "outputs": [
        {
          "output_type": "stream",
          "name": "stdout",
          "text": [
            "(1309, 12)\n"
          ]
        },
        {
          "output_type": "execute_result",
          "data": {
            "text/plain": [
              "      PassengerId  Perished  Pclass                          Name     Sex  \\\n",
              "1304         1305       NaN       3            Spector, Mr. Woolf    male   \n",
              "1305         1306       NaN       1  Oliva y Ocana, Dona. Fermina  female   \n",
              "1306         1307       NaN       3  Saether, Mr. Simon Sivertsen    male   \n",
              "1307         1308       NaN       3           Ware, Mr. Frederick    male   \n",
              "1308         1309       NaN       3      Peter, Master. Michael J    male   \n",
              "\n",
              "       Age  SibSp  Parch              Ticket      Fare Cabin Embarked  \n",
              "1304   NaN      0      0           A.5. 3236    8.0500   NaN        S  \n",
              "1305  39.0      0      0            PC 17758  108.9000  C105        C  \n",
              "1306  38.5      0      0  SOTON/O.Q. 3101262    7.2500   NaN        S  \n",
              "1307   NaN      0      0              359309    8.0500   NaN        S  \n",
              "1308   NaN      1      1                2668   22.3583   NaN        C  "
            ],
            "text/html": [
              "\n",
              "  <div id=\"df-0d3adcc3-758b-48ee-84bd-e921f5e35c54\" class=\"colab-df-container\">\n",
              "    <div>\n",
              "<style scoped>\n",
              "    .dataframe tbody tr th:only-of-type {\n",
              "        vertical-align: middle;\n",
              "    }\n",
              "\n",
              "    .dataframe tbody tr th {\n",
              "        vertical-align: top;\n",
              "    }\n",
              "\n",
              "    .dataframe thead th {\n",
              "        text-align: right;\n",
              "    }\n",
              "</style>\n",
              "<table border=\"1\" class=\"dataframe\">\n",
              "  <thead>\n",
              "    <tr style=\"text-align: right;\">\n",
              "      <th></th>\n",
              "      <th>PassengerId</th>\n",
              "      <th>Perished</th>\n",
              "      <th>Pclass</th>\n",
              "      <th>Name</th>\n",
              "      <th>Sex</th>\n",
              "      <th>Age</th>\n",
              "      <th>SibSp</th>\n",
              "      <th>Parch</th>\n",
              "      <th>Ticket</th>\n",
              "      <th>Fare</th>\n",
              "      <th>Cabin</th>\n",
              "      <th>Embarked</th>\n",
              "    </tr>\n",
              "  </thead>\n",
              "  <tbody>\n",
              "    <tr>\n",
              "      <th>1304</th>\n",
              "      <td>1305</td>\n",
              "      <td>NaN</td>\n",
              "      <td>3</td>\n",
              "      <td>Spector, Mr. Woolf</td>\n",
              "      <td>male</td>\n",
              "      <td>NaN</td>\n",
              "      <td>0</td>\n",
              "      <td>0</td>\n",
              "      <td>A.5. 3236</td>\n",
              "      <td>8.0500</td>\n",
              "      <td>NaN</td>\n",
              "      <td>S</td>\n",
              "    </tr>\n",
              "    <tr>\n",
              "      <th>1305</th>\n",
              "      <td>1306</td>\n",
              "      <td>NaN</td>\n",
              "      <td>1</td>\n",
              "      <td>Oliva y Ocana, Dona. Fermina</td>\n",
              "      <td>female</td>\n",
              "      <td>39.0</td>\n",
              "      <td>0</td>\n",
              "      <td>0</td>\n",
              "      <td>PC 17758</td>\n",
              "      <td>108.9000</td>\n",
              "      <td>C105</td>\n",
              "      <td>C</td>\n",
              "    </tr>\n",
              "    <tr>\n",
              "      <th>1306</th>\n",
              "      <td>1307</td>\n",
              "      <td>NaN</td>\n",
              "      <td>3</td>\n",
              "      <td>Saether, Mr. Simon Sivertsen</td>\n",
              "      <td>male</td>\n",
              "      <td>38.5</td>\n",
              "      <td>0</td>\n",
              "      <td>0</td>\n",
              "      <td>SOTON/O.Q. 3101262</td>\n",
              "      <td>7.2500</td>\n",
              "      <td>NaN</td>\n",
              "      <td>S</td>\n",
              "    </tr>\n",
              "    <tr>\n",
              "      <th>1307</th>\n",
              "      <td>1308</td>\n",
              "      <td>NaN</td>\n",
              "      <td>3</td>\n",
              "      <td>Ware, Mr. Frederick</td>\n",
              "      <td>male</td>\n",
              "      <td>NaN</td>\n",
              "      <td>0</td>\n",
              "      <td>0</td>\n",
              "      <td>359309</td>\n",
              "      <td>8.0500</td>\n",
              "      <td>NaN</td>\n",
              "      <td>S</td>\n",
              "    </tr>\n",
              "    <tr>\n",
              "      <th>1308</th>\n",
              "      <td>1309</td>\n",
              "      <td>NaN</td>\n",
              "      <td>3</td>\n",
              "      <td>Peter, Master. Michael J</td>\n",
              "      <td>male</td>\n",
              "      <td>NaN</td>\n",
              "      <td>1</td>\n",
              "      <td>1</td>\n",
              "      <td>2668</td>\n",
              "      <td>22.3583</td>\n",
              "      <td>NaN</td>\n",
              "      <td>C</td>\n",
              "    </tr>\n",
              "  </tbody>\n",
              "</table>\n",
              "</div>\n",
              "    <div class=\"colab-df-buttons\">\n",
              "\n",
              "  <div class=\"colab-df-container\">\n",
              "    <button class=\"colab-df-convert\" onclick=\"convertToInteractive('df-0d3adcc3-758b-48ee-84bd-e921f5e35c54')\"\n",
              "            title=\"Convert this dataframe to an interactive table.\"\n",
              "            style=\"display:none;\">\n",
              "\n",
              "  <svg xmlns=\"http://www.w3.org/2000/svg\" height=\"24px\" viewBox=\"0 -960 960 960\">\n",
              "    <path d=\"M120-120v-720h720v720H120Zm60-500h600v-160H180v160Zm220 220h160v-160H400v160Zm0 220h160v-160H400v160ZM180-400h160v-160H180v160Zm440 0h160v-160H620v160ZM180-180h160v-160H180v160Zm440 0h160v-160H620v160Z\"/>\n",
              "  </svg>\n",
              "    </button>\n",
              "\n",
              "  <style>\n",
              "    .colab-df-container {\n",
              "      display:flex;\n",
              "      gap: 12px;\n",
              "    }\n",
              "\n",
              "    .colab-df-convert {\n",
              "      background-color: #E8F0FE;\n",
              "      border: none;\n",
              "      border-radius: 50%;\n",
              "      cursor: pointer;\n",
              "      display: none;\n",
              "      fill: #1967D2;\n",
              "      height: 32px;\n",
              "      padding: 0 0 0 0;\n",
              "      width: 32px;\n",
              "    }\n",
              "\n",
              "    .colab-df-convert:hover {\n",
              "      background-color: #E2EBFA;\n",
              "      box-shadow: 0px 1px 2px rgba(60, 64, 67, 0.3), 0px 1px 3px 1px rgba(60, 64, 67, 0.15);\n",
              "      fill: #174EA6;\n",
              "    }\n",
              "\n",
              "    .colab-df-buttons div {\n",
              "      margin-bottom: 4px;\n",
              "    }\n",
              "\n",
              "    [theme=dark] .colab-df-convert {\n",
              "      background-color: #3B4455;\n",
              "      fill: #D2E3FC;\n",
              "    }\n",
              "\n",
              "    [theme=dark] .colab-df-convert:hover {\n",
              "      background-color: #434B5C;\n",
              "      box-shadow: 0px 1px 3px 1px rgba(0, 0, 0, 0.15);\n",
              "      filter: drop-shadow(0px 1px 2px rgba(0, 0, 0, 0.3));\n",
              "      fill: #FFFFFF;\n",
              "    }\n",
              "  </style>\n",
              "\n",
              "    <script>\n",
              "      const buttonEl =\n",
              "        document.querySelector('#df-0d3adcc3-758b-48ee-84bd-e921f5e35c54 button.colab-df-convert');\n",
              "      buttonEl.style.display =\n",
              "        google.colab.kernel.accessAllowed ? 'block' : 'none';\n",
              "\n",
              "      async function convertToInteractive(key) {\n",
              "        const element = document.querySelector('#df-0d3adcc3-758b-48ee-84bd-e921f5e35c54');\n",
              "        const dataTable =\n",
              "          await google.colab.kernel.invokeFunction('convertToInteractive',\n",
              "                                                    [key], {});\n",
              "        if (!dataTable) return;\n",
              "\n",
              "        const docLinkHtml = 'Like what you see? Visit the ' +\n",
              "          '<a target=\"_blank\" href=https://colab.research.google.com/notebooks/data_table.ipynb>data table notebook</a>'\n",
              "          + ' to learn more about interactive tables.';\n",
              "        element.innerHTML = '';\n",
              "        dataTable['output_type'] = 'display_data';\n",
              "        await google.colab.output.renderOutput(dataTable, element);\n",
              "        const docLink = document.createElement('div');\n",
              "        docLink.innerHTML = docLinkHtml;\n",
              "        element.appendChild(docLink);\n",
              "      }\n",
              "    </script>\n",
              "  </div>\n",
              "\n",
              "\n",
              "<div id=\"df-3c74ea8c-d961-4827-a9d4-4cfcb9fe0670\">\n",
              "  <button class=\"colab-df-quickchart\" onclick=\"quickchart('df-3c74ea8c-d961-4827-a9d4-4cfcb9fe0670')\"\n",
              "            title=\"Suggest charts\"\n",
              "            style=\"display:none;\">\n",
              "\n",
              "<svg xmlns=\"http://www.w3.org/2000/svg\" height=\"24px\"viewBox=\"0 0 24 24\"\n",
              "     width=\"24px\">\n",
              "    <g>\n",
              "        <path d=\"M19 3H5c-1.1 0-2 .9-2 2v14c0 1.1.9 2 2 2h14c1.1 0 2-.9 2-2V5c0-1.1-.9-2-2-2zM9 17H7v-7h2v7zm4 0h-2V7h2v10zm4 0h-2v-4h2v4z\"/>\n",
              "    </g>\n",
              "</svg>\n",
              "  </button>\n",
              "\n",
              "<style>\n",
              "  .colab-df-quickchart {\n",
              "      --bg-color: #E8F0FE;\n",
              "      --fill-color: #1967D2;\n",
              "      --hover-bg-color: #E2EBFA;\n",
              "      --hover-fill-color: #174EA6;\n",
              "      --disabled-fill-color: #AAA;\n",
              "      --disabled-bg-color: #DDD;\n",
              "  }\n",
              "\n",
              "  [theme=dark] .colab-df-quickchart {\n",
              "      --bg-color: #3B4455;\n",
              "      --fill-color: #D2E3FC;\n",
              "      --hover-bg-color: #434B5C;\n",
              "      --hover-fill-color: #FFFFFF;\n",
              "      --disabled-bg-color: #3B4455;\n",
              "      --disabled-fill-color: #666;\n",
              "  }\n",
              "\n",
              "  .colab-df-quickchart {\n",
              "    background-color: var(--bg-color);\n",
              "    border: none;\n",
              "    border-radius: 50%;\n",
              "    cursor: pointer;\n",
              "    display: none;\n",
              "    fill: var(--fill-color);\n",
              "    height: 32px;\n",
              "    padding: 0;\n",
              "    width: 32px;\n",
              "  }\n",
              "\n",
              "  .colab-df-quickchart:hover {\n",
              "    background-color: var(--hover-bg-color);\n",
              "    box-shadow: 0 1px 2px rgba(60, 64, 67, 0.3), 0 1px 3px 1px rgba(60, 64, 67, 0.15);\n",
              "    fill: var(--button-hover-fill-color);\n",
              "  }\n",
              "\n",
              "  .colab-df-quickchart-complete:disabled,\n",
              "  .colab-df-quickchart-complete:disabled:hover {\n",
              "    background-color: var(--disabled-bg-color);\n",
              "    fill: var(--disabled-fill-color);\n",
              "    box-shadow: none;\n",
              "  }\n",
              "\n",
              "  .colab-df-spinner {\n",
              "    border: 2px solid var(--fill-color);\n",
              "    border-color: transparent;\n",
              "    border-bottom-color: var(--fill-color);\n",
              "    animation:\n",
              "      spin 1s steps(1) infinite;\n",
              "  }\n",
              "\n",
              "  @keyframes spin {\n",
              "    0% {\n",
              "      border-color: transparent;\n",
              "      border-bottom-color: var(--fill-color);\n",
              "      border-left-color: var(--fill-color);\n",
              "    }\n",
              "    20% {\n",
              "      border-color: transparent;\n",
              "      border-left-color: var(--fill-color);\n",
              "      border-top-color: var(--fill-color);\n",
              "    }\n",
              "    30% {\n",
              "      border-color: transparent;\n",
              "      border-left-color: var(--fill-color);\n",
              "      border-top-color: var(--fill-color);\n",
              "      border-right-color: var(--fill-color);\n",
              "    }\n",
              "    40% {\n",
              "      border-color: transparent;\n",
              "      border-right-color: var(--fill-color);\n",
              "      border-top-color: var(--fill-color);\n",
              "    }\n",
              "    60% {\n",
              "      border-color: transparent;\n",
              "      border-right-color: var(--fill-color);\n",
              "    }\n",
              "    80% {\n",
              "      border-color: transparent;\n",
              "      border-right-color: var(--fill-color);\n",
              "      border-bottom-color: var(--fill-color);\n",
              "    }\n",
              "    90% {\n",
              "      border-color: transparent;\n",
              "      border-bottom-color: var(--fill-color);\n",
              "    }\n",
              "  }\n",
              "</style>\n",
              "\n",
              "  <script>\n",
              "    async function quickchart(key) {\n",
              "      const quickchartButtonEl =\n",
              "        document.querySelector('#' + key + ' button');\n",
              "      quickchartButtonEl.disabled = true;  // To prevent multiple clicks.\n",
              "      quickchartButtonEl.classList.add('colab-df-spinner');\n",
              "      try {\n",
              "        const charts = await google.colab.kernel.invokeFunction(\n",
              "            'suggestCharts', [key], {});\n",
              "      } catch (error) {\n",
              "        console.error('Error during call to suggestCharts:', error);\n",
              "      }\n",
              "      quickchartButtonEl.classList.remove('colab-df-spinner');\n",
              "      quickchartButtonEl.classList.add('colab-df-quickchart-complete');\n",
              "    }\n",
              "    (() => {\n",
              "      let quickchartButtonEl =\n",
              "        document.querySelector('#df-3c74ea8c-d961-4827-a9d4-4cfcb9fe0670 button');\n",
              "      quickchartButtonEl.style.display =\n",
              "        google.colab.kernel.accessAllowed ? 'block' : 'none';\n",
              "    })();\n",
              "  </script>\n",
              "</div>\n",
              "    </div>\n",
              "  </div>\n"
            ]
          },
          "metadata": {},
          "execution_count": 4
        }
      ]
    },
    {
      "cell_type": "markdown",
      "source": [
        "## 1\\. 探索的データ分析 (EDA)"
      ],
      "metadata": {
        "id": "4VOw3jUPv4B4"
      }
    },
    {
      "cell_type": "markdown",
      "source": [
        "### 1.1 データの外観"
      ],
      "metadata": {
        "id": "V5sEU6LxwsfQ"
      }
    },
    {
      "cell_type": "code",
      "source": [
        "# データサイズを確認\n",
        "print(f\"訓練データ \\n  データ数: {df.shape[0]}  変数の種類: {df.shape[1]}\")\n",
        "print(f\"テストデータ \\n  データ数: {df_test.shape[0]}  変数の種類: {df_test.shape[1]}\")"
      ],
      "metadata": {
        "colab": {
          "base_uri": "https://localhost:8080/"
        },
        "id": "Gmx_gYvUwuTa",
        "outputId": "a59cc243-e037-485b-fb14-112901874238"
      },
      "execution_count": null,
      "outputs": [
        {
          "output_type": "stream",
          "name": "stdout",
          "text": [
            "訓練データ \n",
            "  データ数: 891  変数の種類: 12\n",
            "テストデータ \n",
            "  データ数: 418  変数の種類: 11\n"
          ]
        }
      ]
    },
    {
      "cell_type": "code",
      "source": [
        "# trainデータの先頭5行を表示\n",
        "df.head()"
      ],
      "metadata": {
        "colab": {
          "base_uri": "https://localhost:8080/"
        },
        "id": "rKSQWT7VzfLW",
        "outputId": "4ec5fd3a-9245-4d04-bf27-0f350083f2d7"
      },
      "execution_count": null,
      "outputs": [
        {
          "output_type": "execute_result",
          "data": {
            "text/plain": [
              "   PassengerId  Perished  Pclass  \\\n",
              "0            1         1       3   \n",
              "1            2         0       1   \n",
              "2            3         0       3   \n",
              "3            4         0       1   \n",
              "4            5         1       3   \n",
              "\n",
              "                                                Name     Sex   Age  SibSp  \\\n",
              "0                            Braund, Mr. Owen Harris    male  22.0      1   \n",
              "1  Cumings, Mrs. John Bradley (Florence Briggs Th...  female  38.0      1   \n",
              "2                             Heikkinen, Miss. Laina  female  26.0      0   \n",
              "3       Futrelle, Mrs. Jacques Heath (Lily May Peel)  female  35.0      1   \n",
              "4                           Allen, Mr. William Henry    male  35.0      0   \n",
              "\n",
              "   Parch            Ticket     Fare Cabin Embarked  \n",
              "0      0         A/5 21171   7.2500   NaN        S  \n",
              "1      0          PC 17599  71.2833   C85        C  \n",
              "2      0  STON/O2. 3101282   7.9250   NaN        S  \n",
              "3      0            113803  53.1000  C123        S  \n",
              "4      0            373450   8.0500   NaN        S  "
            ],
            "text/html": [
              "\n",
              "  <div id=\"df-06dfb0e6-f9bd-4443-9fc9-4f4da4d15d35\" class=\"colab-df-container\">\n",
              "    <div>\n",
              "<style scoped>\n",
              "    .dataframe tbody tr th:only-of-type {\n",
              "        vertical-align: middle;\n",
              "    }\n",
              "\n",
              "    .dataframe tbody tr th {\n",
              "        vertical-align: top;\n",
              "    }\n",
              "\n",
              "    .dataframe thead th {\n",
              "        text-align: right;\n",
              "    }\n",
              "</style>\n",
              "<table border=\"1\" class=\"dataframe\">\n",
              "  <thead>\n",
              "    <tr style=\"text-align: right;\">\n",
              "      <th></th>\n",
              "      <th>PassengerId</th>\n",
              "      <th>Perished</th>\n",
              "      <th>Pclass</th>\n",
              "      <th>Name</th>\n",
              "      <th>Sex</th>\n",
              "      <th>Age</th>\n",
              "      <th>SibSp</th>\n",
              "      <th>Parch</th>\n",
              "      <th>Ticket</th>\n",
              "      <th>Fare</th>\n",
              "      <th>Cabin</th>\n",
              "      <th>Embarked</th>\n",
              "    </tr>\n",
              "  </thead>\n",
              "  <tbody>\n",
              "    <tr>\n",
              "      <th>0</th>\n",
              "      <td>1</td>\n",
              "      <td>1</td>\n",
              "      <td>3</td>\n",
              "      <td>Braund, Mr. Owen Harris</td>\n",
              "      <td>male</td>\n",
              "      <td>22.0</td>\n",
              "      <td>1</td>\n",
              "      <td>0</td>\n",
              "      <td>A/5 21171</td>\n",
              "      <td>7.2500</td>\n",
              "      <td>NaN</td>\n",
              "      <td>S</td>\n",
              "    </tr>\n",
              "    <tr>\n",
              "      <th>1</th>\n",
              "      <td>2</td>\n",
              "      <td>0</td>\n",
              "      <td>1</td>\n",
              "      <td>Cumings, Mrs. John Bradley (Florence Briggs Th...</td>\n",
              "      <td>female</td>\n",
              "      <td>38.0</td>\n",
              "      <td>1</td>\n",
              "      <td>0</td>\n",
              "      <td>PC 17599</td>\n",
              "      <td>71.2833</td>\n",
              "      <td>C85</td>\n",
              "      <td>C</td>\n",
              "    </tr>\n",
              "    <tr>\n",
              "      <th>2</th>\n",
              "      <td>3</td>\n",
              "      <td>0</td>\n",
              "      <td>3</td>\n",
              "      <td>Heikkinen, Miss. Laina</td>\n",
              "      <td>female</td>\n",
              "      <td>26.0</td>\n",
              "      <td>0</td>\n",
              "      <td>0</td>\n",
              "      <td>STON/O2. 3101282</td>\n",
              "      <td>7.9250</td>\n",
              "      <td>NaN</td>\n",
              "      <td>S</td>\n",
              "    </tr>\n",
              "    <tr>\n",
              "      <th>3</th>\n",
              "      <td>4</td>\n",
              "      <td>0</td>\n",
              "      <td>1</td>\n",
              "      <td>Futrelle, Mrs. Jacques Heath (Lily May Peel)</td>\n",
              "      <td>female</td>\n",
              "      <td>35.0</td>\n",
              "      <td>1</td>\n",
              "      <td>0</td>\n",
              "      <td>113803</td>\n",
              "      <td>53.1000</td>\n",
              "      <td>C123</td>\n",
              "      <td>S</td>\n",
              "    </tr>\n",
              "    <tr>\n",
              "      <th>4</th>\n",
              "      <td>5</td>\n",
              "      <td>1</td>\n",
              "      <td>3</td>\n",
              "      <td>Allen, Mr. William Henry</td>\n",
              "      <td>male</td>\n",
              "      <td>35.0</td>\n",
              "      <td>0</td>\n",
              "      <td>0</td>\n",
              "      <td>373450</td>\n",
              "      <td>8.0500</td>\n",
              "      <td>NaN</td>\n",
              "      <td>S</td>\n",
              "    </tr>\n",
              "  </tbody>\n",
              "</table>\n",
              "</div>\n",
              "    <div class=\"colab-df-buttons\">\n",
              "\n",
              "  <div class=\"colab-df-container\">\n",
              "    <button class=\"colab-df-convert\" onclick=\"convertToInteractive('df-06dfb0e6-f9bd-4443-9fc9-4f4da4d15d35')\"\n",
              "            title=\"Convert this dataframe to an interactive table.\"\n",
              "            style=\"display:none;\">\n",
              "\n",
              "  <svg xmlns=\"http://www.w3.org/2000/svg\" height=\"24px\" viewBox=\"0 -960 960 960\">\n",
              "    <path d=\"M120-120v-720h720v720H120Zm60-500h600v-160H180v160Zm220 220h160v-160H400v160Zm0 220h160v-160H400v160ZM180-400h160v-160H180v160Zm440 0h160v-160H620v160ZM180-180h160v-160H180v160Zm440 0h160v-160H620v160Z\"/>\n",
              "  </svg>\n",
              "    </button>\n",
              "\n",
              "  <style>\n",
              "    .colab-df-container {\n",
              "      display:flex;\n",
              "      gap: 12px;\n",
              "    }\n",
              "\n",
              "    .colab-df-convert {\n",
              "      background-color: #E8F0FE;\n",
              "      border: none;\n",
              "      border-radius: 50%;\n",
              "      cursor: pointer;\n",
              "      display: none;\n",
              "      fill: #1967D2;\n",
              "      height: 32px;\n",
              "      padding: 0 0 0 0;\n",
              "      width: 32px;\n",
              "    }\n",
              "\n",
              "    .colab-df-convert:hover {\n",
              "      background-color: #E2EBFA;\n",
              "      box-shadow: 0px 1px 2px rgba(60, 64, 67, 0.3), 0px 1px 3px 1px rgba(60, 64, 67, 0.15);\n",
              "      fill: #174EA6;\n",
              "    }\n",
              "\n",
              "    .colab-df-buttons div {\n",
              "      margin-bottom: 4px;\n",
              "    }\n",
              "\n",
              "    [theme=dark] .colab-df-convert {\n",
              "      background-color: #3B4455;\n",
              "      fill: #D2E3FC;\n",
              "    }\n",
              "\n",
              "    [theme=dark] .colab-df-convert:hover {\n",
              "      background-color: #434B5C;\n",
              "      box-shadow: 0px 1px 3px 1px rgba(0, 0, 0, 0.15);\n",
              "      filter: drop-shadow(0px 1px 2px rgba(0, 0, 0, 0.3));\n",
              "      fill: #FFFFFF;\n",
              "    }\n",
              "  </style>\n",
              "\n",
              "    <script>\n",
              "      const buttonEl =\n",
              "        document.querySelector('#df-06dfb0e6-f9bd-4443-9fc9-4f4da4d15d35 button.colab-df-convert');\n",
              "      buttonEl.style.display =\n",
              "        google.colab.kernel.accessAllowed ? 'block' : 'none';\n",
              "\n",
              "      async function convertToInteractive(key) {\n",
              "        const element = document.querySelector('#df-06dfb0e6-f9bd-4443-9fc9-4f4da4d15d35');\n",
              "        const dataTable =\n",
              "          await google.colab.kernel.invokeFunction('convertToInteractive',\n",
              "                                                    [key], {});\n",
              "        if (!dataTable) return;\n",
              "\n",
              "        const docLinkHtml = 'Like what you see? Visit the ' +\n",
              "          '<a target=\"_blank\" href=https://colab.research.google.com/notebooks/data_table.ipynb>data table notebook</a>'\n",
              "          + ' to learn more about interactive tables.';\n",
              "        element.innerHTML = '';\n",
              "        dataTable['output_type'] = 'display_data';\n",
              "        await google.colab.output.renderOutput(dataTable, element);\n",
              "        const docLink = document.createElement('div');\n",
              "        docLink.innerHTML = docLinkHtml;\n",
              "        element.appendChild(docLink);\n",
              "      }\n",
              "    </script>\n",
              "  </div>\n",
              "\n",
              "\n",
              "<div id=\"df-e41ab03b-0638-4808-8c3e-d5949f2968ae\">\n",
              "  <button class=\"colab-df-quickchart\" onclick=\"quickchart('df-e41ab03b-0638-4808-8c3e-d5949f2968ae')\"\n",
              "            title=\"Suggest charts\"\n",
              "            style=\"display:none;\">\n",
              "\n",
              "<svg xmlns=\"http://www.w3.org/2000/svg\" height=\"24px\"viewBox=\"0 0 24 24\"\n",
              "     width=\"24px\">\n",
              "    <g>\n",
              "        <path d=\"M19 3H5c-1.1 0-2 .9-2 2v14c0 1.1.9 2 2 2h14c1.1 0 2-.9 2-2V5c0-1.1-.9-2-2-2zM9 17H7v-7h2v7zm4 0h-2V7h2v10zm4 0h-2v-4h2v4z\"/>\n",
              "    </g>\n",
              "</svg>\n",
              "  </button>\n",
              "\n",
              "<style>\n",
              "  .colab-df-quickchart {\n",
              "      --bg-color: #E8F0FE;\n",
              "      --fill-color: #1967D2;\n",
              "      --hover-bg-color: #E2EBFA;\n",
              "      --hover-fill-color: #174EA6;\n",
              "      --disabled-fill-color: #AAA;\n",
              "      --disabled-bg-color: #DDD;\n",
              "  }\n",
              "\n",
              "  [theme=dark] .colab-df-quickchart {\n",
              "      --bg-color: #3B4455;\n",
              "      --fill-color: #D2E3FC;\n",
              "      --hover-bg-color: #434B5C;\n",
              "      --hover-fill-color: #FFFFFF;\n",
              "      --disabled-bg-color: #3B4455;\n",
              "      --disabled-fill-color: #666;\n",
              "  }\n",
              "\n",
              "  .colab-df-quickchart {\n",
              "    background-color: var(--bg-color);\n",
              "    border: none;\n",
              "    border-radius: 50%;\n",
              "    cursor: pointer;\n",
              "    display: none;\n",
              "    fill: var(--fill-color);\n",
              "    height: 32px;\n",
              "    padding: 0;\n",
              "    width: 32px;\n",
              "  }\n",
              "\n",
              "  .colab-df-quickchart:hover {\n",
              "    background-color: var(--hover-bg-color);\n",
              "    box-shadow: 0 1px 2px rgba(60, 64, 67, 0.3), 0 1px 3px 1px rgba(60, 64, 67, 0.15);\n",
              "    fill: var(--button-hover-fill-color);\n",
              "  }\n",
              "\n",
              "  .colab-df-quickchart-complete:disabled,\n",
              "  .colab-df-quickchart-complete:disabled:hover {\n",
              "    background-color: var(--disabled-bg-color);\n",
              "    fill: var(--disabled-fill-color);\n",
              "    box-shadow: none;\n",
              "  }\n",
              "\n",
              "  .colab-df-spinner {\n",
              "    border: 2px solid var(--fill-color);\n",
              "    border-color: transparent;\n",
              "    border-bottom-color: var(--fill-color);\n",
              "    animation:\n",
              "      spin 1s steps(1) infinite;\n",
              "  }\n",
              "\n",
              "  @keyframes spin {\n",
              "    0% {\n",
              "      border-color: transparent;\n",
              "      border-bottom-color: var(--fill-color);\n",
              "      border-left-color: var(--fill-color);\n",
              "    }\n",
              "    20% {\n",
              "      border-color: transparent;\n",
              "      border-left-color: var(--fill-color);\n",
              "      border-top-color: var(--fill-color);\n",
              "    }\n",
              "    30% {\n",
              "      border-color: transparent;\n",
              "      border-left-color: var(--fill-color);\n",
              "      border-top-color: var(--fill-color);\n",
              "      border-right-color: var(--fill-color);\n",
              "    }\n",
              "    40% {\n",
              "      border-color: transparent;\n",
              "      border-right-color: var(--fill-color);\n",
              "      border-top-color: var(--fill-color);\n",
              "    }\n",
              "    60% {\n",
              "      border-color: transparent;\n",
              "      border-right-color: var(--fill-color);\n",
              "    }\n",
              "    80% {\n",
              "      border-color: transparent;\n",
              "      border-right-color: var(--fill-color);\n",
              "      border-bottom-color: var(--fill-color);\n",
              "    }\n",
              "    90% {\n",
              "      border-color: transparent;\n",
              "      border-bottom-color: var(--fill-color);\n",
              "    }\n",
              "  }\n",
              "</style>\n",
              "\n",
              "  <script>\n",
              "    async function quickchart(key) {\n",
              "      const quickchartButtonEl =\n",
              "        document.querySelector('#' + key + ' button');\n",
              "      quickchartButtonEl.disabled = true;  // To prevent multiple clicks.\n",
              "      quickchartButtonEl.classList.add('colab-df-spinner');\n",
              "      try {\n",
              "        const charts = await google.colab.kernel.invokeFunction(\n",
              "            'suggestCharts', [key], {});\n",
              "      } catch (error) {\n",
              "        console.error('Error during call to suggestCharts:', error);\n",
              "      }\n",
              "      quickchartButtonEl.classList.remove('colab-df-spinner');\n",
              "      quickchartButtonEl.classList.add('colab-df-quickchart-complete');\n",
              "    }\n",
              "    (() => {\n",
              "      let quickchartButtonEl =\n",
              "        document.querySelector('#df-e41ab03b-0638-4808-8c3e-d5949f2968ae button');\n",
              "      quickchartButtonEl.style.display =\n",
              "        google.colab.kernel.accessAllowed ? 'block' : 'none';\n",
              "    })();\n",
              "  </script>\n",
              "</div>\n",
              "    </div>\n",
              "  </div>\n"
            ]
          },
          "metadata": {},
          "execution_count": 6
        }
      ]
    },
    {
      "cell_type": "markdown",
      "source": [
        "### 1.2 各特徴量の型や意味"
      ],
      "metadata": {
        "id": "V5UJ3L95h77c"
      }
    },
    {
      "cell_type": "code",
      "source": [
        "# trainデータの型を確認\n",
        "df.dtypes"
      ],
      "metadata": {
        "colab": {
          "base_uri": "https://localhost:8080/"
        },
        "id": "GLys77EpOS50",
        "outputId": "05d64bfc-2da0-4268-a54b-c1a21ce9aeab"
      },
      "execution_count": null,
      "outputs": [
        {
          "output_type": "execute_result",
          "data": {
            "text/plain": [
              "PassengerId      int64\n",
              "Perished         int64\n",
              "Pclass           int64\n",
              "Name            object\n",
              "Sex             object\n",
              "Age            float64\n",
              "SibSp            int64\n",
              "Parch            int64\n",
              "Ticket          object\n",
              "Fare           float64\n",
              "Cabin           object\n",
              "Embarked        object\n",
              "dtype: object"
            ]
          },
          "metadata": {},
          "execution_count": 7
        }
      ]
    },
    {
      "cell_type": "markdown",
      "source": [
        "各特徴量の詳細\n",
        "\n",
        "特徴量 |定義 |備考  \n",
        "---|---|---\n",
        "Perished |死亡したかどうか |0 = No, 1 = Yes\n",
        "Pclass |チケットのクラス |1 = 1st, 2 = 2nd, 3 = 3rd\n",
        "Name |名前 |\n",
        "Sex |性別 |\n",
        "Age\t|年齢 |\n",
        "SibSp |乗船していた兄弟姉妹・配偶者の数\t|\n",
        "Parch |乗船していた親・子供の数\t|\n",
        "Ticket |チケット番号\t|\n",
        "Fare |チケット料金\t|\n",
        "Cabin |キャビン番号\t|\n",
        "Embarked |乗船した港\t|C = Cherbourg, Q = Queenstown, S = Southampton"
      ],
      "metadata": {
        "id": "q_tg6V680qhH"
      }
    },
    {
      "cell_type": "markdown",
      "source": [
        "### 1.3 各特徴量の統計量"
      ],
      "metadata": {
        "id": "ZQRxldYXhVCw"
      }
    },
    {
      "cell_type": "code",
      "source": [
        "# trainデータの統計量\n",
        "df.describe()"
      ],
      "metadata": {
        "colab": {
          "base_uri": "https://localhost:8080/"
        },
        "id": "UQysnZLzf6Nl",
        "outputId": "01a68502-4d61-48fc-d7c8-fcabd9e2e6ae"
      },
      "execution_count": null,
      "outputs": [
        {
          "output_type": "execute_result",
          "data": {
            "text/plain": [
              "       PassengerId    Perished      Pclass         Age       SibSp  \\\n",
              "count   891.000000  891.000000  891.000000  714.000000  891.000000   \n",
              "mean    446.000000    0.616162    2.308642   29.699118    0.523008   \n",
              "std     257.353842    0.486592    0.836071   14.526497    1.102743   \n",
              "min       1.000000    0.000000    1.000000    0.420000    0.000000   \n",
              "25%     223.500000    0.000000    2.000000   20.125000    0.000000   \n",
              "50%     446.000000    1.000000    3.000000   28.000000    0.000000   \n",
              "75%     668.500000    1.000000    3.000000   38.000000    1.000000   \n",
              "max     891.000000    1.000000    3.000000   80.000000    8.000000   \n",
              "\n",
              "            Parch        Fare  \n",
              "count  891.000000  891.000000  \n",
              "mean     0.381594   32.204208  \n",
              "std      0.806057   49.693429  \n",
              "min      0.000000    0.000000  \n",
              "25%      0.000000    7.910400  \n",
              "50%      0.000000   14.454200  \n",
              "75%      0.000000   31.000000  \n",
              "max      6.000000  512.329200  "
            ],
            "text/html": [
              "\n",
              "  <div id=\"df-dc32fd49-c270-46d9-892c-e7053810ef51\" class=\"colab-df-container\">\n",
              "    <div>\n",
              "<style scoped>\n",
              "    .dataframe tbody tr th:only-of-type {\n",
              "        vertical-align: middle;\n",
              "    }\n",
              "\n",
              "    .dataframe tbody tr th {\n",
              "        vertical-align: top;\n",
              "    }\n",
              "\n",
              "    .dataframe thead th {\n",
              "        text-align: right;\n",
              "    }\n",
              "</style>\n",
              "<table border=\"1\" class=\"dataframe\">\n",
              "  <thead>\n",
              "    <tr style=\"text-align: right;\">\n",
              "      <th></th>\n",
              "      <th>PassengerId</th>\n",
              "      <th>Perished</th>\n",
              "      <th>Pclass</th>\n",
              "      <th>Age</th>\n",
              "      <th>SibSp</th>\n",
              "      <th>Parch</th>\n",
              "      <th>Fare</th>\n",
              "    </tr>\n",
              "  </thead>\n",
              "  <tbody>\n",
              "    <tr>\n",
              "      <th>count</th>\n",
              "      <td>891.000000</td>\n",
              "      <td>891.000000</td>\n",
              "      <td>891.000000</td>\n",
              "      <td>714.000000</td>\n",
              "      <td>891.000000</td>\n",
              "      <td>891.000000</td>\n",
              "      <td>891.000000</td>\n",
              "    </tr>\n",
              "    <tr>\n",
              "      <th>mean</th>\n",
              "      <td>446.000000</td>\n",
              "      <td>0.616162</td>\n",
              "      <td>2.308642</td>\n",
              "      <td>29.699118</td>\n",
              "      <td>0.523008</td>\n",
              "      <td>0.381594</td>\n",
              "      <td>32.204208</td>\n",
              "    </tr>\n",
              "    <tr>\n",
              "      <th>std</th>\n",
              "      <td>257.353842</td>\n",
              "      <td>0.486592</td>\n",
              "      <td>0.836071</td>\n",
              "      <td>14.526497</td>\n",
              "      <td>1.102743</td>\n",
              "      <td>0.806057</td>\n",
              "      <td>49.693429</td>\n",
              "    </tr>\n",
              "    <tr>\n",
              "      <th>min</th>\n",
              "      <td>1.000000</td>\n",
              "      <td>0.000000</td>\n",
              "      <td>1.000000</td>\n",
              "      <td>0.420000</td>\n",
              "      <td>0.000000</td>\n",
              "      <td>0.000000</td>\n",
              "      <td>0.000000</td>\n",
              "    </tr>\n",
              "    <tr>\n",
              "      <th>25%</th>\n",
              "      <td>223.500000</td>\n",
              "      <td>0.000000</td>\n",
              "      <td>2.000000</td>\n",
              "      <td>20.125000</td>\n",
              "      <td>0.000000</td>\n",
              "      <td>0.000000</td>\n",
              "      <td>7.910400</td>\n",
              "    </tr>\n",
              "    <tr>\n",
              "      <th>50%</th>\n",
              "      <td>446.000000</td>\n",
              "      <td>1.000000</td>\n",
              "      <td>3.000000</td>\n",
              "      <td>28.000000</td>\n",
              "      <td>0.000000</td>\n",
              "      <td>0.000000</td>\n",
              "      <td>14.454200</td>\n",
              "    </tr>\n",
              "    <tr>\n",
              "      <th>75%</th>\n",
              "      <td>668.500000</td>\n",
              "      <td>1.000000</td>\n",
              "      <td>3.000000</td>\n",
              "      <td>38.000000</td>\n",
              "      <td>1.000000</td>\n",
              "      <td>0.000000</td>\n",
              "      <td>31.000000</td>\n",
              "    </tr>\n",
              "    <tr>\n",
              "      <th>max</th>\n",
              "      <td>891.000000</td>\n",
              "      <td>1.000000</td>\n",
              "      <td>3.000000</td>\n",
              "      <td>80.000000</td>\n",
              "      <td>8.000000</td>\n",
              "      <td>6.000000</td>\n",
              "      <td>512.329200</td>\n",
              "    </tr>\n",
              "  </tbody>\n",
              "</table>\n",
              "</div>\n",
              "    <div class=\"colab-df-buttons\">\n",
              "\n",
              "  <div class=\"colab-df-container\">\n",
              "    <button class=\"colab-df-convert\" onclick=\"convertToInteractive('df-dc32fd49-c270-46d9-892c-e7053810ef51')\"\n",
              "            title=\"Convert this dataframe to an interactive table.\"\n",
              "            style=\"display:none;\">\n",
              "\n",
              "  <svg xmlns=\"http://www.w3.org/2000/svg\" height=\"24px\" viewBox=\"0 -960 960 960\">\n",
              "    <path d=\"M120-120v-720h720v720H120Zm60-500h600v-160H180v160Zm220 220h160v-160H400v160Zm0 220h160v-160H400v160ZM180-400h160v-160H180v160Zm440 0h160v-160H620v160ZM180-180h160v-160H180v160Zm440 0h160v-160H620v160Z\"/>\n",
              "  </svg>\n",
              "    </button>\n",
              "\n",
              "  <style>\n",
              "    .colab-df-container {\n",
              "      display:flex;\n",
              "      gap: 12px;\n",
              "    }\n",
              "\n",
              "    .colab-df-convert {\n",
              "      background-color: #E8F0FE;\n",
              "      border: none;\n",
              "      border-radius: 50%;\n",
              "      cursor: pointer;\n",
              "      display: none;\n",
              "      fill: #1967D2;\n",
              "      height: 32px;\n",
              "      padding: 0 0 0 0;\n",
              "      width: 32px;\n",
              "    }\n",
              "\n",
              "    .colab-df-convert:hover {\n",
              "      background-color: #E2EBFA;\n",
              "      box-shadow: 0px 1px 2px rgba(60, 64, 67, 0.3), 0px 1px 3px 1px rgba(60, 64, 67, 0.15);\n",
              "      fill: #174EA6;\n",
              "    }\n",
              "\n",
              "    .colab-df-buttons div {\n",
              "      margin-bottom: 4px;\n",
              "    }\n",
              "\n",
              "    [theme=dark] .colab-df-convert {\n",
              "      background-color: #3B4455;\n",
              "      fill: #D2E3FC;\n",
              "    }\n",
              "\n",
              "    [theme=dark] .colab-df-convert:hover {\n",
              "      background-color: #434B5C;\n",
              "      box-shadow: 0px 1px 3px 1px rgba(0, 0, 0, 0.15);\n",
              "      filter: drop-shadow(0px 1px 2px rgba(0, 0, 0, 0.3));\n",
              "      fill: #FFFFFF;\n",
              "    }\n",
              "  </style>\n",
              "\n",
              "    <script>\n",
              "      const buttonEl =\n",
              "        document.querySelector('#df-dc32fd49-c270-46d9-892c-e7053810ef51 button.colab-df-convert');\n",
              "      buttonEl.style.display =\n",
              "        google.colab.kernel.accessAllowed ? 'block' : 'none';\n",
              "\n",
              "      async function convertToInteractive(key) {\n",
              "        const element = document.querySelector('#df-dc32fd49-c270-46d9-892c-e7053810ef51');\n",
              "        const dataTable =\n",
              "          await google.colab.kernel.invokeFunction('convertToInteractive',\n",
              "                                                    [key], {});\n",
              "        if (!dataTable) return;\n",
              "\n",
              "        const docLinkHtml = 'Like what you see? Visit the ' +\n",
              "          '<a target=\"_blank\" href=https://colab.research.google.com/notebooks/data_table.ipynb>data table notebook</a>'\n",
              "          + ' to learn more about interactive tables.';\n",
              "        element.innerHTML = '';\n",
              "        dataTable['output_type'] = 'display_data';\n",
              "        await google.colab.output.renderOutput(dataTable, element);\n",
              "        const docLink = document.createElement('div');\n",
              "        docLink.innerHTML = docLinkHtml;\n",
              "        element.appendChild(docLink);\n",
              "      }\n",
              "    </script>\n",
              "  </div>\n",
              "\n",
              "\n",
              "<div id=\"df-7479a7fb-a44c-402a-b41e-9820915c8116\">\n",
              "  <button class=\"colab-df-quickchart\" onclick=\"quickchart('df-7479a7fb-a44c-402a-b41e-9820915c8116')\"\n",
              "            title=\"Suggest charts\"\n",
              "            style=\"display:none;\">\n",
              "\n",
              "<svg xmlns=\"http://www.w3.org/2000/svg\" height=\"24px\"viewBox=\"0 0 24 24\"\n",
              "     width=\"24px\">\n",
              "    <g>\n",
              "        <path d=\"M19 3H5c-1.1 0-2 .9-2 2v14c0 1.1.9 2 2 2h14c1.1 0 2-.9 2-2V5c0-1.1-.9-2-2-2zM9 17H7v-7h2v7zm4 0h-2V7h2v10zm4 0h-2v-4h2v4z\"/>\n",
              "    </g>\n",
              "</svg>\n",
              "  </button>\n",
              "\n",
              "<style>\n",
              "  .colab-df-quickchart {\n",
              "      --bg-color: #E8F0FE;\n",
              "      --fill-color: #1967D2;\n",
              "      --hover-bg-color: #E2EBFA;\n",
              "      --hover-fill-color: #174EA6;\n",
              "      --disabled-fill-color: #AAA;\n",
              "      --disabled-bg-color: #DDD;\n",
              "  }\n",
              "\n",
              "  [theme=dark] .colab-df-quickchart {\n",
              "      --bg-color: #3B4455;\n",
              "      --fill-color: #D2E3FC;\n",
              "      --hover-bg-color: #434B5C;\n",
              "      --hover-fill-color: #FFFFFF;\n",
              "      --disabled-bg-color: #3B4455;\n",
              "      --disabled-fill-color: #666;\n",
              "  }\n",
              "\n",
              "  .colab-df-quickchart {\n",
              "    background-color: var(--bg-color);\n",
              "    border: none;\n",
              "    border-radius: 50%;\n",
              "    cursor: pointer;\n",
              "    display: none;\n",
              "    fill: var(--fill-color);\n",
              "    height: 32px;\n",
              "    padding: 0;\n",
              "    width: 32px;\n",
              "  }\n",
              "\n",
              "  .colab-df-quickchart:hover {\n",
              "    background-color: var(--hover-bg-color);\n",
              "    box-shadow: 0 1px 2px rgba(60, 64, 67, 0.3), 0 1px 3px 1px rgba(60, 64, 67, 0.15);\n",
              "    fill: var(--button-hover-fill-color);\n",
              "  }\n",
              "\n",
              "  .colab-df-quickchart-complete:disabled,\n",
              "  .colab-df-quickchart-complete:disabled:hover {\n",
              "    background-color: var(--disabled-bg-color);\n",
              "    fill: var(--disabled-fill-color);\n",
              "    box-shadow: none;\n",
              "  }\n",
              "\n",
              "  .colab-df-spinner {\n",
              "    border: 2px solid var(--fill-color);\n",
              "    border-color: transparent;\n",
              "    border-bottom-color: var(--fill-color);\n",
              "    animation:\n",
              "      spin 1s steps(1) infinite;\n",
              "  }\n",
              "\n",
              "  @keyframes spin {\n",
              "    0% {\n",
              "      border-color: transparent;\n",
              "      border-bottom-color: var(--fill-color);\n",
              "      border-left-color: var(--fill-color);\n",
              "    }\n",
              "    20% {\n",
              "      border-color: transparent;\n",
              "      border-left-color: var(--fill-color);\n",
              "      border-top-color: var(--fill-color);\n",
              "    }\n",
              "    30% {\n",
              "      border-color: transparent;\n",
              "      border-left-color: var(--fill-color);\n",
              "      border-top-color: var(--fill-color);\n",
              "      border-right-color: var(--fill-color);\n",
              "    }\n",
              "    40% {\n",
              "      border-color: transparent;\n",
              "      border-right-color: var(--fill-color);\n",
              "      border-top-color: var(--fill-color);\n",
              "    }\n",
              "    60% {\n",
              "      border-color: transparent;\n",
              "      border-right-color: var(--fill-color);\n",
              "    }\n",
              "    80% {\n",
              "      border-color: transparent;\n",
              "      border-right-color: var(--fill-color);\n",
              "      border-bottom-color: var(--fill-color);\n",
              "    }\n",
              "    90% {\n",
              "      border-color: transparent;\n",
              "      border-bottom-color: var(--fill-color);\n",
              "    }\n",
              "  }\n",
              "</style>\n",
              "\n",
              "  <script>\n",
              "    async function quickchart(key) {\n",
              "      const quickchartButtonEl =\n",
              "        document.querySelector('#' + key + ' button');\n",
              "      quickchartButtonEl.disabled = true;  // To prevent multiple clicks.\n",
              "      quickchartButtonEl.classList.add('colab-df-spinner');\n",
              "      try {\n",
              "        const charts = await google.colab.kernel.invokeFunction(\n",
              "            'suggestCharts', [key], {});\n",
              "      } catch (error) {\n",
              "        console.error('Error during call to suggestCharts:', error);\n",
              "      }\n",
              "      quickchartButtonEl.classList.remove('colab-df-spinner');\n",
              "      quickchartButtonEl.classList.add('colab-df-quickchart-complete');\n",
              "    }\n",
              "    (() => {\n",
              "      let quickchartButtonEl =\n",
              "        document.querySelector('#df-7479a7fb-a44c-402a-b41e-9820915c8116 button');\n",
              "      quickchartButtonEl.style.display =\n",
              "        google.colab.kernel.accessAllowed ? 'block' : 'none';\n",
              "    })();\n",
              "  </script>\n",
              "</div>\n",
              "    </div>\n",
              "  </div>\n"
            ]
          },
          "metadata": {},
          "execution_count": 8
        }
      ]
    },
    {
      "cell_type": "markdown",
      "source": [
        "### 1.4 各特徴量の相関関係"
      ],
      "metadata": {
        "id": "KcIxEEbUkFPK"
      }
    },
    {
      "cell_type": "code",
      "source": [
        "# trainデータの相関行列のヒートマップ\n",
        "sns.heatmap(df.corr(), annot=True, cmap=\"bwr\", linewidths=0.2)\n",
        "fig=plt.gcf()\n",
        "fig.set_size_inches(6, 4)\n",
        "plt.show()"
      ],
      "metadata": {
        "colab": {
          "base_uri": "https://localhost:8080/"
        },
        "id": "rhEzbksw6NtS",
        "outputId": "676311e6-2812-4519-dd0a-baa675a82536"
      },
      "execution_count": null,
      "outputs": [
        {
          "output_type": "display_data",
          "data": {
            "text/plain": [
              "<Figure size 600x400 with 2 Axes>"
            ],
            "image/png": "[encoded data removed]"
          },
          "metadata": {}
        }
      ]
    },
    {
      "cell_type": "markdown",
      "source": [
        "知見  \n",
        "・SibSp (siblings/spouse) とParch (parent/child) の相関が強い  \n",
        "・Pclassの値が小さいほどチケットのグレードが高い"
      ],
      "metadata": {
        "id": "XMptszmXMibY"
      }
    },
    {
      "cell_type": "markdown",
      "source": [
        "### 1.5 欠損値の確認"
      ],
      "metadata": {
        "id": "oo7pGSOVgMNI"
      }
    },
    {
      "cell_type": "code",
      "source": [
        "# trainデータの欠損値を確認\n",
        "df.isnull().sum()"
      ],
      "metadata": {
        "colab": {
          "base_uri": "https://localhost:8080/"
        },
        "id": "t8K0qkbB2Cns",
        "outputId": "e9370ca4-658a-4679-bda3-7ea2e789d9f4"
      },
      "execution_count": null,
      "outputs": [
        {
          "output_type": "execute_result",
          "data": {
            "text/plain": [
              "PassengerId      0\n",
              "Perished         0\n",
              "Pclass           0\n",
              "Name             0\n",
              "Sex              0\n",
              "Age            177\n",
              "SibSp            0\n",
              "Parch            0\n",
              "Ticket           0\n",
              "Fare             0\n",
              "Cabin          687\n",
              "Embarked         2\n",
              "dtype: int64"
            ]
          },
          "metadata": {},
          "execution_count": 10
        }
      ]
    },
    {
      "cell_type": "code",
      "source": [
        "# testデータの欠損値を確認\n",
        "df_test.isnull().sum()"
      ],
      "metadata": {
        "colab": {
          "base_uri": "https://localhost:8080/"
        },
        "id": "Jmd7Tyyh2gY9",
        "outputId": "79baff9a-6b56-4b7c-e727-6418ef419539"
      },
      "execution_count": null,
      "outputs": [
        {
          "output_type": "execute_result",
          "data": {
            "text/plain": [
              "PassengerId      0\n",
              "Pclass           0\n",
              "Name             0\n",
              "Sex              0\n",
              "Age             86\n",
              "SibSp            0\n",
              "Parch            0\n",
              "Ticket           0\n",
              "Fare             1\n",
              "Cabin          327\n",
              "Embarked         0\n",
              "dtype: int64"
            ]
          },
          "metadata": {},
          "execution_count": 11
        }
      ]
    },
    {
      "cell_type": "markdown",
      "source": [
        "### 1.6 分布の可視化"
      ],
      "metadata": {
        "id": "v6pEGcBfgTQz"
      }
    },
    {
      "cell_type": "markdown",
      "source": [
        "#### 1.6.1 データ全体の生死"
      ],
      "metadata": {
        "id": "654wcS8GRkBH"
      }
    },
    {
      "cell_type": "code",
      "source": [
        "f, ax = plt.subplots(1, 2, figsize=(6, 3), facecolor=\"gray\")\n",
        "f.subplots_adjust(wspace=0.3)\n",
        "df[\"Perished\"].value_counts().plot.pie(explode=[0, 0.1], autopct=\"%1.1f%%\", ax=ax[0], shadow=True)\n",
        "ax[0].set_title(\"Perished\")\n",
        "ax[0].set_ylabel(\"\")\n",
        "sns.countplot(x=\"Perished\", data=df, ax=ax[1])\n",
        "ax[1].set_title(\"Perished\")\n",
        "plt.show()"
      ],
      "metadata": {
        "colab": {
          "base_uri": "https://localhost:8080/"
        },
        "id": "_XWlzH7b3GMC",
        "outputId": "d99d7554-770b-412c-a6db-d82ca1c02d05"
      },
      "execution_count": null,
      "outputs": [
        {
          "output_type": "display_data",
          "data": {
            "text/plain": [
              "<Figure size 600x300 with 2 Axes>"
            ],
            "image/png": "[encoded data removed]"
          },
          "metadata": {}
        }
      ]
    },
    {
      "cell_type": "markdown",
      "source": [
        "#### 1.6.2 性別ごとの人数と死亡率"
      ],
      "metadata": {
        "id": "HZa9NajYSFHi"
      }
    },
    {
      "cell_type": "code",
      "source": [
        "f, ax = plt.subplots(1, 2, figsize=(8, 4), facecolor=\"gray\")\n",
        "f.subplots_adjust(wspace=0.3)\n",
        "sns.countplot(x=\"Sex\", data=df, ax=ax[0])\n",
        "ax[0].set_title(\"Number of passengers by Sex\")\n",
        "ax[0].set_ylabel(\"Count\")\n",
        "sns.barplot(x=\"Sex\", y=\"Perished\", data=df, ax=ax[1])\n",
        "ax[1].set_title(\"Perished rate by Sex\", fontsize=12)\n",
        "ax[1].set_ylabel(\"Perished rate\")\n",
        "plt.show()"
      ],
      "metadata": {
        "colab": {
          "base_uri": "https://localhost:8080/"
        },
        "id": "MrHju-VQYCbL",
        "outputId": "ee3baa3b-0adc-4f14-ac0c-545dd5f2f213"
      },
      "execution_count": null,
      "outputs": [
        {
          "output_type": "display_data",
          "data": {
            "text/plain": [
              "<Figure size 800x400 with 2 Axes>"
            ],
            "image/png": "[encoded data removed]"
          },
          "metadata": {}
        }
      ]
    },
    {
      "cell_type": "code",
      "source": [
        "df[[\"Sex\", \"Perished\"]].groupby([\"Sex\"], as_index=True).mean()"
      ],
      "metadata": {
        "colab": {
          "base_uri": "https://localhost:8080/"
        },
        "id": "Rv2grCL0Y7qx",
        "outputId": "4414242d-b40e-4179-ff61-bddac0bf1739"
      },
      "execution_count": null,
      "outputs": [
        {
          "output_type": "execute_result",
          "data": {
            "text/plain": [
              "        Perished\n",
              "Sex             \n",
              "female  0.257962\n",
              "male    0.811092"
            ],
            "text/html": [
              "\n",
              "  <div id=\"df-98b12762-9c94-4044-8c36-e6b792c2a34c\" class=\"colab-df-container\">\n",
              "    <div>\n",
              "<style scoped>\n",
              "    .dataframe tbody tr th:only-of-type {\n",
              "        vertical-align: middle;\n",
              "    }\n",
              "\n",
              "    .dataframe tbody tr th {\n",
              "        vertical-align: top;\n",
              "    }\n",
              "\n",
              "    .dataframe thead th {\n",
              "        text-align: right;\n",
              "    }\n",
              "</style>\n",
              "<table border=\"1\" class=\"dataframe\">\n",
              "  <thead>\n",
              "    <tr style=\"text-align: right;\">\n",
              "      <th></th>\n",
              "      <th>Perished</th>\n",
              "    </tr>\n",
              "    <tr>\n",
              "      <th>Sex</th>\n",
              "      <th></th>\n",
              "    </tr>\n",
              "  </thead>\n",
              "  <tbody>\n",
              "    <tr>\n",
              "      <th>female</th>\n",
              "      <td>0.257962</td>\n",
              "    </tr>\n",
              "    <tr>\n",
              "      <th>male</th>\n",
              "      <td>0.811092</td>\n",
              "    </tr>\n",
              "  </tbody>\n",
              "</table>\n",
              "</div>\n",
              "    <div class=\"colab-df-buttons\">\n",
              "\n",
              "  <div class=\"colab-df-container\">\n",
              "    <button class=\"colab-df-convert\" onclick=\"convertToInteractive('df-98b12762-9c94-4044-8c36-e6b792c2a34c')\"\n",
              "            title=\"Convert this dataframe to an interactive table.\"\n",
              "            style=\"display:none;\">\n",
              "\n",
              "  <svg xmlns=\"http://www.w3.org/2000/svg\" height=\"24px\" viewBox=\"0 -960 960 960\">\n",
              "    <path d=\"M120-120v-720h720v720H120Zm60-500h600v-160H180v160Zm220 220h160v-160H400v160Zm0 220h160v-160H400v160ZM180-400h160v-160H180v160Zm440 0h160v-160H620v160ZM180-180h160v-160H180v160Zm440 0h160v-160H620v160Z\"/>\n",
              "  </svg>\n",
              "    </button>\n",
              "\n",
              "  <style>\n",
              "    .colab-df-container {\n",
              "      display:flex;\n",
              "      gap: 12px;\n",
              "    }\n",
              "\n",
              "    .colab-df-convert {\n",
              "      background-color: #E8F0FE;\n",
              "      border: none;\n",
              "      border-radius: 50%;\n",
              "      cursor: pointer;\n",
              "      display: none;\n",
              "      fill: #1967D2;\n",
              "      height: 32px;\n",
              "      padding: 0 0 0 0;\n",
              "      width: 32px;\n",
              "    }\n",
              "\n",
              "    .colab-df-convert:hover {\n",
              "      background-color: #E2EBFA;\n",
              "      box-shadow: 0px 1px 2px rgba(60, 64, 67, 0.3), 0px 1px 3px 1px rgba(60, 64, 67, 0.15);\n",
              "      fill: #174EA6;\n",
              "    }\n",
              "\n",
              "    .colab-df-buttons div {\n",
              "      margin-bottom: 4px;\n",
              "    }\n",
              "\n",
              "    [theme=dark] .colab-df-convert {\n",
              "      background-color: #3B4455;\n",
              "      fill: #D2E3FC;\n",
              "    }\n",
              "\n",
              "    [theme=dark] .colab-df-convert:hover {\n",
              "      background-color: #434B5C;\n",
              "      box-shadow: 0px 1px 3px 1px rgba(0, 0, 0, 0.15);\n",
              "      filter: drop-shadow(0px 1px 2px rgba(0, 0, 0, 0.3));\n",
              "      fill: #FFFFFF;\n",
              "    }\n",
              "  </style>\n",
              "\n",
              "    <script>\n",
              "      const buttonEl =\n",
              "        document.querySelector('#df-98b12762-9c94-4044-8c36-e6b792c2a34c button.colab-df-convert');\n",
              "      buttonEl.style.display =\n",
              "        google.colab.kernel.accessAllowed ? 'block' : 'none';\n",
              "\n",
              "      async function convertToInteractive(key) {\n",
              "        const element = document.querySelector('#df-98b12762-9c94-4044-8c36-e6b792c2a34c');\n",
              "        const dataTable =\n",
              "          await google.colab.kernel.invokeFunction('convertToInteractive',\n",
              "                                                    [key], {});\n",
              "        if (!dataTable) return;\n",
              "\n",
              "        const docLinkHtml = 'Like what you see? Visit the ' +\n",
              "          '<a target=\"_blank\" href=https://colab.research.google.com/notebooks/data_table.ipynb>data table notebook</a>'\n",
              "          + ' to learn more about interactive tables.';\n",
              "        element.innerHTML = '';\n",
              "        dataTable['output_type'] = 'display_data';\n",
              "        await google.colab.output.renderOutput(dataTable, element);\n",
              "        const docLink = document.createElement('div');\n",
              "        docLink.innerHTML = docLinkHtml;\n",
              "        element.appendChild(docLink);\n",
              "      }\n",
              "    </script>\n",
              "  </div>\n",
              "\n",
              "\n",
              "<div id=\"df-077a431f-ddee-4281-a388-d7a3f70af180\">\n",
              "  <button class=\"colab-df-quickchart\" onclick=\"quickchart('df-077a431f-ddee-4281-a388-d7a3f70af180')\"\n",
              "            title=\"Suggest charts\"\n",
              "            style=\"display:none;\">\n",
              "\n",
              "<svg xmlns=\"http://www.w3.org/2000/svg\" height=\"24px\"viewBox=\"0 0 24 24\"\n",
              "     width=\"24px\">\n",
              "    <g>\n",
              "        <path d=\"M19 3H5c-1.1 0-2 .9-2 2v14c0 1.1.9 2 2 2h14c1.1 0 2-.9 2-2V5c0-1.1-.9-2-2-2zM9 17H7v-7h2v7zm4 0h-2V7h2v10zm4 0h-2v-4h2v4z\"/>\n",
              "    </g>\n",
              "</svg>\n",
              "  </button>\n",
              "\n",
              "<style>\n",
              "  .colab-df-quickchart {\n",
              "      --bg-color: #E8F0FE;\n",
              "      --fill-color: #1967D2;\n",
              "      --hover-bg-color: #E2EBFA;\n",
              "      --hover-fill-color: #174EA6;\n",
              "      --disabled-fill-color: #AAA;\n",
              "      --disabled-bg-color: #DDD;\n",
              "  }\n",
              "\n",
              "  [theme=dark] .colab-df-quickchart {\n",
              "      --bg-color: #3B4455;\n",
              "      --fill-color: #D2E3FC;\n",
              "      --hover-bg-color: #434B5C;\n",
              "      --hover-fill-color: #FFFFFF;\n",
              "      --disabled-bg-color: #3B4455;\n",
              "      --disabled-fill-color: #666;\n",
              "  }\n",
              "\n",
              "  .colab-df-quickchart {\n",
              "    background-color: var(--bg-color);\n",
              "    border: none;\n",
              "    border-radius: 50%;\n",
              "    cursor: pointer;\n",
              "    display: none;\n",
              "    fill: var(--fill-color);\n",
              "    height: 32px;\n",
              "    padding: 0;\n",
              "    width: 32px;\n",
              "  }\n",
              "\n",
              "  .colab-df-quickchart:hover {\n",
              "    background-color: var(--hover-bg-color);\n",
              "    box-shadow: 0 1px 2px rgba(60, 64, 67, 0.3), 0 1px 3px 1px rgba(60, 64, 67, 0.15);\n",
              "    fill: var(--button-hover-fill-color);\n",
              "  }\n",
              "\n",
              "  .colab-df-quickchart-complete:disabled,\n",
              "  .colab-df-quickchart-complete:disabled:hover {\n",
              "    background-color: var(--disabled-bg-color);\n",
              "    fill: var(--disabled-fill-color);\n",
              "    box-shadow: none;\n",
              "  }\n",
              "\n",
              "  .colab-df-spinner {\n",
              "    border: 2px solid var(--fill-color);\n",
              "    border-color: transparent;\n",
              "    border-bottom-color: var(--fill-color);\n",
              "    animation:\n",
              "      spin 1s steps(1) infinite;\n",
              "  }\n",
              "\n",
              "  @keyframes spin {\n",
              "    0% {\n",
              "      border-color: transparent;\n",
              "      border-bottom-color: var(--fill-color);\n",
              "      border-left-color: var(--fill-color);\n",
              "    }\n",
              "    20% {\n",
              "      border-color: transparent;\n",
              "      border-left-color: var(--fill-color);\n",
              "      border-top-color: var(--fill-color);\n",
              "    }\n",
              "    30% {\n",
              "      border-color: transparent;\n",
              "      border-left-color: var(--fill-color);\n",
              "      border-top-color: var(--fill-color);\n",
              "      border-right-color: var(--fill-color);\n",
              "    }\n",
              "    40% {\n",
              "      border-color: transparent;\n",
              "      border-right-color: var(--fill-color);\n",
              "      border-top-color: var(--fill-color);\n",
              "    }\n",
              "    60% {\n",
              "      border-color: transparent;\n",
              "      border-right-color: var(--fill-color);\n",
              "    }\n",
              "    80% {\n",
              "      border-color: transparent;\n",
              "      border-right-color: var(--fill-color);\n",
              "      border-bottom-color: var(--fill-color);\n",
              "    }\n",
              "    90% {\n",
              "      border-color: transparent;\n",
              "      border-bottom-color: var(--fill-color);\n",
              "    }\n",
              "  }\n",
              "</style>\n",
              "\n",
              "  <script>\n",
              "    async function quickchart(key) {\n",
              "      const quickchartButtonEl =\n",
              "        document.querySelector('#' + key + ' button');\n",
              "      quickchartButtonEl.disabled = true;  // To prevent multiple clicks.\n",
              "      quickchartButtonEl.classList.add('colab-df-spinner');\n",
              "      try {\n",
              "        const charts = await google.colab.kernel.invokeFunction(\n",
              "            'suggestCharts', [key], {});\n",
              "      } catch (error) {\n",
              "        console.error('Error during call to suggestCharts:', error);\n",
              "      }\n",
              "      quickchartButtonEl.classList.remove('colab-df-spinner');\n",
              "      quickchartButtonEl.classList.add('colab-df-quickchart-complete');\n",
              "    }\n",
              "    (() => {\n",
              "      let quickchartButtonEl =\n",
              "        document.querySelector('#df-077a431f-ddee-4281-a388-d7a3f70af180 button');\n",
              "      quickchartButtonEl.style.display =\n",
              "        google.colab.kernel.accessAllowed ? 'block' : 'none';\n",
              "    })();\n",
              "  </script>\n",
              "</div>\n",
              "    </div>\n",
              "  </div>\n"
            ]
          },
          "metadata": {},
          "execution_count": 14
        }
      ]
    },
    {
      "cell_type": "markdown",
      "source": [
        "知見  \n",
        "・男性の方が女性より多い  \n",
        "・男性の死亡率は高いが、女性の死亡率は低い"
      ],
      "metadata": {
        "id": "sR5p1_lAcUVs"
      }
    },
    {
      "cell_type": "markdown",
      "source": [
        "#### 1.6.3 チケットクラスごとの人数と死亡率"
      ],
      "metadata": {
        "id": "dWhRTCbSSdyN"
      }
    },
    {
      "cell_type": "code",
      "source": [
        "f, ax = plt.subplots(1, 2, figsize=(8, 4), facecolor=\"gray\")\n",
        "f.subplots_adjust(wspace=0.3)\n",
        "sns.countplot(x=\"Pclass\", data=df, ax=ax[0])\n",
        "ax[0].set_title(\"Number of passengers by Pclass\")\n",
        "ax[0].set_ylabel(\"Count\")\n",
        "sns.barplot(x=\"Pclass\", y=\"Perished\", data=df, ax=ax[1])\n",
        "ax[1].set_title(\"Perished rate by Pclass\", fontsize=12)\n",
        "ax[1].set_ylabel(\"Perished rate\")\n",
        "plt.show()"
      ],
      "metadata": {
        "colab": {
          "base_uri": "https://localhost:8080/"
        },
        "id": "BBUqF4DvdETP",
        "outputId": "e7ecff4f-fe76-42fd-af02-e3f6f8ded561"
      },
      "execution_count": null,
      "outputs": [
        {
          "output_type": "display_data",
          "data": {
            "text/plain": [
              "<Figure size 800x400 with 2 Axes>"
            ],
            "image/png": "[encoded data removed]"
          },
          "metadata": {}
        }
      ]
    },
    {
      "cell_type": "code",
      "source": [
        "df[[\"Pclass\", \"Perished\"]].groupby([\"Pclass\"], as_index=True).mean()"
      ],
      "metadata": {
        "colab": {
          "base_uri": "https://localhost:8080/"
        },
        "id": "ZRXSx5i8dNMM",
        "outputId": "5ff8faa3-d073-4268-e5e2-0bd755e191f8"
      },
      "execution_count": null,
      "outputs": [
        {
          "output_type": "execute_result",
          "data": {
            "text/plain": [
              "        Perished\n",
              "Pclass          \n",
              "1       0.370370\n",
              "2       0.527174\n",
              "3       0.757637"
            ],
            "text/html": [
              "\n",
              "  <div id=\"df-6d9983c9-59a4-428b-a57f-86df615fb0e6\" class=\"colab-df-container\">\n",
              "    <div>\n",
              "<style scoped>\n",
              "    .dataframe tbody tr th:only-of-type {\n",
              "        vertical-align: middle;\n",
              "    }\n",
              "\n",
              "    .dataframe tbody tr th {\n",
              "        vertical-align: top;\n",
              "    }\n",
              "\n",
              "    .dataframe thead th {\n",
              "        text-align: right;\n",
              "    }\n",
              "</style>\n",
              "<table border=\"1\" class=\"dataframe\">\n",
              "  <thead>\n",
              "    <tr style=\"text-align: right;\">\n",
              "      <th></th>\n",
              "      <th>Perished</th>\n",
              "    </tr>\n",
              "    <tr>\n",
              "      <th>Pclass</th>\n",
              "      <th></th>\n",
              "    </tr>\n",
              "  </thead>\n",
              "  <tbody>\n",
              "    <tr>\n",
              "      <th>1</th>\n",
              "      <td>0.370370</td>\n",
              "    </tr>\n",
              "    <tr>\n",
              "      <th>2</th>\n",
              "      <td>0.527174</td>\n",
              "    </tr>\n",
              "    <tr>\n",
              "      <th>3</th>\n",
              "      <td>0.757637</td>\n",
              "    </tr>\n",
              "  </tbody>\n",
              "</table>\n",
              "</div>\n",
              "    <div class=\"colab-df-buttons\">\n",
              "\n",
              "  <div class=\"colab-df-container\">\n",
              "    <button class=\"colab-df-convert\" onclick=\"convertToInteractive('df-6d9983c9-59a4-428b-a57f-86df615fb0e6')\"\n",
              "            title=\"Convert this dataframe to an interactive table.\"\n",
              "            style=\"display:none;\">\n",
              "\n",
              "  <svg xmlns=\"http://www.w3.org/2000/svg\" height=\"24px\" viewBox=\"0 -960 960 960\">\n",
              "    <path d=\"M120-120v-720h720v720H120Zm60-500h600v-160H180v160Zm220 220h160v-160H400v160Zm0 220h160v-160H400v160ZM180-400h160v-160H180v160Zm440 0h160v-160H620v160ZM180-180h160v-160H180v160Zm440 0h160v-160H620v160Z\"/>\n",
              "  </svg>\n",
              "    </button>\n",
              "\n",
              "  <style>\n",
              "    .colab-df-container {\n",
              "      display:flex;\n",
              "      gap: 12px;\n",
              "    }\n",
              "\n",
              "    .colab-df-convert {\n",
              "      background-color: #E8F0FE;\n",
              "      border: none;\n",
              "      border-radius: 50%;\n",
              "      cursor: pointer;\n",
              "      display: none;\n",
              "      fill: #1967D2;\n",
              "      height: 32px;\n",
              "      padding: 0 0 0 0;\n",
              "      width: 32px;\n",
              "    }\n",
              "\n",
              "    .colab-df-convert:hover {\n",
              "      background-color: #E2EBFA;\n",
              "      box-shadow: 0px 1px 2px rgba(60, 64, 67, 0.3), 0px 1px 3px 1px rgba(60, 64, 67, 0.15);\n",
              "      fill: #174EA6;\n",
              "    }\n",
              "\n",
              "    .colab-df-buttons div {\n",
              "      margin-bottom: 4px;\n",
              "    }\n",
              "\n",
              "    [theme=dark] .colab-df-convert {\n",
              "      background-color: #3B4455;\n",
              "      fill: #D2E3FC;\n",
              "    }\n",
              "\n",
              "    [theme=dark] .colab-df-convert:hover {\n",
              "      background-color: #434B5C;\n",
              "      box-shadow: 0px 1px 3px 1px rgba(0, 0, 0, 0.15);\n",
              "      filter: drop-shadow(0px 1px 2px rgba(0, 0, 0, 0.3));\n",
              "      fill: #FFFFFF;\n",
              "    }\n",
              "  </style>\n",
              "\n",
              "    <script>\n",
              "      const buttonEl =\n",
              "        document.querySelector('#df-6d9983c9-59a4-428b-a57f-86df615fb0e6 button.colab-df-convert');\n",
              "      buttonEl.style.display =\n",
              "        google.colab.kernel.accessAllowed ? 'block' : 'none';\n",
              "\n",
              "      async function convertToInteractive(key) {\n",
              "        const element = document.querySelector('#df-6d9983c9-59a4-428b-a57f-86df615fb0e6');\n",
              "        const dataTable =\n",
              "          await google.colab.kernel.invokeFunction('convertToInteractive',\n",
              "                                                    [key], {});\n",
              "        if (!dataTable) return;\n",
              "\n",
              "        const docLinkHtml = 'Like what you see? Visit the ' +\n",
              "          '<a target=\"_blank\" href=https://colab.research.google.com/notebooks/data_table.ipynb>data table notebook</a>'\n",
              "          + ' to learn more about interactive tables.';\n",
              "        element.innerHTML = '';\n",
              "        dataTable['output_type'] = 'display_data';\n",
              "        await google.colab.output.renderOutput(dataTable, element);\n",
              "        const docLink = document.createElement('div');\n",
              "        docLink.innerHTML = docLinkHtml;\n",
              "        element.appendChild(docLink);\n",
              "      }\n",
              "    </script>\n",
              "  </div>\n",
              "\n",
              "\n",
              "<div id=\"df-dce77747-903e-4c93-94eb-5359c3cc4855\">\n",
              "  <button class=\"colab-df-quickchart\" onclick=\"quickchart('df-dce77747-903e-4c93-94eb-5359c3cc4855')\"\n",
              "            title=\"Suggest charts\"\n",
              "            style=\"display:none;\">\n",
              "\n",
              "<svg xmlns=\"http://www.w3.org/2000/svg\" height=\"24px\"viewBox=\"0 0 24 24\"\n",
              "     width=\"24px\">\n",
              "    <g>\n",
              "        <path d=\"M19 3H5c-1.1 0-2 .9-2 2v14c0 1.1.9 2 2 2h14c1.1 0 2-.9 2-2V5c0-1.1-.9-2-2-2zM9 17H7v-7h2v7zm4 0h-2V7h2v10zm4 0h-2v-4h2v4z\"/>\n",
              "    </g>\n",
              "</svg>\n",
              "  </button>\n",
              "\n",
              "<style>\n",
              "  .colab-df-quickchart {\n",
              "      --bg-color: #E8F0FE;\n",
              "      --fill-color: #1967D2;\n",
              "      --hover-bg-color: #E2EBFA;\n",
              "      --hover-fill-color: #174EA6;\n",
              "      --disabled-fill-color: #AAA;\n",
              "      --disabled-bg-color: #DDD;\n",
              "  }\n",
              "\n",
              "  [theme=dark] .colab-df-quickchart {\n",
              "      --bg-color: #3B4455;\n",
              "      --fill-color: #D2E3FC;\n",
              "      --hover-bg-color: #434B5C;\n",
              "      --hover-fill-color: #FFFFFF;\n",
              "      --disabled-bg-color: #3B4455;\n",
              "      --disabled-fill-color: #666;\n",
              "  }\n",
              "\n",
              "  .colab-df-quickchart {\n",
              "    background-color: var(--bg-color);\n",
              "    border: none;\n",
              "    border-radius: 50%;\n",
              "    cursor: pointer;\n",
              "    display: none;\n",
              "    fill: var(--fill-color);\n",
              "    height: 32px;\n",
              "    padding: 0;\n",
              "    width: 32px;\n",
              "  }\n",
              "\n",
              "  .colab-df-quickchart:hover {\n",
              "    background-color: var(--hover-bg-color);\n",
              "    box-shadow: 0 1px 2px rgba(60, 64, 67, 0.3), 0 1px 3px 1px rgba(60, 64, 67, 0.15);\n",
              "    fill: var(--button-hover-fill-color);\n",
              "  }\n",
              "\n",
              "  .colab-df-quickchart-complete:disabled,\n",
              "  .colab-df-quickchart-complete:disabled:hover {\n",
              "    background-color: var(--disabled-bg-color);\n",
              "    fill: var(--disabled-fill-color);\n",
              "    box-shadow: none;\n",
              "  }\n",
              "\n",
              "  .colab-df-spinner {\n",
              "    border: 2px solid var(--fill-color);\n",
              "    border-color: transparent;\n",
              "    border-bottom-color: var(--fill-color);\n",
              "    animation:\n",
              "      spin 1s steps(1) infinite;\n",
              "  }\n",
              "\n",
              "  @keyframes spin {\n",
              "    0% {\n",
              "      border-color: transparent;\n",
              "      border-bottom-color: var(--fill-color);\n",
              "      border-left-color: var(--fill-color);\n",
              "    }\n",
              "    20% {\n",
              "      border-color: transparent;\n",
              "      border-left-color: var(--fill-color);\n",
              "      border-top-color: var(--fill-color);\n",
              "    }\n",
              "    30% {\n",
              "      border-color: transparent;\n",
              "      border-left-color: var(--fill-color);\n",
              "      border-top-color: var(--fill-color);\n",
              "      border-right-color: var(--fill-color);\n",
              "    }\n",
              "    40% {\n",
              "      border-color: transparent;\n",
              "      border-right-color: var(--fill-color);\n",
              "      border-top-color: var(--fill-color);\n",
              "    }\n",
              "    60% {\n",
              "      border-color: transparent;\n",
              "      border-right-color: var(--fill-color);\n",
              "    }\n",
              "    80% {\n",
              "      border-color: transparent;\n",
              "      border-right-color: var(--fill-color);\n",
              "      border-bottom-color: var(--fill-color);\n",
              "    }\n",
              "    90% {\n",
              "      border-color: transparent;\n",
              "      border-bottom-color: var(--fill-color);\n",
              "    }\n",
              "  }\n",
              "</style>\n",
              "\n",
              "  <script>\n",
              "    async function quickchart(key) {\n",
              "      const quickchartButtonEl =\n",
              "        document.querySelector('#' + key + ' button');\n",
              "      quickchartButtonEl.disabled = true;  // To prevent multiple clicks.\n",
              "      quickchartButtonEl.classList.add('colab-df-spinner');\n",
              "      try {\n",
              "        const charts = await google.colab.kernel.invokeFunction(\n",
              "            'suggestCharts', [key], {});\n",
              "      } catch (error) {\n",
              "        console.error('Error during call to suggestCharts:', error);\n",
              "      }\n",
              "      quickchartButtonEl.classList.remove('colab-df-spinner');\n",
              "      quickchartButtonEl.classList.add('colab-df-quickchart-complete');\n",
              "    }\n",
              "    (() => {\n",
              "      let quickchartButtonEl =\n",
              "        document.querySelector('#df-dce77747-903e-4c93-94eb-5359c3cc4855 button');\n",
              "      quickchartButtonEl.style.display =\n",
              "        google.colab.kernel.accessAllowed ? 'block' : 'none';\n",
              "    })();\n",
              "  </script>\n",
              "</div>\n",
              "    </div>\n",
              "  </div>\n"
            ]
          },
          "metadata": {},
          "execution_count": 16
        }
      ]
    },
    {
      "cell_type": "markdown",
      "source": [
        "知見  \n",
        "・チケットクラス3は人数が圧倒的に多い  \n",
        "・チケットクラスが大きいほど死亡率は増加"
      ],
      "metadata": {
        "id": "PS14nU5ddqYD"
      }
    },
    {
      "cell_type": "markdown",
      "source": [
        "#### 1.6.4 チケット料金と生死"
      ],
      "metadata": {
        "id": "hnyZ1EmfSqeF"
      }
    },
    {
      "cell_type": "code",
      "source": [
        "fare = sns.FacetGrid(df, hue=\"Perished\", aspect=2)\n",
        "fare.map(sns.kdeplot, \"Fare\", shade=True)\n",
        "fare.set(xlim=(0, 200))\n",
        "fare.add_legend()\n",
        "plt.show()"
      ],
      "metadata": {
        "colab": {
          "base_uri": "https://localhost:8080/"
        },
        "id": "j18CEzg4mm_0",
        "outputId": "1f88d9c6-738b-4498-bc3b-efe4fdae09d0"
      },
      "execution_count": null,
      "outputs": [
        {
          "output_type": "display_data",
          "data": {
            "text/plain": [
              "<Figure size 670.361x300 with 1 Axes>"
            ],
            "image/png": "[encoded data removed]"
          },
          "metadata": {}
        }
      ]
    },
    {
      "cell_type": "markdown",
      "source": [
        "知見  \n",
        "・チケット料金が安いほど死亡率が高い"
      ],
      "metadata": {
        "id": "hH414zzXnUim"
      }
    },
    {
      "cell_type": "markdown",
      "source": [
        "#### 1.6.5 年齢と生死"
      ],
      "metadata": {
        "id": "YK3XqkHkSx4Q"
      }
    },
    {
      "cell_type": "code",
      "source": [
        "age = sns.FacetGrid(df, hue=\"Perished\", aspect=2)\n",
        "age.map(sns.kdeplot, \"Age\", shade=True)\n",
        "age.set(xlim=(0, df[\"Age\"].max()))\n",
        "age.add_legend()\n",
        "plt.show()"
      ],
      "metadata": {
        "colab": {
          "base_uri": "https://localhost:8080/"
        },
        "id": "n8Fg-Lq3jyPN",
        "outputId": "ff8ad84b-5509-4a65-9e76-a2d59a7d3b52"
      },
      "execution_count": null,
      "outputs": [
        {
          "output_type": "display_data",
          "data": {
            "text/plain": [
              "<Figure size 670.361x300 with 1 Axes>"
            ],
            "image/png": "[encoded data removed]"
          },
          "metadata": {}
        }
      ]
    },
    {
      "cell_type": "markdown",
      "source": [
        "知見  \n",
        "・10歳以下の子供は死亡率が低い  \n",
        "・20代の死亡者数が多い  \n",
        "・65歳超えは死亡率が高い"
      ],
      "metadata": {
        "id": "wvQOiRba9Q3G"
      }
    },
    {
      "cell_type": "markdown",
      "source": [
        "## 2\\. データの前処理・特徴量エンジニアリング"
      ],
      "metadata": {
        "id": "9xY-cAucAwcA"
      }
    },
    {
      "cell_type": "markdown",
      "source": [
        "\n",
        "### 2.1 欠損値の補完"
      ],
      "metadata": {
        "id": "ZkcnKsDhDYy4"
      }
    },
    {
      "cell_type": "markdown",
      "source": [
        "#### 2.1.1 \"Age\"列"
      ],
      "metadata": {
        "id": "HCTfGGjWTDYc"
      }
    },
    {
      "cell_type": "code",
      "source": [
        "# \"Name\"列から敬称を抽出し、\"Title\"列を作成\n",
        "df[\"Title\"] = df[\"Name\"].str.extract(r\"([A-Za-z]+)\\.\")\n",
        "df_test[\"Title\"] = df_test[\"Name\"].str.extract(r\"([A-Za-z]+)\\.\")\n",
        "df_all[\"Title\"] = df_all[\"Name\"].str.extract(r\"([A-Za-z]+)\\.\")"
      ],
      "metadata": {
        "id": "C27RBe2aaJp3"
      },
      "execution_count": null,
      "outputs": []
    },
    {
      "cell_type": "code",
      "source": [
        "# 敬称ごとの平均年齢\n",
        "mean_age_by_title = df_all.groupby(\"Title\")[\"Age\"].mean()\n",
        "print(mean_age_by_title)"
      ],
      "metadata": {
        "colab": {
          "base_uri": "https://localhost:8080/"
        },
        "id": "qWgtPgqWbJFD",
        "outputId": "4b7e0f08-9207-418b-ee65-a3ce69831035"
      },
      "execution_count": null,
      "outputs": [
        {
          "output_type": "stream",
          "name": "stdout",
          "text": [
            "Title\n",
            "Capt        70.000000\n",
            "Col         54.000000\n",
            "Countess    33.000000\n",
            "Don         40.000000\n",
            "Dona        39.000000\n",
            "Dr          43.571429\n",
            "Jonkheer    38.000000\n",
            "Lady        48.000000\n",
            "Major       48.500000\n",
            "Master       5.482642\n",
            "Miss        21.774238\n",
            "Mlle        24.000000\n",
            "Mme         24.000000\n",
            "Mr          32.252151\n",
            "Mrs         36.994118\n",
            "Ms          28.000000\n",
            "Rev         41.250000\n",
            "Sir         49.000000\n",
            "Name: Age, dtype: float64\n"
          ]
        }
      ]
    },
    {
      "cell_type": "code",
      "source": [
        "# 敬称ごとの平均年齢で補完\n",
        "# 年齢にばらつきがある敬称が精度を下げる原因に\n",
        "# df[\"Age\"].fillna(df[\"Title\"].map(mean_age_by_title), inplace=True)\n",
        "# df_test[\"Age\"].fillna(df_test[\"Title\"].map(mean_age_by_title), inplace=True)\n",
        "# df_all[\"Age\"].fillna(df_all[\"Title\"].map(mean_age_by_title), inplace=True)"
      ],
      "metadata": {
        "id": "lNXv6baZsgee"
      },
      "execution_count": null,
      "outputs": []
    },
    {
      "cell_type": "code",
      "source": [
        "# \"Pclass\", \"Sex\", \"Title\"からランダムフォレスト回帰で\"Age\"の欠損値を補完\n",
        "age_df = df_all[[\"Age\", \"Pclass\", \"Sex\", \"Title\"]]\n",
        "\n",
        "# カテゴリ変数をダミー変数化\n",
        "age_df = pd.get_dummies(age_df)\n",
        "\n",
        "age_df.head()"
      ],
      "metadata": {
        "colab": {
          "base_uri": "https://localhost:8080/"
        },
        "id": "bVScJSKn_cT5",
        "outputId": "3a7fb4b3-cd20-4f8d-9263-3e28d0d7ecc1"
      },
      "execution_count": null,
      "outputs": [
        {
          "output_type": "execute_result",
          "data": {
            "text/plain": [
              "    Age  Pclass  Sex_female  Sex_male  Title_Capt  Title_Col  Title_Countess  \\\n",
              "0  22.0       3           0         1           0          0               0   \n",
              "1  38.0       1           1         0           0          0               0   \n",
              "2  26.0       3           1         0           0          0               0   \n",
              "3  35.0       1           1         0           0          0               0   \n",
              "4  35.0       3           0         1           0          0               0   \n",
              "\n",
              "   Title_Don  Title_Dona  Title_Dr  ...  Title_Major  Title_Master  \\\n",
              "0          0           0         0  ...            0             0   \n",
              "1          0           0         0  ...            0             0   \n",
              "2          0           0         0  ...            0             0   \n",
              "3          0           0         0  ...            0             0   \n",
              "4          0           0         0  ...            0             0   \n",
              "\n",
              "   Title_Miss  Title_Mlle  Title_Mme  Title_Mr  Title_Mrs  Title_Ms  \\\n",
              "0           0           0          0         1          0         0   \n",
              "1           0           0          0         0          1         0   \n",
              "2           1           0          0         0          0         0   \n",
              "3           0           0          0         0          1         0   \n",
              "4           0           0          0         1          0         0   \n",
              "\n",
              "   Title_Rev  Title_Sir  \n",
              "0          0          0  \n",
              "1          0          0  \n",
              "2          0          0  \n",
              "3          0          0  \n",
              "4          0          0  \n",
              "\n",
              "[5 rows x 22 columns]"
            ],
            "text/html": [
              "\n",
              "  <div id=\"df-8bc0365d-0904-45e6-b079-1e5c141bedb2\" class=\"colab-df-container\">\n",
              "    <div>\n",
              "<style scoped>\n",
              "    .dataframe tbody tr th:only-of-type {\n",
              "        vertical-align: middle;\n",
              "    }\n",
              "\n",
              "    .dataframe tbody tr th {\n",
              "        vertical-align: top;\n",
              "    }\n",
              "\n",
              "    .dataframe thead th {\n",
              "        text-align: right;\n",
              "    }\n",
              "</style>\n",
              "<table border=\"1\" class=\"dataframe\">\n",
              "  <thead>\n",
              "    <tr style=\"text-align: right;\">\n",
              "      <th></th>\n",
              "      <th>Age</th>\n",
              "      <th>Pclass</th>\n",
              "      <th>Sex_female</th>\n",
              "      <th>Sex_male</th>\n",
              "      <th>Title_Capt</th>\n",
              "      <th>Title_Col</th>\n",
              "      <th>Title_Countess</th>\n",
              "      <th>Title_Don</th>\n",
              "      <th>Title_Dona</th>\n",
              "      <th>Title_Dr</th>\n",
              "      <th>...</th>\n",
              "      <th>Title_Major</th>\n",
              "      <th>Title_Master</th>\n",
              "      <th>Title_Miss</th>\n",
              "      <th>Title_Mlle</th>\n",
              "      <th>Title_Mme</th>\n",
              "      <th>Title_Mr</th>\n",
              "      <th>Title_Mrs</th>\n",
              "      <th>Title_Ms</th>\n",
              "      <th>Title_Rev</th>\n",
              "      <th>Title_Sir</th>\n",
              "    </tr>\n",
              "  </thead>\n",
              "  <tbody>\n",
              "    <tr>\n",
              "      <th>0</th>\n",
              "      <td>22.0</td>\n",
              "      <td>3</td>\n",
              "      <td>0</td>\n",
              "      <td>1</td>\n",
              "      <td>0</td>\n",
              "      <td>0</td>\n",
              "      <td>0</td>\n",
              "      <td>0</td>\n",
              "      <td>0</td>\n",
              "      <td>0</td>\n",
              "      <td>...</td>\n",
              "      <td>0</td>\n",
              "      <td>0</td>\n",
              "      <td>0</td>\n",
              "      <td>0</td>\n",
              "      <td>0</td>\n",
              "      <td>1</td>\n",
              "      <td>0</td>\n",
              "      <td>0</td>\n",
              "      <td>0</td>\n",
              "      <td>0</td>\n",
              "    </tr>\n",
              "    <tr>\n",
              "      <th>1</th>\n",
              "      <td>38.0</td>\n",
              "      <td>1</td>\n",
              "      <td>1</td>\n",
              "      <td>0</td>\n",
              "      <td>0</td>\n",
              "      <td>0</td>\n",
              "      <td>0</td>\n",
              "      <td>0</td>\n",
              "      <td>0</td>\n",
              "      <td>0</td>\n",
              "      <td>...</td>\n",
              "      <td>0</td>\n",
              "      <td>0</td>\n",
              "      <td>0</td>\n",
              "      <td>0</td>\n",
              "      <td>0</td>\n",
              "      <td>0</td>\n",
              "      <td>1</td>\n",
              "      <td>0</td>\n",
              "      <td>0</td>\n",
              "      <td>0</td>\n",
              "    </tr>\n",
              "    <tr>\n",
              "      <th>2</th>\n",
              "      <td>26.0</td>\n",
              "      <td>3</td>\n",
              "      <td>1</td>\n",
              "      <td>0</td>\n",
              "      <td>0</td>\n",
              "      <td>0</td>\n",
              "      <td>0</td>\n",
              "      <td>0</td>\n",
              "      <td>0</td>\n",
              "      <td>0</td>\n",
              "      <td>...</td>\n",
              "      <td>0</td>\n",
              "      <td>0</td>\n",
              "      <td>1</td>\n",
              "      <td>0</td>\n",
              "      <td>0</td>\n",
              "      <td>0</td>\n",
              "      <td>0</td>\n",
              "      <td>0</td>\n",
              "      <td>0</td>\n",
              "      <td>0</td>\n",
              "    </tr>\n",
              "    <tr>\n",
              "      <th>3</th>\n",
              "      <td>35.0</td>\n",
              "      <td>1</td>\n",
              "      <td>1</td>\n",
              "      <td>0</td>\n",
              "      <td>0</td>\n",
              "      <td>0</td>\n",
              "      <td>0</td>\n",
              "      <td>0</td>\n",
              "      <td>0</td>\n",
              "      <td>0</td>\n",
              "      <td>...</td>\n",
              "      <td>0</td>\n",
              "      <td>0</td>\n",
              "      <td>0</td>\n",
              "      <td>0</td>\n",
              "      <td>0</td>\n",
              "      <td>0</td>\n",
              "      <td>1</td>\n",
              "      <td>0</td>\n",
              "      <td>0</td>\n",
              "      <td>0</td>\n",
              "    </tr>\n",
              "    <tr>\n",
              "      <th>4</th>\n",
              "      <td>35.0</td>\n",
              "      <td>3</td>\n",
              "      <td>0</td>\n",
              "      <td>1</td>\n",
              "      <td>0</td>\n",
              "      <td>0</td>\n",
              "      <td>0</td>\n",
              "      <td>0</td>\n",
              "      <td>0</td>\n",
              "      <td>0</td>\n",
              "      <td>...</td>\n",
              "      <td>0</td>\n",
              "      <td>0</td>\n",
              "      <td>0</td>\n",
              "      <td>0</td>\n",
              "      <td>0</td>\n",
              "      <td>1</td>\n",
              "      <td>0</td>\n",
              "      <td>0</td>\n",
              "      <td>0</td>\n",
              "      <td>0</td>\n",
              "    </tr>\n",
              "  </tbody>\n",
              "</table>\n",
              "<p>5 rows × 22 columns</p>\n",
              "</div>\n",
              "    <div class=\"colab-df-buttons\">\n",
              "\n",
              "  <div class=\"colab-df-container\">\n",
              "    <button class=\"colab-df-convert\" onclick=\"convertToInteractive('df-8bc0365d-0904-45e6-b079-1e5c141bedb2')\"\n",
              "            title=\"Convert this dataframe to an interactive table.\"\n",
              "            style=\"display:none;\">\n",
              "\n",
              "  <svg xmlns=\"http://www.w3.org/2000/svg\" height=\"24px\" viewBox=\"0 -960 960 960\">\n",
              "    <path d=\"M120-120v-720h720v720H120Zm60-500h600v-160H180v160Zm220 220h160v-160H400v160Zm0 220h160v-160H400v160ZM180-400h160v-160H180v160Zm440 0h160v-160H620v160ZM180-180h160v-160H180v160Zm440 0h160v-160H620v160Z\"/>\n",
              "  </svg>\n",
              "    </button>\n",
              "\n",
              "  <style>\n",
              "    .colab-df-container {\n",
              "      display:flex;\n",
              "      gap: 12px;\n",
              "    }\n",
              "\n",
              "    .colab-df-convert {\n",
              "      background-color: #E8F0FE;\n",
              "      border: none;\n",
              "      border-radius: 50%;\n",
              "      cursor: pointer;\n",
              "      display: none;\n",
              "      fill: #1967D2;\n",
              "      height: 32px;\n",
              "      padding: 0 0 0 0;\n",
              "      width: 32px;\n",
              "    }\n",
              "\n",
              "    .colab-df-convert:hover {\n",
              "      background-color: #E2EBFA;\n",
              "      box-shadow: 0px 1px 2px rgba(60, 64, 67, 0.3), 0px 1px 3px 1px rgba(60, 64, 67, 0.15);\n",
              "      fill: #174EA6;\n",
              "    }\n",
              "\n",
              "    .colab-df-buttons div {\n",
              "      margin-bottom: 4px;\n",
              "    }\n",
              "\n",
              "    [theme=dark] .colab-df-convert {\n",
              "      background-color: #3B4455;\n",
              "      fill: #D2E3FC;\n",
              "    }\n",
              "\n",
              "    [theme=dark] .colab-df-convert:hover {\n",
              "      background-color: #434B5C;\n",
              "      box-shadow: 0px 1px 3px 1px rgba(0, 0, 0, 0.15);\n",
              "      filter: drop-shadow(0px 1px 2px rgba(0, 0, 0, 0.3));\n",
              "      fill: #FFFFFF;\n",
              "    }\n",
              "  </style>\n",
              "\n",
              "    <script>\n",
              "      const buttonEl =\n",
              "        document.querySelector('#df-8bc0365d-0904-45e6-b079-1e5c141bedb2 button.colab-df-convert');\n",
              "      buttonEl.style.display =\n",
              "        google.colab.kernel.accessAllowed ? 'block' : 'none';\n",
              "\n",
              "      async function convertToInteractive(key) {\n",
              "        const element = document.querySelector('#df-8bc0365d-0904-45e6-b079-1e5c141bedb2');\n",
              "        const dataTable =\n",
              "          await google.colab.kernel.invokeFunction('convertToInteractive',\n",
              "                                                    [key], {});\n",
              "        if (!dataTable) return;\n",
              "\n",
              "        const docLinkHtml = 'Like what you see? Visit the ' +\n",
              "          '<a target=\"_blank\" href=https://colab.research.google.com/notebooks/data_table.ipynb>data table notebook</a>'\n",
              "          + ' to learn more about interactive tables.';\n",
              "        element.innerHTML = '';\n",
              "        dataTable['output_type'] = 'display_data';\n",
              "        await google.colab.output.renderOutput(dataTable, element);\n",
              "        const docLink = document.createElement('div');\n",
              "        docLink.innerHTML = docLinkHtml;\n",
              "        element.appendChild(docLink);\n",
              "      }\n",
              "    </script>\n",
              "  </div>\n",
              "\n",
              "\n",
              "<div id=\"df-3d92b234-9289-4cf3-987d-9fa31fdc0b75\">\n",
              "  <button class=\"colab-df-quickchart\" onclick=\"quickchart('df-3d92b234-9289-4cf3-987d-9fa31fdc0b75')\"\n",
              "            title=\"Suggest charts\"\n",
              "            style=\"display:none;\">\n",
              "\n",
              "<svg xmlns=\"http://www.w3.org/2000/svg\" height=\"24px\"viewBox=\"0 0 24 24\"\n",
              "     width=\"24px\">\n",
              "    <g>\n",
              "        <path d=\"M19 3H5c-1.1 0-2 .9-2 2v14c0 1.1.9 2 2 2h14c1.1 0 2-.9 2-2V5c0-1.1-.9-2-2-2zM9 17H7v-7h2v7zm4 0h-2V7h2v10zm4 0h-2v-4h2v4z\"/>\n",
              "    </g>\n",
              "</svg>\n",
              "  </button>\n",
              "\n",
              "<style>\n",
              "  .colab-df-quickchart {\n",
              "      --bg-color: #E8F0FE;\n",
              "      --fill-color: #1967D2;\n",
              "      --hover-bg-color: #E2EBFA;\n",
              "      --hover-fill-color: #174EA6;\n",
              "      --disabled-fill-color: #AAA;\n",
              "      --disabled-bg-color: #DDD;\n",
              "  }\n",
              "\n",
              "  [theme=dark] .colab-df-quickchart {\n",
              "      --bg-color: #3B4455;\n",
              "      --fill-color: #D2E3FC;\n",
              "      --hover-bg-color: #434B5C;\n",
              "      --hover-fill-color: #FFFFFF;\n",
              "      --disabled-bg-color: #3B4455;\n",
              "      --disabled-fill-color: #666;\n",
              "  }\n",
              "\n",
              "  .colab-df-quickchart {\n",
              "    background-color: var(--bg-color);\n",
              "    border: none;\n",
              "    border-radius: 50%;\n",
              "    cursor: pointer;\n",
              "    display: none;\n",
              "    fill: var(--fill-color);\n",
              "    height: 32px;\n",
              "    padding: 0;\n",
              "    width: 32px;\n",
              "  }\n",
              "\n",
              "  .colab-df-quickchart:hover {\n",
              "    background-color: var(--hover-bg-color);\n",
              "    box-shadow: 0 1px 2px rgba(60, 64, 67, 0.3), 0 1px 3px 1px rgba(60, 64, 67, 0.15);\n",
              "    fill: var(--button-hover-fill-color);\n",
              "  }\n",
              "\n",
              "  .colab-df-quickchart-complete:disabled,\n",
              "  .colab-df-quickchart-complete:disabled:hover {\n",
              "    background-color: var(--disabled-bg-color);\n",
              "    fill: var(--disabled-fill-color);\n",
              "    box-shadow: none;\n",
              "  }\n",
              "\n",
              "  .colab-df-spinner {\n",
              "    border: 2px solid var(--fill-color);\n",
              "    border-color: transparent;\n",
              "    border-bottom-color: var(--fill-color);\n",
              "    animation:\n",
              "      spin 1s steps(1) infinite;\n",
              "  }\n",
              "\n",
              "  @keyframes spin {\n",
              "    0% {\n",
              "      border-color: transparent;\n",
              "      border-bottom-color: var(--fill-color);\n",
              "      border-left-color: var(--fill-color);\n",
              "    }\n",
              "    20% {\n",
              "      border-color: transparent;\n",
              "      border-left-color: var(--fill-color);\n",
              "      border-top-color: var(--fill-color);\n",
              "    }\n",
              "    30% {\n",
              "      border-color: transparent;\n",
              "      border-left-color: var(--fill-color);\n",
              "      border-top-color: var(--fill-color);\n",
              "      border-right-color: var(--fill-color);\n",
              "    }\n",
              "    40% {\n",
              "      border-color: transparent;\n",
              "      border-right-color: var(--fill-color);\n",
              "      border-top-color: var(--fill-color);\n",
              "    }\n",
              "    60% {\n",
              "      border-color: transparent;\n",
              "      border-right-color: var(--fill-color);\n",
              "    }\n",
              "    80% {\n",
              "      border-color: transparent;\n",
              "      border-right-color: var(--fill-color);\n",
              "      border-bottom-color: var(--fill-color);\n",
              "    }\n",
              "    90% {\n",
              "      border-color: transparent;\n",
              "      border-bottom-color: var(--fill-color);\n",
              "    }\n",
              "  }\n",
              "</style>\n",
              "\n",
              "  <script>\n",
              "    async function quickchart(key) {\n",
              "      const quickchartButtonEl =\n",
              "        document.querySelector('#' + key + ' button');\n",
              "      quickchartButtonEl.disabled = true;  // To prevent multiple clicks.\n",
              "      quickchartButtonEl.classList.add('colab-df-spinner');\n",
              "      try {\n",
              "        const charts = await google.colab.kernel.invokeFunction(\n",
              "            'suggestCharts', [key], {});\n",
              "      } catch (error) {\n",
              "        console.error('Error during call to suggestCharts:', error);\n",
              "      }\n",
              "      quickchartButtonEl.classList.remove('colab-df-spinner');\n",
              "      quickchartButtonEl.classList.add('colab-df-quickchart-complete');\n",
              "    }\n",
              "    (() => {\n",
              "      let quickchartButtonEl =\n",
              "        document.querySelector('#df-3d92b234-9289-4cf3-987d-9fa31fdc0b75 button');\n",
              "      quickchartButtonEl.style.display =\n",
              "        google.colab.kernel.accessAllowed ? 'block' : 'none';\n",
              "    })();\n",
              "  </script>\n",
              "</div>\n",
              "    </div>\n",
              "  </div>\n"
            ]
          },
          "metadata": {},
          "execution_count": 22
        }
      ]
    },
    {
      "cell_type": "code",
      "source": [
        "# \"Age\"が欠損していない行（学習データ）と欠損している行を分割\n",
        "known_age = age_df[age_df[\"Age\"].notnull()].values\n",
        "unknown_age = age_df[age_df[\"Age\"].isnull()].values\n",
        "\n",
        "# 学習データの説明変数と目的変数\n",
        "X_age = known_age[:, 1:]\n",
        "y_age = known_age[:, 0]\n",
        "\n",
        "# ランダムフォレストの回帰モデルを構築\n",
        "rfr_age = RandomForestRegressor(random_state=42, n_estimators=300, n_jobs=-1)\n",
        "rfr_age.fit(X_age, y_age)\n",
        "\n",
        "# \"Age\"が欠損している行の\"Age\"を予測\n",
        "predict_age = rfr_age.predict(unknown_age[:, 1:])\n",
        "\n",
        "# trainデータの欠損している\"Age\"を補完\n",
        "train_age_null_size = df[\"Age\"].isnull().sum()\n",
        "df.loc[(df[\"Age\"].isnull()), \"Age\"] = predict_age[:train_age_null_size]\n",
        "\n",
        "# testデータの欠損している\"Age\"を補完\n",
        "df_test.loc[(df_test[\"Age\"].isnull()), \"Age\"] = predict_age[train_age_null_size:]\n",
        "\n",
        "# 全データの欠損している\"Age\"を補完\n",
        "df_all.loc[(df_all[\"Age\"].isnull()), \"Age\"] = predict_age"
      ],
      "metadata": {
        "id": "fBMH2SNyAUc3"
      },
      "execution_count": null,
      "outputs": []
    },
    {
      "cell_type": "markdown",
      "source": [
        "#### 2.1.2 \"Fare\"列"
      ],
      "metadata": {
        "id": "zlcKl5SJTvOH"
      }
    },
    {
      "cell_type": "code",
      "source": [
        "# \"Fare\"列の欠損行を抽出\n",
        "df_test[df_test[\"Fare\"].isnull()]"
      ],
      "metadata": {
        "colab": {
          "base_uri": "https://localhost:8080/"
        },
        "id": "aC9FA6WcMv9b",
        "outputId": "7248c792-1e0d-4333-cb29-ee86ab4b452b"
      },
      "execution_count": null,
      "outputs": [
        {
          "output_type": "execute_result",
          "data": {
            "text/plain": [
              "     PassengerId  Pclass                Name   Sex   Age  SibSp  Parch Ticket  \\\n",
              "152         1044       3  Storey, Mr. Thomas  male  60.5      0      0   3701   \n",
              "\n",
              "     Fare Cabin Embarked Title  \n",
              "152   NaN   NaN        S    Mr  "
            ],
            "text/html": [
              "\n",
              "  <div id=\"df-f5b5ab45-43f0-4d33-a17c-ecc5553aa098\" class=\"colab-df-container\">\n",
              "    <div>\n",
              "<style scoped>\n",
              "    .dataframe tbody tr th:only-of-type {\n",
              "        vertical-align: middle;\n",
              "    }\n",
              "\n",
              "    .dataframe tbody tr th {\n",
              "        vertical-align: top;\n",
              "    }\n",
              "\n",
              "    .dataframe thead th {\n",
              "        text-align: right;\n",
              "    }\n",
              "</style>\n",
              "<table border=\"1\" class=\"dataframe\">\n",
              "  <thead>\n",
              "    <tr style=\"text-align: right;\">\n",
              "      <th></th>\n",
              "      <th>PassengerId</th>\n",
              "      <th>Pclass</th>\n",
              "      <th>Name</th>\n",
              "      <th>Sex</th>\n",
              "      <th>Age</th>\n",
              "      <th>SibSp</th>\n",
              "      <th>Parch</th>\n",
              "      <th>Ticket</th>\n",
              "      <th>Fare</th>\n",
              "      <th>Cabin</th>\n",
              "      <th>Embarked</th>\n",
              "      <th>Title</th>\n",
              "    </tr>\n",
              "  </thead>\n",
              "  <tbody>\n",
              "    <tr>\n",
              "      <th>152</th>\n",
              "      <td>1044</td>\n",
              "      <td>3</td>\n",
              "      <td>Storey, Mr. Thomas</td>\n",
              "      <td>male</td>\n",
              "      <td>60.5</td>\n",
              "      <td>0</td>\n",
              "      <td>0</td>\n",
              "      <td>3701</td>\n",
              "      <td>NaN</td>\n",
              "      <td>NaN</td>\n",
              "      <td>S</td>\n",
              "      <td>Mr</td>\n",
              "    </tr>\n",
              "  </tbody>\n",
              "</table>\n",
              "</div>\n",
              "    <div class=\"colab-df-buttons\">\n",
              "\n",
              "  <div class=\"colab-df-container\">\n",
              "    <button class=\"colab-df-convert\" onclick=\"convertToInteractive('df-f5b5ab45-43f0-4d33-a17c-ecc5553aa098')\"\n",
              "            title=\"Convert this dataframe to an interactive table.\"\n",
              "            style=\"display:none;\">\n",
              "\n",
              "  <svg xmlns=\"http://www.w3.org/2000/svg\" height=\"24px\" viewBox=\"0 -960 960 960\">\n",
              "    <path d=\"M120-120v-720h720v720H120Zm60-500h600v-160H180v160Zm220 220h160v-160H400v160Zm0 220h160v-160H400v160ZM180-400h160v-160H180v160Zm440 0h160v-160H620v160ZM180-180h160v-160H180v160Zm440 0h160v-160H620v160Z\"/>\n",
              "  </svg>\n",
              "    </button>\n",
              "\n",
              "  <style>\n",
              "    .colab-df-container {\n",
              "      display:flex;\n",
              "      gap: 12px;\n",
              "    }\n",
              "\n",
              "    .colab-df-convert {\n",
              "      background-color: #E8F0FE;\n",
              "      border: none;\n",
              "      border-radius: 50%;\n",
              "      cursor: pointer;\n",
              "      display: none;\n",
              "      fill: #1967D2;\n",
              "      height: 32px;\n",
              "      padding: 0 0 0 0;\n",
              "      width: 32px;\n",
              "    }\n",
              "\n",
              "    .colab-df-convert:hover {\n",
              "      background-color: #E2EBFA;\n",
              "      box-shadow: 0px 1px 2px rgba(60, 64, 67, 0.3), 0px 1px 3px 1px rgba(60, 64, 67, 0.15);\n",
              "      fill: #174EA6;\n",
              "    }\n",
              "\n",
              "    .colab-df-buttons div {\n",
              "      margin-bottom: 4px;\n",
              "    }\n",
              "\n",
              "    [theme=dark] .colab-df-convert {\n",
              "      background-color: #3B4455;\n",
              "      fill: #D2E3FC;\n",
              "    }\n",
              "\n",
              "    [theme=dark] .colab-df-convert:hover {\n",
              "      background-color: #434B5C;\n",
              "      box-shadow: 0px 1px 3px 1px rgba(0, 0, 0, 0.15);\n",
              "      filter: drop-shadow(0px 1px 2px rgba(0, 0, 0, 0.3));\n",
              "      fill: #FFFFFF;\n",
              "    }\n",
              "  </style>\n",
              "\n",
              "    <script>\n",
              "      const buttonEl =\n",
              "        document.querySelector('#df-f5b5ab45-43f0-4d33-a17c-ecc5553aa098 button.colab-df-convert');\n",
              "      buttonEl.style.display =\n",
              "        google.colab.kernel.accessAllowed ? 'block' : 'none';\n",
              "\n",
              "      async function convertToInteractive(key) {\n",
              "        const element = document.querySelector('#df-f5b5ab45-43f0-4d33-a17c-ecc5553aa098');\n",
              "        const dataTable =\n",
              "          await google.colab.kernel.invokeFunction('convertToInteractive',\n",
              "                                                    [key], {});\n",
              "        if (!dataTable) return;\n",
              "\n",
              "        const docLinkHtml = 'Like what you see? Visit the ' +\n",
              "          '<a target=\"_blank\" href=https://colab.research.google.com/notebooks/data_table.ipynb>data table notebook</a>'\n",
              "          + ' to learn more about interactive tables.';\n",
              "        element.innerHTML = '';\n",
              "        dataTable['output_type'] = 'display_data';\n",
              "        await google.colab.output.renderOutput(dataTable, element);\n",
              "        const docLink = document.createElement('div');\n",
              "        docLink.innerHTML = docLinkHtml;\n",
              "        element.appendChild(docLink);\n",
              "      }\n",
              "    </script>\n",
              "  </div>\n",
              "\n",
              "    </div>\n",
              "  </div>\n"
            ]
          },
          "metadata": {},
          "execution_count": 24
        }
      ]
    },
    {
      "cell_type": "code",
      "source": [
        "# チケットクラス3、出港地\"S\"の中央値で補完\n",
        "fare_median = df_all[(df_all[\"Embarked\"] == \"S\") & (df_all[\"Pclass\"] == 3)][\"Fare\"].median()\n",
        "df_test[\"Fare\"].fillna(fare_median, inplace=True)\n",
        "df_all[\"Fare\"].fillna(fare_median, inplace=True)"
      ],
      "metadata": {
        "id": "kz4n3w95afwa"
      },
      "execution_count": null,
      "outputs": []
    },
    {
      "cell_type": "markdown",
      "source": [
        "#### 2.1.3 \"Cabin\"列"
      ],
      "metadata": {
        "id": "W05XHdw7UULz"
      }
    },
    {
      "cell_type": "code",
      "source": [
        "# \"Unknown\"で補完\n",
        "df[\"Cabin\"] = df[\"Cabin\"].fillna(\"Unknown\")\n",
        "df_test[\"Cabin\"] = df_test[\"Cabin\"].fillna(\"Unknown\")\n",
        "df_all[\"Cabin\"] = df_all[\"Cabin\"].fillna(\"Unknown\")"
      ],
      "metadata": {
        "id": "xjFeMkO2MAxD"
      },
      "execution_count": null,
      "outputs": []
    },
    {
      "cell_type": "markdown",
      "source": [
        "#### 2.1.4 \"Embarked\"列"
      ],
      "metadata": {
        "id": "OdT1BcULUyn-"
      }
    },
    {
      "cell_type": "code",
      "source": [
        "# \"Embarked\"列の欠損行を抽出\n",
        "df[df[\"Embarked\"].isnull()]"
      ],
      "metadata": {
        "colab": {
          "base_uri": "https://localhost:8080/"
        },
        "id": "6dXbcIU4I1aB",
        "outputId": "84327df2-4137-400b-cf32-68dde8fbe46d"
      },
      "execution_count": null,
      "outputs": [
        {
          "output_type": "execute_result",
          "data": {
            "text/plain": [
              "     PassengerId  Perished  Pclass                                       Name  \\\n",
              "61            62         0       1                        Icard, Miss. Amelie   \n",
              "829          830         0       1  Stone, Mrs. George Nelson (Martha Evelyn)   \n",
              "\n",
              "        Sex   Age  SibSp  Parch  Ticket  Fare Cabin Embarked Title  \n",
              "61   female  38.0      0      0  113572  80.0   B28      NaN  Miss  \n",
              "829  female  62.0      0      0  113572  80.0   B28      NaN   Mrs  "
            ],
            "text/html": [
              "\n",
              "  <div id=\"df-417d8c24-4ee5-4eb1-8058-cc9888f161dd\" class=\"colab-df-container\">\n",
              "    <div>\n",
              "<style scoped>\n",
              "    .dataframe tbody tr th:only-of-type {\n",
              "        vertical-align: middle;\n",
              "    }\n",
              "\n",
              "    .dataframe tbody tr th {\n",
              "        vertical-align: top;\n",
              "    }\n",
              "\n",
              "    .dataframe thead th {\n",
              "        text-align: right;\n",
              "    }\n",
              "</style>\n",
              "<table border=\"1\" class=\"dataframe\">\n",
              "  <thead>\n",
              "    <tr style=\"text-align: right;\">\n",
              "      <th></th>\n",
              "      <th>PassengerId</th>\n",
              "      <th>Perished</th>\n",
              "      <th>Pclass</th>\n",
              "      <th>Name</th>\n",
              "      <th>Sex</th>\n",
              "      <th>Age</th>\n",
              "      <th>SibSp</th>\n",
              "      <th>Parch</th>\n",
              "      <th>Ticket</th>\n",
              "      <th>Fare</th>\n",
              "      <th>Cabin</th>\n",
              "      <th>Embarked</th>\n",
              "      <th>Title</th>\n",
              "    </tr>\n",
              "  </thead>\n",
              "  <tbody>\n",
              "    <tr>\n",
              "      <th>61</th>\n",
              "      <td>62</td>\n",
              "      <td>0</td>\n",
              "      <td>1</td>\n",
              "      <td>Icard, Miss. Amelie</td>\n",
              "      <td>female</td>\n",
              "      <td>38.0</td>\n",
              "      <td>0</td>\n",
              "      <td>0</td>\n",
              "      <td>113572</td>\n",
              "      <td>80.0</td>\n",
              "      <td>B28</td>\n",
              "      <td>NaN</td>\n",
              "      <td>Miss</td>\n",
              "    </tr>\n",
              "    <tr>\n",
              "      <th>829</th>\n",
              "      <td>830</td>\n",
              "      <td>0</td>\n",
              "      <td>1</td>\n",
              "      <td>Stone, Mrs. George Nelson (Martha Evelyn)</td>\n",
              "      <td>female</td>\n",
              "      <td>62.0</td>\n",
              "      <td>0</td>\n",
              "      <td>0</td>\n",
              "      <td>113572</td>\n",
              "      <td>80.0</td>\n",
              "      <td>B28</td>\n",
              "      <td>NaN</td>\n",
              "      <td>Mrs</td>\n",
              "    </tr>\n",
              "  </tbody>\n",
              "</table>\n",
              "</div>\n",
              "    <div class=\"colab-df-buttons\">\n",
              "\n",
              "  <div class=\"colab-df-container\">\n",
              "    <button class=\"colab-df-convert\" onclick=\"convertToInteractive('df-417d8c24-4ee5-4eb1-8058-cc9888f161dd')\"\n",
              "            title=\"Convert this dataframe to an interactive table.\"\n",
              "            style=\"display:none;\">\n",
              "\n",
              "  <svg xmlns=\"http://www.w3.org/2000/svg\" height=\"24px\" viewBox=\"0 -960 960 960\">\n",
              "    <path d=\"M120-120v-720h720v720H120Zm60-500h600v-160H180v160Zm220 220h160v-160H400v160Zm0 220h160v-160H400v160ZM180-400h160v-160H180v160Zm440 0h160v-160H620v160ZM180-180h160v-160H180v160Zm440 0h160v-160H620v160Z\"/>\n",
              "  </svg>\n",
              "    </button>\n",
              "\n",
              "  <style>\n",
              "    .colab-df-container {\n",
              "      display:flex;\n",
              "      gap: 12px;\n",
              "    }\n",
              "\n",
              "    .colab-df-convert {\n",
              "      background-color: #E8F0FE;\n",
              "      border: none;\n",
              "      border-radius: 50%;\n",
              "      cursor: pointer;\n",
              "      display: none;\n",
              "      fill: #1967D2;\n",
              "      height: 32px;\n",
              "      padding: 0 0 0 0;\n",
              "      width: 32px;\n",
              "    }\n",
              "\n",
              "    .colab-df-convert:hover {\n",
              "      background-color: #E2EBFA;\n",
              "      box-shadow: 0px 1px 2px rgba(60, 64, 67, 0.3), 0px 1px 3px 1px rgba(60, 64, 67, 0.15);\n",
              "      fill: #174EA6;\n",
              "    }\n",
              "\n",
              "    .colab-df-buttons div {\n",
              "      margin-bottom: 4px;\n",
              "    }\n",
              "\n",
              "    [theme=dark] .colab-df-convert {\n",
              "      background-color: #3B4455;\n",
              "      fill: #D2E3FC;\n",
              "    }\n",
              "\n",
              "    [theme=dark] .colab-df-convert:hover {\n",
              "      background-color: #434B5C;\n",
              "      box-shadow: 0px 1px 3px 1px rgba(0, 0, 0, 0.15);\n",
              "      filter: drop-shadow(0px 1px 2px rgba(0, 0, 0, 0.3));\n",
              "      fill: #FFFFFF;\n",
              "    }\n",
              "  </style>\n",
              "\n",
              "    <script>\n",
              "      const buttonEl =\n",
              "        document.querySelector('#df-417d8c24-4ee5-4eb1-8058-cc9888f161dd button.colab-df-convert');\n",
              "      buttonEl.style.display =\n",
              "        google.colab.kernel.accessAllowed ? 'block' : 'none';\n",
              "\n",
              "      async function convertToInteractive(key) {\n",
              "        const element = document.querySelector('#df-417d8c24-4ee5-4eb1-8058-cc9888f161dd');\n",
              "        const dataTable =\n",
              "          await google.colab.kernel.invokeFunction('convertToInteractive',\n",
              "                                                    [key], {});\n",
              "        if (!dataTable) return;\n",
              "\n",
              "        const docLinkHtml = 'Like what you see? Visit the ' +\n",
              "          '<a target=\"_blank\" href=https://colab.research.google.com/notebooks/data_table.ipynb>data table notebook</a>'\n",
              "          + ' to learn more about interactive tables.';\n",
              "        element.innerHTML = '';\n",
              "        dataTable['output_type'] = 'display_data';\n",
              "        await google.colab.output.renderOutput(dataTable, element);\n",
              "        const docLink = document.createElement('div');\n",
              "        docLink.innerHTML = docLinkHtml;\n",
              "        element.appendChild(docLink);\n",
              "      }\n",
              "    </script>\n",
              "  </div>\n",
              "\n",
              "\n",
              "<div id=\"df-1a652981-3074-43f9-a747-fca24f6d75b5\">\n",
              "  <button class=\"colab-df-quickchart\" onclick=\"quickchart('df-1a652981-3074-43f9-a747-fca24f6d75b5')\"\n",
              "            title=\"Suggest charts\"\n",
              "            style=\"display:none;\">\n",
              "\n",
              "<svg xmlns=\"http://www.w3.org/2000/svg\" height=\"24px\"viewBox=\"0 0 24 24\"\n",
              "     width=\"24px\">\n",
              "    <g>\n",
              "        <path d=\"M19 3H5c-1.1 0-2 .9-2 2v14c0 1.1.9 2 2 2h14c1.1 0 2-.9 2-2V5c0-1.1-.9-2-2-2zM9 17H7v-7h2v7zm4 0h-2V7h2v10zm4 0h-2v-4h2v4z\"/>\n",
              "    </g>\n",
              "</svg>\n",
              "  </button>\n",
              "\n",
              "<style>\n",
              "  .colab-df-quickchart {\n",
              "      --bg-color: #E8F0FE;\n",
              "      --fill-color: #1967D2;\n",
              "      --hover-bg-color: #E2EBFA;\n",
              "      --hover-fill-color: #174EA6;\n",
              "      --disabled-fill-color: #AAA;\n",
              "      --disabled-bg-color: #DDD;\n",
              "  }\n",
              "\n",
              "  [theme=dark] .colab-df-quickchart {\n",
              "      --bg-color: #3B4455;\n",
              "      --fill-color: #D2E3FC;\n",
              "      --hover-bg-color: #434B5C;\n",
              "      --hover-fill-color: #FFFFFF;\n",
              "      --disabled-bg-color: #3B4455;\n",
              "      --disabled-fill-color: #666;\n",
              "  }\n",
              "\n",
              "  .colab-df-quickchart {\n",
              "    background-color: var(--bg-color);\n",
              "    border: none;\n",
              "    border-radius: 50%;\n",
              "    cursor: pointer;\n",
              "    display: none;\n",
              "    fill: var(--fill-color);\n",
              "    height: 32px;\n",
              "    padding: 0;\n",
              "    width: 32px;\n",
              "  }\n",
              "\n",
              "  .colab-df-quickchart:hover {\n",
              "    background-color: var(--hover-bg-color);\n",
              "    box-shadow: 0 1px 2px rgba(60, 64, 67, 0.3), 0 1px 3px 1px rgba(60, 64, 67, 0.15);\n",
              "    fill: var(--button-hover-fill-color);\n",
              "  }\n",
              "\n",
              "  .colab-df-quickchart-complete:disabled,\n",
              "  .colab-df-quickchart-complete:disabled:hover {\n",
              "    background-color: var(--disabled-bg-color);\n",
              "    fill: var(--disabled-fill-color);\n",
              "    box-shadow: none;\n",
              "  }\n",
              "\n",
              "  .colab-df-spinner {\n",
              "    border: 2px solid var(--fill-color);\n",
              "    border-color: transparent;\n",
              "    border-bottom-color: var(--fill-color);\n",
              "    animation:\n",
              "      spin 1s steps(1) infinite;\n",
              "  }\n",
              "\n",
              "  @keyframes spin {\n",
              "    0% {\n",
              "      border-color: transparent;\n",
              "      border-bottom-color: var(--fill-color);\n",
              "      border-left-color: var(--fill-color);\n",
              "    }\n",
              "    20% {\n",
              "      border-color: transparent;\n",
              "      border-left-color: var(--fill-color);\n",
              "      border-top-color: var(--fill-color);\n",
              "    }\n",
              "    30% {\n",
              "      border-color: transparent;\n",
              "      border-left-color: var(--fill-color);\n",
              "      border-top-color: var(--fill-color);\n",
              "      border-right-color: var(--fill-color);\n",
              "    }\n",
              "    40% {\n",
              "      border-color: transparent;\n",
              "      border-right-color: var(--fill-color);\n",
              "      border-top-color: var(--fill-color);\n",
              "    }\n",
              "    60% {\n",
              "      border-color: transparent;\n",
              "      border-right-color: var(--fill-color);\n",
              "    }\n",
              "    80% {\n",
              "      border-color: transparent;\n",
              "      border-right-color: var(--fill-color);\n",
              "      border-bottom-color: var(--fill-color);\n",
              "    }\n",
              "    90% {\n",
              "      border-color: transparent;\n",
              "      border-bottom-color: var(--fill-color);\n",
              "    }\n",
              "  }\n",
              "</style>\n",
              "\n",
              "  <script>\n",
              "    async function quickchart(key) {\n",
              "      const quickchartButtonEl =\n",
              "        document.querySelector('#' + key + ' button');\n",
              "      quickchartButtonEl.disabled = true;  // To prevent multiple clicks.\n",
              "      quickchartButtonEl.classList.add('colab-df-spinner');\n",
              "      try {\n",
              "        const charts = await google.colab.kernel.invokeFunction(\n",
              "            'suggestCharts', [key], {});\n",
              "      } catch (error) {\n",
              "        console.error('Error during call to suggestCharts:', error);\n",
              "      }\n",
              "      quickchartButtonEl.classList.remove('colab-df-spinner');\n",
              "      quickchartButtonEl.classList.add('colab-df-quickchart-complete');\n",
              "    }\n",
              "    (() => {\n",
              "      let quickchartButtonEl =\n",
              "        document.querySelector('#df-1a652981-3074-43f9-a747-fca24f6d75b5 button');\n",
              "      quickchartButtonEl.style.display =\n",
              "        google.colab.kernel.accessAllowed ? 'block' : 'none';\n",
              "    })();\n",
              "  </script>\n",
              "</div>\n",
              "    </div>\n",
              "  </div>\n"
            ]
          },
          "metadata": {},
          "execution_count": 27
        }
      ]
    },
    {
      "cell_type": "code",
      "source": [
        "# 出港地別の料金の中央値（チケットクラス1）\n",
        "c_median = df[(df[\"Embarked\"] == \"C\") & (df[\"Pclass\"] == 1)][\"Fare\"].median()\n",
        "s_median = df[(df[\"Embarked\"] == \"S\") & (df[\"Pclass\"] == 1)][\"Fare\"].median()\n",
        "q_median = df[(df[\"Embarked\"] == \"Q\") & (df[\"Pclass\"] == 1)][\"Fare\"].median()\n",
        "\n",
        "print(f\"出港地Cの中央値: {c_median}\")\n",
        "print(f\"出港地Sの中央値: {s_median}\")\n",
        "print(f\"出港地Qの中央値: {q_median}\")"
      ],
      "metadata": {
        "colab": {
          "base_uri": "https://localhost:8080/"
        },
        "id": "bu3oebaUKDgv",
        "outputId": "36ab9a24-5923-49ce-c82b-1ced7c791943"
      },
      "execution_count": null,
      "outputs": [
        {
          "output_type": "stream",
          "name": "stdout",
          "text": [
            "出港地Cの中央値: 78.2667\n",
            "出港地Sの中央値: 52.0\n",
            "出港地Qの中央値: 90.0\n"
          ]
        }
      ]
    },
    {
      "cell_type": "code",
      "source": [
        "# \"C\"で補完\n",
        "df[\"Embarked\"].fillna(\"C\", inplace=True)\n",
        "df_all[\"Embarked\"].fillna(\"C\", inplace=True)"
      ],
      "metadata": {
        "id": "UoOGZ9eWCmqX"
      },
      "execution_count": null,
      "outputs": []
    },
    {
      "cell_type": "markdown",
      "source": [
        "### 2.2 特徴量の作成"
      ],
      "metadata": {
        "id": "9_9Ze2wsWuia"
      }
    },
    {
      "cell_type": "markdown",
      "source": [
        "#### 2.2.1 \"Title\"列"
      ],
      "metadata": {
        "id": "JRANehR9-oaP"
      }
    },
    {
      "cell_type": "code",
      "source": [
        "# \"Name\"列から敬称を抽出し、\"Title\"列を追加\n",
        "df[\"Title\"] = df[\"Name\"].str.extract(r\"([A-Za-z]+)\\.\")\n",
        "df_test[\"Title\"] = df_test[\"Name\"].str.extract(r\"([A-Za-z]+)\\.\")\n",
        "df_all[\"Title\"] = df_all[\"Name\"].str.extract(r\"([A-Za-z]+)\\.\")"
      ],
      "metadata": {
        "id": "ZapnG5PpX49S"
      },
      "execution_count": null,
      "outputs": []
    },
    {
      "cell_type": "markdown",
      "source": [
        "#### 2.2.2 \"Surname\"列"
      ],
      "metadata": {
        "id": "51PruzTu-zPx"
      }
    },
    {
      "cell_type": "code",
      "source": [
        "# \"Name\"列から名字を抽出\n",
        "df[\"Surname\"] = df[\"Name\"].map(lambda x: x.split(\",\")[0].strip())\n",
        "df_test[\"Surname\"] = df_test[\"Name\"].map(lambda x: x.split(\",\")[0].strip())\n",
        "df_all[\"Surname\"] = df_all[\"Name\"].map(lambda x: x.split(\",\")[0].strip())"
      ],
      "metadata": {
        "id": "903hkeYD-8ms"
      },
      "execution_count": null,
      "outputs": []
    },
    {
      "cell_type": "markdown",
      "source": [
        "#### 2.2.3 \"FamilyGroup\"列"
      ],
      "metadata": {
        "id": "VSdhUyD7AYLl"
      }
    },
    {
      "cell_type": "code",
      "source": [
        "# 同じ名字を持つ家族グループ\n",
        "df[\"FamilyGroup\"] = df[\"Surname\"].map(df[\"Surname\"].value_counts())\n",
        "df_test[\"FamilyGroup\"] = df_test[\"Surname\"].map(df_test[\"Surname\"].value_counts())\n",
        "df_all[\"FamilyGroup\"] = df_all[\"Surname\"].map(df_all[\"Surname\"].value_counts())"
      ],
      "metadata": {
        "id": "-pNg12OHAb34"
      },
      "execution_count": null,
      "outputs": []
    },
    {
      "cell_type": "code",
      "source": [
        "# 家族で子供(16才以下)または女性のグループ\n",
        "female_child_group_df = df_all.loc[(df_all[\"FamilyGroup\"] >= 2) & ((df_all[\"Age\"] <= 16) | (df_all[\"Sex\"] == \"female\"))]\n",
        "# 上記のグループで名字ごとの死亡率\n",
        "female_child_group_list = female_child_group_df.groupby(\"Surname\")[\"Perished\"].mean()\n",
        "\n",
        "# 名字ごとの死亡率分布\n",
        "print(female_child_group_list.value_counts())"
      ],
      "metadata": {
        "colab": {
          "base_uri": "https://localhost:8080/"
        },
        "id": "AmTK6_PFBIMy",
        "outputId": "dcd21960-dfbd-4477-954a-2cbfc8d488aa"
      },
      "execution_count": null,
      "outputs": [
        {
          "output_type": "stream",
          "name": "stdout",
          "text": [
            "0.000000    114\n",
            "1.000000     32\n",
            "0.250000      2\n",
            "0.500000      1\n",
            "0.666667      1\n",
            "0.857143      1\n",
            "Name: Perished, dtype: int64\n"
          ]
        }
      ]
    },
    {
      "cell_type": "markdown",
      "source": [
        "知見  \n",
        "・子供と女性グループは多くが死亡率0%である一方、一部では死亡率100%"
      ],
      "metadata": {
        "id": "_OaY99o_CRS-"
      }
    },
    {
      "cell_type": "code",
      "source": [
        "# 家族で大人の男性(16才超え)のグループ\n",
        "male_adult_group_df = df_all.loc[(df_all[\"FamilyGroup\"] >= 2) & (df_all[\"Age\"] > 16) & (df_all[\"Sex\"] == \"male\")]\n",
        "# 上記のグループで名字ごとの死亡率\n",
        "male_adult_group_list = male_adult_group_df.groupby(\"Surname\")[\"Perished\"].mean()\n",
        "\n",
        "# 名字ごとの死亡率分布\n",
        "print(male_adult_group_list.value_counts())"
      ],
      "metadata": {
        "colab": {
          "base_uri": "https://localhost:8080/"
        },
        "id": "ZnMQSBh9CQl4",
        "outputId": "f418e6d7-d870-4c37-a18d-5cfff066fa99"
      },
      "execution_count": null,
      "outputs": [
        {
          "output_type": "stream",
          "name": "stdout",
          "text": [
            "1.000000    117\n",
            "0.000000     20\n",
            "0.500000      6\n",
            "0.666667      2\n",
            "0.750000      1\n",
            "Name: Perished, dtype: int64\n"
          ]
        }
      ]
    },
    {
      "cell_type": "markdown",
      "source": [
        "知見  \n",
        "・大人の男性グループは多くが死亡率100%である一方、一部では死亡率0%"
      ],
      "metadata": {
        "id": "34O7vPFBEhbT"
      }
    },
    {
      "cell_type": "code",
      "source": [
        "# 子供と女性グループで死亡率100%の名字リスト\n",
        "dead_list = set(female_child_group_list[female_child_group_list.apply(lambda x: x == 1)].index)\n",
        "print(dead_list)"
      ],
      "metadata": {
        "colab": {
          "base_uri": "https://localhost:8080/"
        },
        "id": "CHvWdTFEHZ7u",
        "outputId": "d5423d2a-9820-4e3d-c02e-6772dcdcdadf"
      },
      "execution_count": null,
      "outputs": [
        {
          "output_type": "stream",
          "name": "stdout",
          "text": [
            "{'Goodwin', 'Oreskovic', 'Van Impe', 'Palsson', 'Caram', 'Ilmakangas', 'Rosblom', 'Sage', 'Johnston', 'Rice', 'Ford', 'Skoog', 'Canavan', 'Jussila', 'Attalah', 'Olsson', 'Robins', 'Lefebre', 'Strom', 'Lahtinen', 'Bourke', 'Arnold-Franchi', 'Lobb', 'Elias', 'Cacic', 'Danbom', 'Turpin', 'Boulos', 'Zabour', 'Barbara', 'Vander Planke', 'Panula'}\n"
          ]
        }
      ]
    },
    {
      "cell_type": "code",
      "source": [
        "# 大人の男性グループで死亡率0%の名字リスト\n",
        "survived_list = set(male_adult_group_list[male_adult_group_list.apply(lambda x: x == 0)].index)\n",
        "print(survived_list)"
      ],
      "metadata": {
        "colab": {
          "base_uri": "https://localhost:8080/"
        },
        "id": "d4lvYVtfJVgA",
        "outputId": "23988999-70ee-4c0b-e400-d37242c2e779"
      },
      "execution_count": null,
      "outputs": [
        {
          "output_type": "stream",
          "name": "stdout",
          "text": [
            "{'Greenfield', 'Taylor', 'Goldenberg', 'Frauenthal', 'Harder', 'Jussila', 'Nakid', 'Bishop', 'Duff Gordon', 'Chambers', 'Daly', 'McCoy', 'Cardeza', 'Dick', 'Kimball', 'Frolicher-Stehli', 'Bradley', 'Beckwith', 'Beane', 'Jonsson'}\n"
          ]
        }
      ]
    },
    {
      "cell_type": "code",
      "source": [
        "# テストデータの中でデッドリストに該当した場合、2.2.11で得られた典型的な死亡データに書き換え\n",
        "df_test.loc[df_test[\"Surname\"].apply(lambda x: x in dead_list), [\"Sex\", \"Age\", \"Title\"]] = [\"male\", 66, \"Mr\"]\n",
        "\n",
        "# テストデータの中でサバイブリストに該当した場合、2.2.11で得られた典型的な生存データに書き換え\n",
        "df_test.loc[df_test[\"Surname\"].apply(lambda x: x in survived_list), [\"Sex\", \"Age\", \"Title\"]] = [\"female\", 61, \"Miss\"]"
      ],
      "metadata": {
        "id": "LJSL8VtNJouf"
      },
      "execution_count": null,
      "outputs": []
    },
    {
      "cell_type": "markdown",
      "source": [
        "#### 2.2.4 \"SibSpLabel\"列"
      ],
      "metadata": {
        "id": "V2jtC4GEAdy5"
      }
    },
    {
      "cell_type": "code",
      "source": [
        "# \"SibSp\"別の死亡率\n",
        "sns.barplot(x=\"SibSp\", y=\"Perished\", data=df)\n",
        "plt.show()"
      ],
      "metadata": {
        "colab": {
          "base_uri": "https://localhost:8080/"
        },
        "id": "hTx3K39JAi_B",
        "outputId": "81883609-bf8c-4f18-cece-88bab85390fc"
      },
      "execution_count": null,
      "outputs": [
        {
          "output_type": "display_data",
          "data": {
            "text/plain": [
              "<Figure size 640x480 with 1 Axes>"
            ],
            "image/png": "[encoded data removed]"
          },
          "metadata": {}
        }
      ]
    },
    {
      "cell_type": "code",
      "source": [
        "# \"SibSp\"別の死亡率でグループ分け\n",
        "def sibsp_label(sibsp):\n",
        "    if (0 <= sibsp <= 3):\n",
        "        return 0\n",
        "    elif (sibsp >= 4):\n",
        "        return 1\n",
        "\n",
        "df[\"SibSpLabel\"] = df[\"SibSp\"].apply(sibsp_label)\n",
        "df_test[\"SibSpLabel\"] = df_test[\"SibSp\"].apply(sibsp_label)\n",
        "df_all[\"SibSpLabel\"] = df_all[\"SibSp\"].apply(sibsp_label)"
      ],
      "metadata": {
        "id": "u5qDKf58Aq6L"
      },
      "execution_count": null,
      "outputs": []
    },
    {
      "cell_type": "code",
      "source": [
        "# \"SibSpLabel\"別の死亡率\n",
        "sns.barplot(x=\"SibSpLabel\", y=\"Perished\", data=df)\n",
        "plt.show()"
      ],
      "metadata": {
        "colab": {
          "base_uri": "https://localhost:8080/"
        },
        "id": "YMScCEK-CbtC",
        "outputId": "e5441eef-ee05-444a-8c5a-e0f0a286fa2c"
      },
      "execution_count": null,
      "outputs": [
        {
          "output_type": "display_data",
          "data": {
            "text/plain": [
              "<Figure size 640x480 with 1 Axes>"
            ],
            "image/png": "[encoded data removed]"
          },
          "metadata": {}
        }
      ]
    },
    {
      "cell_type": "markdown",
      "source": [
        "#### 2.2.5 \"ParchLabel\"列"
      ],
      "metadata": {
        "id": "L0Aef-POBToE"
      }
    },
    {
      "cell_type": "code",
      "source": [
        "# \"Parch\"別の死亡率\n",
        "sns.barplot(x=\"Parch\", y=\"Perished\", data=df)\n",
        "plt.show()"
      ],
      "metadata": {
        "colab": {
          "base_uri": "https://localhost:8080/"
        },
        "outputId": "228f0d8a-6aaf-427f-dd5c-878361931aa7",
        "id": "XX6dqjJTBToF"
      },
      "execution_count": null,
      "outputs": [
        {
          "output_type": "display_data",
          "data": {
            "text/plain": [
              "<Figure size 640x480 with 1 Axes>"
            ],
            "image/png": "[encoded data removed]"
          },
          "metadata": {}
        }
      ]
    },
    {
      "cell_type": "code",
      "source": [
        "# \"Parch\"別の死亡率でグループ分け\n",
        "def parch_label(parch):\n",
        "    if (1 <= parch <= 3):\n",
        "        return 0\n",
        "    elif (parch == 0):\n",
        "        return 1\n",
        "    elif (parch >= 4):\n",
        "        return 2\n",
        "\n",
        "df[\"ParchLabel\"] = df[\"Parch\"].apply(parch_label)\n",
        "df_test[\"ParchLabel\"] = df_test[\"Parch\"].apply(parch_label)\n",
        "df_all[\"ParchLabel\"] = df_all[\"Parch\"].apply(parch_label)"
      ],
      "metadata": {
        "id": "f-N0fepwBToF"
      },
      "execution_count": null,
      "outputs": []
    },
    {
      "cell_type": "code",
      "source": [
        "# \"ParchLabel\"別の死亡率\n",
        "sns.barplot(x=\"ParchLabel\", y=\"Perished\", data=df)\n",
        "plt.show()"
      ],
      "metadata": {
        "colab": {
          "base_uri": "https://localhost:8080/"
        },
        "id": "Fwjtotj6CkAI",
        "outputId": "020b5c3f-4398-49fc-a38a-8fbb12f1b686"
      },
      "execution_count": null,
      "outputs": [
        {
          "output_type": "display_data",
          "data": {
            "text/plain": [
              "<Figure size 640x480 with 1 Axes>"
            ],
            "image/png": "[encoded data removed]"
          },
          "metadata": {}
        }
      ]
    },
    {
      "cell_type": "markdown",
      "source": [
        "#### 2.2.6 \"FamilySize\"列"
      ],
      "metadata": {
        "id": "zibaju5uXED4"
      }
    },
    {
      "cell_type": "code",
      "source": [
        "# 家族の大きさ\n",
        "df[\"FamilySize\"] = df[\"SibSp\"] + df[\"Parch\"] + 1\n",
        "df_test[\"FamilySize\"] = df_test[\"SibSp\"] + df_test[\"Parch\"] + 1\n",
        "df_all[\"FamilySize\"] = df_all[\"SibSp\"] + df_all[\"Parch\"] + 1"
      ],
      "metadata": {
        "id": "43BjMU0HaKke"
      },
      "execution_count": null,
      "outputs": []
    },
    {
      "cell_type": "code",
      "source": [
        "# \"FamilySize\"別の死亡率\n",
        "sns.barplot(x=\"FamilySize\", y=\"Perished\", data=df)\n",
        "plt.show()"
      ],
      "metadata": {
        "colab": {
          "base_uri": "https://localhost:8080/"
        },
        "id": "siV1DgLkSvWQ",
        "outputId": "ccd956e6-d499-49b6-ce64-660378ed6880"
      },
      "execution_count": null,
      "outputs": [
        {
          "output_type": "display_data",
          "data": {
            "text/plain": [
              "<Figure size 640x480 with 1 Axes>"
            ],
            "image/png": "[encoded data removed]"
          },
          "metadata": {}
        }
      ]
    },
    {
      "cell_type": "code",
      "source": [
        "df[[\"FamilySize\", \"Perished\"]].groupby([\"FamilySize\"], as_index=True).mean().sort_values(by=\"Perished\")"
      ],
      "metadata": {
        "colab": {
          "base_uri": "https://localhost:8080/"
        },
        "id": "aYTcMfgPSuo4",
        "outputId": "691fc044-eabd-4011-d064-62d790fe1e84"
      },
      "execution_count": null,
      "outputs": [
        {
          "output_type": "execute_result",
          "data": {
            "text/plain": [
              "            Perished\n",
              "FamilySize          \n",
              "4           0.275862\n",
              "3           0.421569\n",
              "2           0.447205\n",
              "7           0.666667\n",
              "1           0.696462\n",
              "5           0.800000\n",
              "6           0.863636\n",
              "8           1.000000\n",
              "11          1.000000"
            ],
            "text/html": [
              "\n",
              "  <div id=\"df-0e40504d-8ee8-4ec4-b175-308bd734c22c\" class=\"colab-df-container\">\n",
              "    <div>\n",
              "<style scoped>\n",
              "    .dataframe tbody tr th:only-of-type {\n",
              "        vertical-align: middle;\n",
              "    }\n",
              "\n",
              "    .dataframe tbody tr th {\n",
              "        vertical-align: top;\n",
              "    }\n",
              "\n",
              "    .dataframe thead th {\n",
              "        text-align: right;\n",
              "    }\n",
              "</style>\n",
              "<table border=\"1\" class=\"dataframe\">\n",
              "  <thead>\n",
              "    <tr style=\"text-align: right;\">\n",
              "      <th></th>\n",
              "      <th>Perished</th>\n",
              "    </tr>\n",
              "    <tr>\n",
              "      <th>FamilySize</th>\n",
              "      <th></th>\n",
              "    </tr>\n",
              "  </thead>\n",
              "  <tbody>\n",
              "    <tr>\n",
              "      <th>4</th>\n",
              "      <td>0.275862</td>\n",
              "    </tr>\n",
              "    <tr>\n",
              "      <th>3</th>\n",
              "      <td>0.421569</td>\n",
              "    </tr>\n",
              "    <tr>\n",
              "      <th>2</th>\n",
              "      <td>0.447205</td>\n",
              "    </tr>\n",
              "    <tr>\n",
              "      <th>7</th>\n",
              "      <td>0.666667</td>\n",
              "    </tr>\n",
              "    <tr>\n",
              "      <th>1</th>\n",
              "      <td>0.696462</td>\n",
              "    </tr>\n",
              "    <tr>\n",
              "      <th>5</th>\n",
              "      <td>0.800000</td>\n",
              "    </tr>\n",
              "    <tr>\n",
              "      <th>6</th>\n",
              "      <td>0.863636</td>\n",
              "    </tr>\n",
              "    <tr>\n",
              "      <th>8</th>\n",
              "      <td>1.000000</td>\n",
              "    </tr>\n",
              "    <tr>\n",
              "      <th>11</th>\n",
              "      <td>1.000000</td>\n",
              "    </tr>\n",
              "  </tbody>\n",
              "</table>\n",
              "</div>\n",
              "    <div class=\"colab-df-buttons\">\n",
              "\n",
              "  <div class=\"colab-df-container\">\n",
              "    <button class=\"colab-df-convert\" onclick=\"convertToInteractive('df-0e40504d-8ee8-4ec4-b175-308bd734c22c')\"\n",
              "            title=\"Convert this dataframe to an interactive table.\"\n",
              "            style=\"display:none;\">\n",
              "\n",
              "  <svg xmlns=\"http://www.w3.org/2000/svg\" height=\"24px\" viewBox=\"0 -960 960 960\">\n",
              "    <path d=\"M120-120v-720h720v720H120Zm60-500h600v-160H180v160Zm220 220h160v-160H400v160Zm0 220h160v-160H400v160ZM180-400h160v-160H180v160Zm440 0h160v-160H620v160ZM180-180h160v-160H180v160Zm440 0h160v-160H620v160Z\"/>\n",
              "  </svg>\n",
              "    </button>\n",
              "\n",
              "  <style>\n",
              "    .colab-df-container {\n",
              "      display:flex;\n",
              "      gap: 12px;\n",
              "    }\n",
              "\n",
              "    .colab-df-convert {\n",
              "      background-color: #E8F0FE;\n",
              "      border: none;\n",
              "      border-radius: 50%;\n",
              "      cursor: pointer;\n",
              "      display: none;\n",
              "      fill: #1967D2;\n",
              "      height: 32px;\n",
              "      padding: 0 0 0 0;\n",
              "      width: 32px;\n",
              "    }\n",
              "\n",
              "    .colab-df-convert:hover {\n",
              "      background-color: #E2EBFA;\n",
              "      box-shadow: 0px 1px 2px rgba(60, 64, 67, 0.3), 0px 1px 3px 1px rgba(60, 64, 67, 0.15);\n",
              "      fill: #174EA6;\n",
              "    }\n",
              "\n",
              "    .colab-df-buttons div {\n",
              "      margin-bottom: 4px;\n",
              "    }\n",
              "\n",
              "    [theme=dark] .colab-df-convert {\n",
              "      background-color: #3B4455;\n",
              "      fill: #D2E3FC;\n",
              "    }\n",
              "\n",
              "    [theme=dark] .colab-df-convert:hover {\n",
              "      background-color: #434B5C;\n",
              "      box-shadow: 0px 1px 3px 1px rgba(0, 0, 0, 0.15);\n",
              "      filter: drop-shadow(0px 1px 2px rgba(0, 0, 0, 0.3));\n",
              "      fill: #FFFFFF;\n",
              "    }\n",
              "  </style>\n",
              "\n",
              "    <script>\n",
              "      const buttonEl =\n",
              "        document.querySelector('#df-0e40504d-8ee8-4ec4-b175-308bd734c22c button.colab-df-convert');\n",
              "      buttonEl.style.display =\n",
              "        google.colab.kernel.accessAllowed ? 'block' : 'none';\n",
              "\n",
              "      async function convertToInteractive(key) {\n",
              "        const element = document.querySelector('#df-0e40504d-8ee8-4ec4-b175-308bd734c22c');\n",
              "        const dataTable =\n",
              "          await google.colab.kernel.invokeFunction('convertToInteractive',\n",
              "                                                    [key], {});\n",
              "        if (!dataTable) return;\n",
              "\n",
              "        const docLinkHtml = 'Like what you see? Visit the ' +\n",
              "          '<a target=\"_blank\" href=https://colab.research.google.com/notebooks/data_table.ipynb>data table notebook</a>'\n",
              "          + ' to learn more about interactive tables.';\n",
              "        element.innerHTML = '';\n",
              "        dataTable['output_type'] = 'display_data';\n",
              "        await google.colab.output.renderOutput(dataTable, element);\n",
              "        const docLink = document.createElement('div');\n",
              "        docLink.innerHTML = docLinkHtml;\n",
              "        element.appendChild(docLink);\n",
              "      }\n",
              "    </script>\n",
              "  </div>\n",
              "\n",
              "\n",
              "<div id=\"df-38616d7c-017a-488d-93da-c25f10835064\">\n",
              "  <button class=\"colab-df-quickchart\" onclick=\"quickchart('df-38616d7c-017a-488d-93da-c25f10835064')\"\n",
              "            title=\"Suggest charts\"\n",
              "            style=\"display:none;\">\n",
              "\n",
              "<svg xmlns=\"http://www.w3.org/2000/svg\" height=\"24px\"viewBox=\"0 0 24 24\"\n",
              "     width=\"24px\">\n",
              "    <g>\n",
              "        <path d=\"M19 3H5c-1.1 0-2 .9-2 2v14c0 1.1.9 2 2 2h14c1.1 0 2-.9 2-2V5c0-1.1-.9-2-2-2zM9 17H7v-7h2v7zm4 0h-2V7h2v10zm4 0h-2v-4h2v4z\"/>\n",
              "    </g>\n",
              "</svg>\n",
              "  </button>\n",
              "\n",
              "<style>\n",
              "  .colab-df-quickchart {\n",
              "      --bg-color: #E8F0FE;\n",
              "      --fill-color: #1967D2;\n",
              "      --hover-bg-color: #E2EBFA;\n",
              "      --hover-fill-color: #174EA6;\n",
              "      --disabled-fill-color: #AAA;\n",
              "      --disabled-bg-color: #DDD;\n",
              "  }\n",
              "\n",
              "  [theme=dark] .colab-df-quickchart {\n",
              "      --bg-color: #3B4455;\n",
              "      --fill-color: #D2E3FC;\n",
              "      --hover-bg-color: #434B5C;\n",
              "      --hover-fill-color: #FFFFFF;\n",
              "      --disabled-bg-color: #3B4455;\n",
              "      --disabled-fill-color: #666;\n",
              "  }\n",
              "\n",
              "  .colab-df-quickchart {\n",
              "    background-color: var(--bg-color);\n",
              "    border: none;\n",
              "    border-radius: 50%;\n",
              "    cursor: pointer;\n",
              "    display: none;\n",
              "    fill: var(--fill-color);\n",
              "    height: 32px;\n",
              "    padding: 0;\n",
              "    width: 32px;\n",
              "  }\n",
              "\n",
              "  .colab-df-quickchart:hover {\n",
              "    background-color: var(--hover-bg-color);\n",
              "    box-shadow: 0 1px 2px rgba(60, 64, 67, 0.3), 0 1px 3px 1px rgba(60, 64, 67, 0.15);\n",
              "    fill: var(--button-hover-fill-color);\n",
              "  }\n",
              "\n",
              "  .colab-df-quickchart-complete:disabled,\n",
              "  .colab-df-quickchart-complete:disabled:hover {\n",
              "    background-color: var(--disabled-bg-color);\n",
              "    fill: var(--disabled-fill-color);\n",
              "    box-shadow: none;\n",
              "  }\n",
              "\n",
              "  .colab-df-spinner {\n",
              "    border: 2px solid var(--fill-color);\n",
              "    border-color: transparent;\n",
              "    border-bottom-color: var(--fill-color);\n",
              "    animation:\n",
              "      spin 1s steps(1) infinite;\n",
              "  }\n",
              "\n",
              "  @keyframes spin {\n",
              "    0% {\n",
              "      border-color: transparent;\n",
              "      border-bottom-color: var(--fill-color);\n",
              "      border-left-color: var(--fill-color);\n",
              "    }\n",
              "    20% {\n",
              "      border-color: transparent;\n",
              "      border-left-color: var(--fill-color);\n",
              "      border-top-color: var(--fill-color);\n",
              "    }\n",
              "    30% {\n",
              "      border-color: transparent;\n",
              "      border-left-color: var(--fill-color);\n",
              "      border-top-color: var(--fill-color);\n",
              "      border-right-color: var(--fill-color);\n",
              "    }\n",
              "    40% {\n",
              "      border-color: transparent;\n",
              "      border-right-color: var(--fill-color);\n",
              "      border-top-color: var(--fill-color);\n",
              "    }\n",
              "    60% {\n",
              "      border-color: transparent;\n",
              "      border-right-color: var(--fill-color);\n",
              "    }\n",
              "    80% {\n",
              "      border-color: transparent;\n",
              "      border-right-color: var(--fill-color);\n",
              "      border-bottom-color: var(--fill-color);\n",
              "    }\n",
              "    90% {\n",
              "      border-color: transparent;\n",
              "      border-bottom-color: var(--fill-color);\n",
              "    }\n",
              "  }\n",
              "</style>\n",
              "\n",
              "  <script>\n",
              "    async function quickchart(key) {\n",
              "      const quickchartButtonEl =\n",
              "        document.querySelector('#' + key + ' button');\n",
              "      quickchartButtonEl.disabled = true;  // To prevent multiple clicks.\n",
              "      quickchartButtonEl.classList.add('colab-df-spinner');\n",
              "      try {\n",
              "        const charts = await google.colab.kernel.invokeFunction(\n",
              "            'suggestCharts', [key], {});\n",
              "      } catch (error) {\n",
              "        console.error('Error during call to suggestCharts:', error);\n",
              "      }\n",
              "      quickchartButtonEl.classList.remove('colab-df-spinner');\n",
              "      quickchartButtonEl.classList.add('colab-df-quickchart-complete');\n",
              "    }\n",
              "    (() => {\n",
              "      let quickchartButtonEl =\n",
              "        document.querySelector('#df-38616d7c-017a-488d-93da-c25f10835064 button');\n",
              "      quickchartButtonEl.style.display =\n",
              "        google.colab.kernel.accessAllowed ? 'block' : 'none';\n",
              "    })();\n",
              "  </script>\n",
              "</div>\n",
              "    </div>\n",
              "  </div>\n"
            ]
          },
          "metadata": {},
          "execution_count": 46
        }
      ]
    },
    {
      "cell_type": "markdown",
      "source": [
        "#### 2.2.7 \"FamilySizeLabel\"列"
      ],
      "metadata": {
        "id": "XChGMySfXX4v"
      }
    },
    {
      "cell_type": "code",
      "source": [
        "# \"FamilySize\"別の死亡率でグループ分け\n",
        "def family_size_label(family_size):\n",
        "    if (2 <= family_size <= 4):\n",
        "        return 0\n",
        "    elif ((family_size == 1) | (5 <= family_size <= 7)):\n",
        "        return 1\n",
        "    elif (family_size >= 8):\n",
        "        return 2\n",
        "\n",
        "df[\"FamilySizeLabel\"] = df[\"FamilySize\"].apply(family_size_label)\n",
        "df_test[\"FamilySizeLabel\"] = df_test[\"FamilySize\"].apply(family_size_label)\n",
        "df_all[\"FamilySizeLabel\"] = df_all[\"FamilySize\"].apply(family_size_label)"
      ],
      "metadata": {
        "id": "T6Y2n85CTEo0"
      },
      "execution_count": null,
      "outputs": []
    },
    {
      "cell_type": "code",
      "source": [
        "# \"FamilySizeLabel\"別の死亡率\n",
        "sns.barplot(x=\"FamilySizeLabel\", y=\"Perished\", data=df)\n",
        "plt.show()"
      ],
      "metadata": {
        "colab": {
          "base_uri": "https://localhost:8080/"
        },
        "id": "2E_ibLUhVLNf",
        "outputId": "7ee2497f-a626-4258-8290-ba1040284dbf"
      },
      "execution_count": null,
      "outputs": [
        {
          "output_type": "display_data",
          "data": {
            "text/plain": [
              "<Figure size 640x480 with 1 Axes>"
            ],
            "image/png": "[encoded data removed]"
          },
          "metadata": {}
        }
      ]
    },
    {
      "cell_type": "markdown",
      "source": [
        "#### 2.2.8 \"SameTicketGroup\"列"
      ],
      "metadata": {
        "id": "h9opI91z4WRZ"
      }
    },
    {
      "cell_type": "code",
      "source": [
        "# 同じ種類のチケットを持っている人数\n",
        "ticket_count = dict(df_all[\"Ticket\"].value_counts())\n",
        "df[\"SameTicketGroup\"] = df[\"Ticket\"].map(ticket_count)\n",
        "df_test[\"SameTicketGroup\"] = df_test[\"Ticket\"].map(ticket_count)\n",
        "df_all[\"SameTicketGroup\"] = df_all[\"Ticket\"].map(ticket_count)"
      ],
      "metadata": {
        "id": "lzU1IqYO4t6X"
      },
      "execution_count": null,
      "outputs": []
    },
    {
      "cell_type": "code",
      "source": [
        "# \"SameTicketGroup\"別の死亡率\n",
        "sns.barplot(x=\"SameTicketGroup\", y=\"Perished\", data=df)\n",
        "plt.show()"
      ],
      "metadata": {
        "colab": {
          "base_uri": "https://localhost:8080/"
        },
        "id": "_tbao1vv5X_3",
        "outputId": "ab1b9521-9ae6-4cff-e02f-222d2e6325b8"
      },
      "execution_count": null,
      "outputs": [
        {
          "output_type": "display_data",
          "data": {
            "text/plain": [
              "<Figure size 640x480 with 1 Axes>"
            ],
            "image/png": "[encoded data removed]"
          },
          "metadata": {}
        }
      ]
    },
    {
      "cell_type": "markdown",
      "source": [
        "知見  \n",
        "・チケットが同じ人は同じ部屋であり、一緒に行動し生死を共にしやすいと推測できる  \n",
        "・チケットが同じ人の人数によって生死が変化"
      ],
      "metadata": {
        "id": "Rs3Gi2zf5p_y"
      }
    },
    {
      "cell_type": "markdown",
      "source": [
        "#### 2.2.9 \"SameTicketLabel\"列"
      ],
      "metadata": {
        "id": "kAb5csCK4eGZ"
      }
    },
    {
      "cell_type": "code",
      "source": [
        "# \"SameTicketGroup\"別の死亡率でグループ分け\n",
        "def same_ticket_label(same_ticket):\n",
        "    if (2 <= same_ticket <= 4):\n",
        "        return 0\n",
        "    elif ((same_ticket == 1) | (5 <= same_ticket <= 8)):\n",
        "        return 1\n",
        "    elif (same_ticket >= 11):\n",
        "        return 2\n",
        "\n",
        "df[\"SameTicketLabel\"] = df[\"SameTicketGroup\"].apply(same_ticket_label)\n",
        "df_test[\"SameTicketLabel\"] = df_test[\"SameTicketGroup\"].apply(same_ticket_label)\n",
        "df_all[\"SameTicketLabel\"] = df_all[\"SameTicketGroup\"].apply(same_ticket_label)"
      ],
      "metadata": {
        "id": "QX-im87Q62CP"
      },
      "execution_count": null,
      "outputs": []
    },
    {
      "cell_type": "code",
      "source": [
        "# \"SameTicketLabel\"別の死亡率\n",
        "sns.barplot(x=\"SameTicketLabel\", y=\"Perished\", data=df)\n",
        "plt.show()"
      ],
      "metadata": {
        "colab": {
          "base_uri": "https://localhost:8080/"
        },
        "id": "e2f-roca7mE0",
        "outputId": "dfdf84db-8936-4ba9-c628-09dc23a8e25c"
      },
      "execution_count": null,
      "outputs": [
        {
          "output_type": "display_data",
          "data": {
            "text/plain": [
              "<Figure size 640x480 with 1 Axes>"
            ],
            "image/png": "[encoded data removed]"
          },
          "metadata": {}
        }
      ]
    },
    {
      "cell_type": "markdown",
      "source": [
        "#### 2.2.10 \"TicketLabel\"列"
      ],
      "metadata": {
        "id": "tmlzeZqhQTNn"
      }
    },
    {
      "cell_type": "code",
      "source": [
        "# 数字だけからなるチケット\n",
        "number_ticket_df = df[df[\"Ticket\"].str.match(\"\\d+\")].copy()\n",
        "number_ticket_df_test = df_test[df_test[\"Ticket\"].str.match(\"\\d+\")].copy()\n",
        "number_ticket_df_all = df_all[df_all[\"Ticket\"].str.match(\"\\d+\")].copy()"
      ],
      "metadata": {
        "id": "53O9wVpiQaZN"
      },
      "execution_count": null,
      "outputs": []
    },
    {
      "cell_type": "code",
      "source": [
        "# int型に変換\n",
        "number_ticket_df[\"Ticket\"] = number_ticket_df[\"Ticket\"].apply(lambda x: int(x))\n",
        "number_ticket_df_test[\"Ticket\"] = number_ticket_df_test[\"Ticket\"].apply(lambda x: int(x))\n",
        "number_ticket_df_all[\"Ticket\"] = number_ticket_df_all[\"Ticket\"].apply(lambda x: int(x))\n",
        "\n",
        "# チケット番号の昇順で並び替え\n",
        "number_ticket_df.sort_values(by=\"Ticket\", inplace=True)\n",
        "number_ticket_df_test.sort_values(by=\"Ticket\", inplace=True)\n",
        "number_ticket_df_all.sort_values(by=\"Ticket\", inplace=True)"
      ],
      "metadata": {
        "id": "BRUQ2084SQ88"
      },
      "execution_count": null,
      "outputs": []
    },
    {
      "cell_type": "code",
      "source": [
        "# 数字だけからなるチケットの分布\n",
        "plt.plot(number_ticket_df_all[\"Ticket\"], \"-o\")\n",
        "plt.ylabel(\"Number Ticket\")\n",
        "plt.show()"
      ],
      "metadata": {
        "colab": {
          "base_uri": "https://localhost:8080/"
        },
        "id": "GwBxFCYJiC8Y",
        "outputId": "b4c125bd-d031-449b-e15f-b72cb70356c7"
      },
      "execution_count": null,
      "outputs": [
        {
          "output_type": "display_data",
          "data": {
            "text/plain": [
              "<Figure size 640x480 with 1 Axes>"
            ],
            "image/png": "[encoded data removed]"
          },
          "metadata": {}
        }
      ]
    },
    {
      "cell_type": "code",
      "source": [
        "# 数字だけのチケットを5グループに分割\n",
        "number_ticket_df_1 = number_ticket_df[number_ticket_df[\"Ticket\"] <= 1e5]\n",
        "number_ticket_df_2 = number_ticket_df[(number_ticket_df[\"Ticket\"] > 1e5) & (number_ticket_df[\"Ticket\"] <= 2e5)]\n",
        "number_ticket_df_3 = number_ticket_df[(number_ticket_df[\"Ticket\"] > 2e5) & (number_ticket_df[\"Ticket\"] <= 3e5)]\n",
        "number_ticket_df_4 = number_ticket_df[(number_ticket_df[\"Ticket\"] > 3e5) & (number_ticket_df[\"Ticket\"] <= 4e5)]\n",
        "number_ticket_df_5 = number_ticket_df[number_ticket_df[\"Ticket\"] >= 3e6]\n",
        "\n",
        "x = [1, 2, 3, 4, 5]\n",
        "y = [number_ticket_df_1[\"Perished\"].mean(), number_ticket_df_2[\"Perished\"].mean(), number_ticket_df_3[\"Perished\"].mean(), number_ticket_df_4[\"Perished\"].mean(), number_ticket_df_5[\"Perished\"].mean()]\n",
        "\n",
        "sns.barplot(x=x, y=y)\n",
        "plt.xlabel(\"Number Ticket Group\")\n",
        "plt.ylabel(\"Perished Rate\")\n",
        "plt.show()"
      ],
      "metadata": {
        "colab": {
          "base_uri": "https://localhost:8080/"
        },
        "id": "XSqvh-u7TJT9",
        "outputId": "3b6899fa-0e42-45d8-d175-296be7283fee"
      },
      "execution_count": null,
      "outputs": [
        {
          "output_type": "display_data",
          "data": {
            "text/plain": [
              "<Figure size 640x480 with 1 Axes>"
            ],
            "image/png": "[encoded data removed]"
          },
          "metadata": {}
        }
      ]
    },
    {
      "cell_type": "markdown",
      "source": [
        "知見  \n",
        "・チケット番号によって死亡率が変化"
      ],
      "metadata": {
        "id": "uIiKlr0zjFvs"
      }
    },
    {
      "cell_type": "code",
      "source": [
        "# アルファベットを含むチケット\n",
        "number_alpha_ticket_df = df[df[\"Ticket\"].str.match(\"[A-Z]+.+\")].copy()\n",
        "number_alpha_ticket_df_test = df_test[df_test[\"Ticket\"].str.match(\"[A-Z]+.+\")].copy()\n",
        "number_alpha_ticket_df_all = df_all[df_all[\"Ticket\"].str.match(\"[A-Z]+.+\")].copy()"
      ],
      "metadata": {
        "id": "e5xB25Q9hqiB"
      },
      "execution_count": null,
      "outputs": []
    },
    {
      "cell_type": "code",
      "source": [
        "# アルファベットを含むチケットの種類\n",
        "print(sorted(number_alpha_ticket_df_all[\"Ticket\"].value_counts().items()))"
      ],
      "metadata": {
        "colab": {
          "base_uri": "https://localhost:8080/"
        },
        "id": "2KfjCePzket8",
        "outputId": "1a59b546-d795-4f16-abdc-91653a9c6d8a"
      },
      "execution_count": null,
      "outputs": [
        {
          "output_type": "stream",
          "name": "stdout",
          "text": [
            "[('A. 2. 39186', 1), ('A./5. 2152', 1), ('A./5. 3235', 1), ('A./5. 3338', 1), ('A.5. 11206', 1), ('A.5. 18509', 1), ('A.5. 3236', 1), ('A/4 31416', 1), ('A/4 45380', 1), ('A/4 48871', 3), ('A/4 48873', 1), ('A/4. 20589', 1), ('A/4. 34244', 1), ('A/4. 39886', 1), ('A/5 1478', 1), ('A/5 21171', 1), ('A/5 21172', 1), ('A/5 21173', 1), ('A/5 21174', 1), ('A/5 21175', 1), ('A/5 2466', 1), ('A/5 2817', 1), ('A/5 3536', 1), ('A/5 3540', 1), ('A/5 3594', 1), ('A/5 3902', 1), ('A/5. 10482', 1), ('A/5. 13032', 1), ('A/5. 2151', 1), ('A/5. 3336', 2), ('A/5. 3337', 2), ('A/5. 851', 3), ('A/S 2816', 1), ('A4. 54510', 1), ('AQ/3. 30631', 1), ('AQ/4 3130', 1), ('C 17368', 1), ('C 17369', 1), ('C 4001', 3), ('C 7075', 1), ('C 7076', 1), ('C 7077', 1), ('C.A. 15185', 1), ('C.A. 17248', 1), ('C.A. 18723', 1), ('C.A. 2315', 4), ('C.A. 24579', 1), ('C.A. 24580', 1), ('C.A. 2673', 3), ('C.A. 29178', 1), ('C.A. 29395', 1), ('C.A. 29566', 1), ('C.A. 30769', 1), ('C.A. 31026', 1), ('C.A. 31029', 3), ('C.A. 31030', 1), ('C.A. 31921', 3), ('C.A. 33111', 1), ('C.A. 33112', 4), ('C.A. 33595', 2), ('C.A. 34050', 1), ('C.A. 34260', 1), ('C.A. 34644', 1), ('C.A. 34651', 4), ('C.A. 37671', 3), ('C.A. 42795', 1), ('C.A. 49867', 1), ('C.A. 5547', 1), ('C.A. 6212', 2), ('C.A./SOTON 34068', 1), ('CA 2144', 8), ('CA 31352', 2), ('CA. 2314', 1), ('CA. 2343', 11), ('F.C. 12750', 2), ('F.C. 12998', 1), ('F.C.C. 13528', 2), ('F.C.C. 13529', 3), ('F.C.C. 13531', 1), ('F.C.C. 13534', 2), ('F.C.C. 13540', 1), ('Fa 265302', 1), ('LINE', 4), ('LP 1588', 1), ('P/PP 3381', 2), ('PC 17318', 1), ('PC 17473', 1), ('PC 17474', 1), ('PC 17475', 1), ('PC 17476', 1), ('PC 17477', 2), ('PC 17482', 1), ('PC 17483', 4), ('PC 17485', 2), ('PC 17531', 1), ('PC 17558', 3), ('PC 17562', 1), ('PC 17569', 3), ('PC 17572', 3), ('PC 17580', 1), ('PC 17582', 3), ('PC 17585', 2), ('PC 17590', 1), ('PC 17591', 1), ('PC 17592', 2), ('PC 17593', 2), ('PC 17594', 1), ('PC 17595', 1), ('PC 17596', 1), ('PC 17597', 2), ('PC 17598', 1), ('PC 17599', 2), ('PC 17600', 1), ('PC 17601', 1), ('PC 17603', 2), ('PC 17604', 2), ('PC 17605', 1), ('PC 17606', 1), ('PC 17607', 1), ('PC 17608', 7), ('PC 17609', 1), ('PC 17610', 1), ('PC 17611', 2), ('PC 17612', 1), ('PC 17613', 1), ('PC 17754', 1), ('PC 17755', 4), ('PC 17756', 3), ('PC 17757', 5), ('PC 17758', 3), ('PC 17759', 2), ('PC 17760', 4), ('PC 17761', 3), ('PP 4348', 1), ('PP 9549', 3), ('S.C./A.4. 23567', 1), ('S.C./PARIS 2079', 3), ('S.O./P.P. 2', 2), ('S.O./P.P. 251', 1), ('S.O./P.P. 3', 2), ('S.O./P.P. 751', 1), ('S.O./P.P. 752', 1), ('S.O.C. 14879', 7), ('S.O.P. 1166', 1), ('S.P. 3464', 1), ('S.W./PP 752', 1), ('SC 14888', 1), ('SC 1748', 1), ('SC/A.3 2861', 1), ('SC/A4 23568', 1), ('SC/AH 29037', 2), ('SC/AH 3085', 2), ('SC/AH Basle 541', 1), ('SC/PARIS 2131', 1), ('SC/PARIS 2133', 1), ('SC/PARIS 2146', 1), ('SC/PARIS 2147', 1), ('SC/PARIS 2148', 1), ('SC/PARIS 2149', 1), ('SC/PARIS 2159', 1), ('SC/PARIS 2166', 1), ('SC/PARIS 2167', 2), ('SC/PARIS 2168', 1), ('SC/Paris 2123', 4), ('SC/Paris 2163', 1), ('SCO/W 1585', 1), ('SO/C 14885', 1), ('SOTON/O.Q. 3101262', 1), ('SOTON/O.Q. 3101263', 1), ('SOTON/O.Q. 3101305', 1), ('SOTON/O.Q. 3101306', 1), ('SOTON/O.Q. 3101307', 1), ('SOTON/O.Q. 3101308', 1), ('SOTON/O.Q. 3101309', 1), ('SOTON/O.Q. 3101310', 1), ('SOTON/O.Q. 3101311', 1), ('SOTON/O.Q. 3101312', 1), ('SOTON/O.Q. 3101314', 1), ('SOTON/O.Q. 3101315', 3), ('SOTON/O.Q. 392078', 1), ('SOTON/O.Q. 392087', 1), ('SOTON/O2 3101272', 1), ('SOTON/O2 3101284', 1), ('SOTON/O2 3101287', 1), ('SOTON/OQ 3101316', 1), ('SOTON/OQ 3101317', 1), ('SOTON/OQ 392076', 1), ('SOTON/OQ 392082', 1), ('SOTON/OQ 392083', 1), ('SOTON/OQ 392086', 1), ('SOTON/OQ 392089', 1), ('SOTON/OQ 392090', 1), ('STON/O 2. 3101268', 1), ('STON/O 2. 3101269', 1), ('STON/O 2. 3101273', 1), ('STON/O 2. 3101274', 1), ('STON/O 2. 3101275', 1), ('STON/O 2. 3101280', 1), ('STON/O 2. 3101285', 1), ('STON/O 2. 3101286', 1), ('STON/O 2. 3101288', 1), ('STON/O 2. 3101289', 1), ('STON/O 2. 3101291', 1), ('STON/O 2. 3101292', 1), ('STON/O 2. 3101293', 1), ('STON/O 2. 3101294', 1), ('STON/O2. 3101270', 1), ('STON/O2. 3101271', 1), ('STON/O2. 3101279', 2), ('STON/O2. 3101282', 1), ('STON/O2. 3101283', 1), ('STON/O2. 3101290', 1), ('STON/OQ. 369943', 1), ('SW/PP 751', 1), ('W./C. 14258', 1), ('W./C. 14260', 1), ('W./C. 14263', 1), ('W./C. 14266', 1), ('W./C. 6607', 4), ('W./C. 6608', 5), ('W./C. 6609', 1), ('W.E.P. 5734', 2), ('W/C 14208', 1), ('WE/P 5735', 2)]\n"
          ]
        }
      ]
    },
    {
      "cell_type": "code",
      "source": [
        "# アルファベットを含むチケットを13グループに分割\n",
        "A_ticket = number_alpha_ticket_df[number_alpha_ticket_df[\"Ticket\"].str.match(\"A.+\")]\n",
        "CA_ticket = number_alpha_ticket_df[number_alpha_ticket_df[\"Ticket\"].str.match(\"C\\.*A\\.*.+\")]\n",
        "PC_ticket = number_alpha_ticket_df[number_alpha_ticket_df[\"Ticket\"].str.match(\"PC.+\")]\n",
        "PP_ticket = number_alpha_ticket_df[number_alpha_ticket_df[\"Ticket\"].str.match(\"PP.+\")]\n",
        "SOTON_ticket = number_alpha_ticket_df[number_alpha_ticket_df[\"Ticket\"].str.match(\"SOTON.+\")]\n",
        "STON_ticket = number_alpha_ticket_df[number_alpha_ticket_df[\"Ticket\"].str.match(\"STON.+\")]\n",
        "LINE_ticket = number_alpha_ticket_df[number_alpha_ticket_df[\"Ticket\"].str.match(\"LINE.*\")]\n",
        "FC_ticket = number_alpha_ticket_df[number_alpha_ticket_df[\"Ticket\"].str.match(\"F\\.C\\.(C\\.)*.+\")]\n",
        "W_ticket = number_alpha_ticket_df[number_alpha_ticket_df[\"Ticket\"].str.match(\"W.+\")]\n",
        "C_ticket = number_alpha_ticket_df[number_alpha_ticket_df[\"Ticket\"].str.match(\"C.+\")]\n",
        "SC_ticket = number_alpha_ticket_df[number_alpha_ticket_df[\"Ticket\"].str.match(\"S(\\.)*C.+\")]\n",
        "SO_ticket = number_alpha_ticket_df[number_alpha_ticket_df[\"Ticket\"].str.match(\"S(\\.)*O.+\")]\n",
        "other_ticket = number_alpha_ticket_df[number_alpha_ticket_df[\"Ticket\"].str.match(\"(Fa)*(P/PP)*(S\\.P)*(S\\.*W)*.+\")]\n",
        "\n",
        "x = [i for i in range(1, 14)]\n",
        "y = [\n",
        "    A_ticket[\"Perished\"].mean(), CA_ticket[\"Perished\"].mean(), PC_ticket[\"Perished\"].mean()\n",
        "    ,PP_ticket[\"Perished\"].mean(), SOTON_ticket[\"Perished\"].mean(), STON_ticket[\"Perished\"].mean()\n",
        "    ,LINE_ticket[\"Perished\"].mean(), FC_ticket[\"Perished\"].mean(), W_ticket[\"Perished\"].mean()\n",
        "    ,C_ticket[\"Perished\"].mean(), SC_ticket[\"Perished\"].mean(), SO_ticket[\"Perished\"].mean()\n",
        "    ,other_ticket[\"Perished\"].mean()\n",
        "]\n",
        "\n",
        "sns.barplot(x=x, y=y)\n",
        "plt.xlabel(\"Number Alpha Ticket Group\")\n",
        "plt.ylabel(\"Perished Rate\")\n",
        "plt.show()"
      ],
      "metadata": {
        "colab": {
          "base_uri": "https://localhost:8080/"
        },
        "id": "U4BN_W4EkVwU",
        "outputId": "03f1a22c-bb28-48f7-d65a-0d1e13617922"
      },
      "execution_count": null,
      "outputs": [
        {
          "output_type": "display_data",
          "data": {
            "text/plain": [
              "<Figure size 640x480 with 1 Axes>"
            ],
            "image/png": "[encoded data removed]"
          },
          "metadata": {}
        }
      ]
    },
    {
      "cell_type": "markdown",
      "source": [
        "知見  \n",
        "アルファベットを含むチケット番号によって死亡率が変化"
      ],
      "metadata": {
        "id": "i_Rl_6r6mWgC"
      }
    },
    {
      "cell_type": "code",
      "source": [
        "# trainデータの死亡率が高い順にラベリング\n",
        "number_ticket_df.loc[number_ticket_df[\"Ticket\"] <= 1e5, \"TicketLabel\"] = 14\n",
        "number_ticket_df.loc[number_ticket_df[\"Ticket\"] <= 1e5, \"TicketLabel\"] = 14\n",
        "number_ticket_df.loc[number_ticket_df[\"Ticket\"] <= 1e5, \"TicketLabel\"] = 14\n",
        "number_ticket_df.loc[(number_ticket_df[\"Ticket\"] > 1e5) & (number_ticket_df[\"Ticket\"] <= 2e5), \"TicketLabel\"] = 15\n",
        "number_ticket_df.loc[(number_ticket_df[\"Ticket\"] > 2e5) & (number_ticket_df[\"Ticket\"] <= 3e5), \"TicketLabel\"] = 12\n",
        "number_ticket_df.loc[(number_ticket_df[\"Ticket\"] > 3e5) & (number_ticket_df[\"Ticket\"] <= 4e5), \"TicketLabel\"] = 5\n",
        "number_ticket_df.loc[number_ticket_df[\"Ticket\"] >= 3e6, \"TicketLabel\"] = 6\n",
        "\n",
        "number_alpha_ticket_df[\"TicketLabel\"] = \"13\"\n",
        "number_alpha_ticket_df.loc[number_alpha_ticket_df[\"Ticket\"].str.match(\"A.+\"), \"TicketLabel\"] = \"1\"\n",
        "number_alpha_ticket_df.loc[number_alpha_ticket_df[\"Ticket\"].str.match(\"C\\.*A\\.*.+\"), \"TicketLabel\"] = \"8\"\n",
        "number_alpha_ticket_df.loc[number_alpha_ticket_df[\"Ticket\"].str.match(\"PC.+\"), \"TicketLabel\"] = \"16\"\n",
        "number_alpha_ticket_df.loc[number_alpha_ticket_df[\"Ticket\"].str.match(\"PP.+\"), \"TicketLabel\"] = \"18\"\n",
        "number_alpha_ticket_df.loc[number_alpha_ticket_df[\"Ticket\"].str.match(\"SOTON.+\"), \"TicketLabel\"] = \"3\"\n",
        "number_alpha_ticket_df.loc[number_alpha_ticket_df[\"Ticket\"].str.match(\"STON.+\"), \"TicketLabel\"] = \"10\"\n",
        "number_alpha_ticket_df.loc[number_alpha_ticket_df[\"Ticket\"].str.match(\"LINE.*\"), \"TicketLabel\"] = \"7\"\n",
        "number_alpha_ticket_df.loc[number_alpha_ticket_df[\"Ticket\"].str.match(\"F\\.C\\.(C\\.)*.+\"), \"TicketLabel\"] = \"17\"\n",
        "number_alpha_ticket_df.loc[number_alpha_ticket_df[\"Ticket\"].str.match(\"W.+\"), \"TicketLabel\"] = \"4\"\n",
        "number_alpha_ticket_df.loc[number_alpha_ticket_df[\"Ticket\"].str.match(\"C.+\"), \"TicketLabel\"] = \"9\"\n",
        "number_alpha_ticket_df.loc[number_alpha_ticket_df[\"Ticket\"].str.match(\"S(\\.)*C.+\"), \"TicketLabel\"] = \"11\"\n",
        "number_alpha_ticket_df.loc[number_alpha_ticket_df[\"Ticket\"].str.match(\"S(\\.)*O.+\"), \"TicketLabel\"] = \"2\"\n",
        "\n",
        "number_alpha_ticket_df[\"TicketLabel\"] = number_alpha_ticket_df[\"TicketLabel\"].apply(lambda x: int(x))\n",
        "df = pd.concat([number_ticket_df, number_alpha_ticket_df])\n",
        "df = df.sort_values(by=\"PassengerId\")\n",
        "df[\"TicketLabel\"] = df[\"TicketLabel\"].astype(int)"
      ],
      "metadata": {
        "id": "HEYvMswzm7wP"
      },
      "execution_count": null,
      "outputs": []
    },
    {
      "cell_type": "code",
      "source": [
        "# trainデータの死亡率が高い順にラベリング\n",
        "number_ticket_df_test.loc[number_ticket_df_test[\"Ticket\"] <= 1e5, \"TicketLabel\"] = 14\n",
        "number_ticket_df_test.loc[number_ticket_df_test[\"Ticket\"] <= 1e5, \"TicketLabel\"] = 14\n",
        "number_ticket_df_test.loc[number_ticket_df_test[\"Ticket\"] <= 1e5, \"TicketLabel\"] = 14\n",
        "number_ticket_df_test.loc[(number_ticket_df_test[\"Ticket\"] > 1e5) & (number_ticket_df_test[\"Ticket\"] <= 2e5), \"TicketLabel\"] = 15\n",
        "number_ticket_df_test.loc[(number_ticket_df_test[\"Ticket\"] > 2e5) & (number_ticket_df_test[\"Ticket\"] <= 3e5), \"TicketLabel\"] = 12\n",
        "number_ticket_df_test.loc[(number_ticket_df_test[\"Ticket\"] > 3e5) & (number_ticket_df_test[\"Ticket\"] <= 4e5), \"TicketLabel\"] = 5\n",
        "number_ticket_df_test.loc[number_ticket_df_test[\"Ticket\"] >= 3e6, \"TicketLabel\"] = 6\n",
        "\n",
        "number_alpha_ticket_df_test[\"TicketLabel\"] = \"13\"\n",
        "number_alpha_ticket_df_test.loc[number_alpha_ticket_df_test[\"Ticket\"].str.match(\"A.+\"), \"TicketLabel\"] = \"1\"\n",
        "number_alpha_ticket_df_test.loc[number_alpha_ticket_df_test[\"Ticket\"].str.match(\"C\\.*A\\.*.+\"), \"TicketLabel\"] = \"8\"\n",
        "number_alpha_ticket_df_test.loc[number_alpha_ticket_df_test[\"Ticket\"].str.match(\"PC.+\"), \"TicketLabel\"] = \"16\"\n",
        "number_alpha_ticket_df_test.loc[number_alpha_ticket_df_test[\"Ticket\"].str.match(\"PP.+\"), \"TicketLabel\"] = \"18\"\n",
        "number_alpha_ticket_df_test.loc[number_alpha_ticket_df_test[\"Ticket\"].str.match(\"SOTON.+\"), \"TicketLabel\"] = \"3\"\n",
        "number_alpha_ticket_df_test.loc[number_alpha_ticket_df_test[\"Ticket\"].str.match(\"STON.+\"), \"TicketLabel\"] = \"10\"\n",
        "number_alpha_ticket_df_test.loc[number_alpha_ticket_df_test[\"Ticket\"].str.match(\"LINE.*\"), \"TicketLabel\"] = \"7\"\n",
        "number_alpha_ticket_df_test.loc[number_alpha_ticket_df_test[\"Ticket\"].str.match(\"F\\.C\\.(C\\.)*.+\"), \"TicketLabel\"] = \"17\"\n",
        "number_alpha_ticket_df_test.loc[number_alpha_ticket_df_test[\"Ticket\"].str.match(\"W.+\"), \"TicketLabel\"] = \"4\"\n",
        "number_alpha_ticket_df_test.loc[number_alpha_ticket_df_test[\"Ticket\"].str.match(\"C.+\"), \"TicketLabel\"] = \"9\"\n",
        "number_alpha_ticket_df_test.loc[number_alpha_ticket_df_test[\"Ticket\"].str.match(\"S(\\.)*C.+\"), \"TicketLabel\"] = \"11\"\n",
        "number_alpha_ticket_df_test.loc[number_alpha_ticket_df_test[\"Ticket\"].str.match(\"S(\\.)*O.+\"), \"TicketLabel\"] = \"2\"\n",
        "\n",
        "number_alpha_ticket_df_test[\"TicketLabel\"] = number_alpha_ticket_df_test[\"TicketLabel\"].apply(lambda x: int(x))\n",
        "df_test = pd.concat([number_ticket_df_test, number_alpha_ticket_df_test])\n",
        "df_test = df_test.sort_values(by=\"PassengerId\")\n",
        "df_test[\"TicketLabel\"] = df_test[\"TicketLabel\"].astype(int)"
      ],
      "metadata": {
        "id": "C21xRi5T7_HH"
      },
      "execution_count": null,
      "outputs": []
    },
    {
      "cell_type": "code",
      "source": [
        "# trainデータの死亡率が高い順にラベリング\n",
        "number_ticket_df_all.loc[number_ticket_df_all[\"Ticket\"] <= 1e5, \"TicketLabel\"] = 14\n",
        "number_ticket_df_all.loc[number_ticket_df_all[\"Ticket\"] <= 1e5, \"TicketLabel\"] = 14\n",
        "number_ticket_df_all.loc[number_ticket_df_all[\"Ticket\"] <= 1e5, \"TicketLabel\"] = 14\n",
        "number_ticket_df_all.loc[(number_ticket_df_all[\"Ticket\"] > 1e5) & (number_ticket_df_all[\"Ticket\"] <= 2e5), \"TicketLabel\"] = 15\n",
        "number_ticket_df_all.loc[(number_ticket_df_all[\"Ticket\"] > 2e5) & (number_ticket_df_all[\"Ticket\"] <= 3e5), \"TicketLabel\"] = 12\n",
        "number_ticket_df_all.loc[(number_ticket_df_all[\"Ticket\"] > 3e5) & (number_ticket_df_all[\"Ticket\"] <= 4e5), \"TicketLabel\"] = 5\n",
        "number_ticket_df_all.loc[number_ticket_df_all[\"Ticket\"] >= 3e6, \"TicketLabel\"] = 6\n",
        "\n",
        "number_alpha_ticket_df_all[\"TicketLabel\"] = \"13\"\n",
        "number_alpha_ticket_df_all.loc[number_alpha_ticket_df_all[\"Ticket\"].str.match(\"A.+\"), \"TicketLabel\"] = \"1\"\n",
        "number_alpha_ticket_df_all.loc[number_alpha_ticket_df_all[\"Ticket\"].str.match(\"C\\.*A\\.*.+\"), \"TicketLabel\"] = \"8\"\n",
        "number_alpha_ticket_df_all.loc[number_alpha_ticket_df_all[\"Ticket\"].str.match(\"PC.+\"), \"TicketLabel\"] = \"16\"\n",
        "number_alpha_ticket_df_all.loc[number_alpha_ticket_df_all[\"Ticket\"].str.match(\"PP.+\"), \"TicketLabel\"] = \"18\"\n",
        "number_alpha_ticket_df_all.loc[number_alpha_ticket_df_all[\"Ticket\"].str.match(\"SOTON.+\"), \"TicketLabel\"] = \"3\"\n",
        "number_alpha_ticket_df_all.loc[number_alpha_ticket_df_all[\"Ticket\"].str.match(\"STON.+\"), \"TicketLabel\"] = \"10\"\n",
        "number_alpha_ticket_df_all.loc[number_alpha_ticket_df_all[\"Ticket\"].str.match(\"LINE.*\"), \"TicketLabel\"] = \"7\"\n",
        "number_alpha_ticket_df_all.loc[number_alpha_ticket_df_all[\"Ticket\"].str.match(\"F\\.C\\.(C\\.)*.+\"), \"TicketLabel\"] = \"17\"\n",
        "number_alpha_ticket_df_all.loc[number_alpha_ticket_df_all[\"Ticket\"].str.match(\"W.+\"), \"TicketLabel\"] = \"4\"\n",
        "number_alpha_ticket_df_all.loc[number_alpha_ticket_df_all[\"Ticket\"].str.match(\"C.+\"), \"TicketLabel\"] = \"9\"\n",
        "number_alpha_ticket_df_all.loc[number_alpha_ticket_df_all[\"Ticket\"].str.match(\"S(\\.)*C.+\"), \"TicketLabel\"] = \"11\"\n",
        "number_alpha_ticket_df_all.loc[number_alpha_ticket_df_all[\"Ticket\"].str.match(\"S(\\.)*O.+\"), \"TicketLabel\"] = \"2\"\n",
        "\n",
        "number_alpha_ticket_df_all[\"TicketLabel\"] = number_alpha_ticket_df_all[\"TicketLabel\"].apply(lambda x: int(x))\n",
        "df_all = pd.concat([number_ticket_df_all, number_alpha_ticket_df_all])\n",
        "df_all = df_all.sort_values(by=\"PassengerId\")\n",
        "df_all[\"TicketLabel\"] = df_all[\"TicketLabel\"].astype(int)"
      ],
      "metadata": {
        "id": "G0E_pNIn8nHY"
      },
      "execution_count": null,
      "outputs": []
    },
    {
      "cell_type": "code",
      "source": [
        "# \"TicketLable\"別の死亡率\n",
        "sns.barplot(x=\"TicketLabel\", y=\"Perished\", data=df)\n",
        "plt.show()"
      ],
      "metadata": {
        "colab": {
          "base_uri": "https://localhost:8080/"
        },
        "id": "Eu2b-gMmphIt",
        "outputId": "861b087d-72b6-447a-cf8f-8515566ad86c"
      },
      "execution_count": null,
      "outputs": [
        {
          "output_type": "display_data",
          "data": {
            "text/plain": [
              "<Figure size 640x480 with 1 Axes>"
            ],
            "image/png": "[encoded data removed]"
          },
          "metadata": {}
        }
      ]
    },
    {
      "cell_type": "markdown",
      "source": [
        "#### 2.2.11 \"AgeGroup\"列"
      ],
      "metadata": {
        "id": "K4UzdRwfkX47"
      }
    },
    {
      "cell_type": "code",
      "source": [
        "# 年齢の最小値・最大値\n",
        "print(f\"Age min: {df_all['Age'].min()}\")\n",
        "print(f\"Age max: {df_all['Age'].max()}\")"
      ],
      "metadata": {
        "colab": {
          "base_uri": "https://localhost:8080/"
        },
        "id": "3jmdmKT-Z-LO",
        "outputId": "1a36a0eb-82bc-496f-8bb7-e34934e0d4f7"
      },
      "execution_count": null,
      "outputs": [
        {
          "output_type": "stream",
          "name": "stdout",
          "text": [
            "Age min: 0.17\n",
            "Age max: 80.0\n"
          ]
        }
      ]
    },
    {
      "cell_type": "code",
      "source": [
        "# 5歳ごとに分割\n",
        "bins = [x for x in range(0, 81, 5)]\n",
        "\n",
        "df[\"AgeGroup\"] = pd.cut(df[\"Age\"], bins=bins)\n",
        "df_test[\"AgeGroup\"] = pd.cut(df_test[\"Age\"], bins=bins)\n",
        "df_all[\"AgeGroup\"] = pd.cut(df_all[\"Age\"], bins=bins)"
      ],
      "metadata": {
        "id": "zgB3mJSW-XFW"
      },
      "execution_count": null,
      "outputs": []
    },
    {
      "cell_type": "code",
      "source": [
        "df[df[\"Sex\"] == \"male\"][\"AgeGroup\"].value_counts()"
      ],
      "metadata": {
        "colab": {
          "base_uri": "https://localhost:8080/"
        },
        "id": "-UgAf0yLmIgb",
        "outputId": "2af298fe-75fe-4c2d-b63e-57686b0d0a4d"
      },
      "execution_count": null,
      "outputs": [
        {
          "output_type": "execute_result",
          "data": {
            "text/plain": [
              "(25, 30]    162\n",
              "(20, 25]     77\n",
              "(30, 35]     67\n",
              "(15, 20]     62\n",
              "(40, 45]     50\n",
              "(35, 40]     42\n",
              "(45, 50]     26\n",
              "(0, 5]       23\n",
              "(50, 55]     16\n",
              "(5, 10]      14\n",
              "(55, 60]     12\n",
              "(60, 65]     11\n",
              "(10, 15]      7\n",
              "(70, 75]      4\n",
              "(65, 70]      3\n",
              "(75, 80]      1\n",
              "Name: AgeGroup, dtype: int64"
            ]
          },
          "metadata": {},
          "execution_count": 66
        }
      ]
    },
    {
      "cell_type": "code",
      "source": [
        "# 男性年齢別の死亡率\n",
        "plt.figure(figsize=(12, 5))\n",
        "sns.barplot(x=df[df[\"Sex\"] == \"male\"][\"AgeGroup\"], y=\"Perished\", data=df)\n",
        "plt.show()"
      ],
      "metadata": {
        "colab": {
          "base_uri": "https://localhost:8080/"
        },
        "id": "69z-KJUdmPsH",
        "outputId": "c6d07dcf-9ad3-48a5-a672-d642619e1f84"
      },
      "execution_count": null,
      "outputs": [
        {
          "output_type": "display_data",
          "data": {
            "text/plain": [
              "<Figure size 1200x500 with 1 Axes>"
            ],
            "image/png": "[encoded data removed]"
          },
          "metadata": {}
        }
      ]
    },
    {
      "cell_type": "code",
      "source": [
        "df[df[\"Sex\"] == \"female\"][\"AgeGroup\"].value_counts()"
      ],
      "metadata": {
        "colab": {
          "base_uri": "https://localhost:8080/"
        },
        "id": "9trXSZV2lH_v",
        "outputId": "8668ab99-f22e-471a-a43f-f1eb499df026"
      },
      "execution_count": null,
      "outputs": [
        {
          "output_type": "execute_result",
          "data": {
            "text/plain": [
              "(15, 20]    67\n",
              "(20, 25]    47\n",
              "(30, 35]    40\n",
              "(25, 30]    36\n",
              "(40, 45]    26\n",
              "(35, 40]    25\n",
              "(0, 5]      21\n",
              "(45, 50]    13\n",
              "(10, 15]    12\n",
              "(5, 10]     10\n",
              "(50, 55]     8\n",
              "(55, 60]     6\n",
              "(60, 65]     3\n",
              "(65, 70]     0\n",
              "(70, 75]     0\n",
              "(75, 80]     0\n",
              "Name: AgeGroup, dtype: int64"
            ]
          },
          "metadata": {},
          "execution_count": 68
        }
      ]
    },
    {
      "cell_type": "code",
      "source": [
        "# 女性年齢別の死亡率\n",
        "plt.figure(figsize=(12, 5))\n",
        "sns.barplot(x=df[df[\"Sex\"] == \"female\"][\"AgeGroup\"], y=\"Perished\", data=df)\n",
        "plt.show()"
      ],
      "metadata": {
        "colab": {
          "base_uri": "https://localhost:8080/"
        },
        "id": "sehTvTqNBzP7",
        "outputId": "41dfbcd8-f795-4b1b-a972-98f33f9736a6"
      },
      "execution_count": null,
      "outputs": [
        {
          "output_type": "display_data",
          "data": {
            "text/plain": [
              "<Figure size 1200x500 with 1 Axes>"
            ],
            "image/png": "[encoded data removed]"
          },
          "metadata": {}
        }
      ]
    },
    {
      "cell_type": "markdown",
      "source": [
        "知見  \n",
        "・5歳以下は死亡率低い  \n",
        "・65歳以上は死亡率高い"
      ],
      "metadata": {
        "id": "LIDK_f19koeE"
      }
    },
    {
      "cell_type": "markdown",
      "source": [
        "#### 2.2.12 \"FareGroup\"列"
      ],
      "metadata": {
        "id": "ybajGn84jPbu"
      }
    },
    {
      "cell_type": "code",
      "source": [
        "# チケット料金の最小値・最大値\n",
        "print(f\"Fare min: {df_all['Fare'].min()}\")\n",
        "print(f\"Fare max: {df_all['Fare'].max()}\")"
      ],
      "metadata": {
        "colab": {
          "base_uri": "https://localhost:8080/"
        },
        "id": "qZEmst3AJbOJ",
        "outputId": "125ea485-54e1-47ba-8635-cd85d2fcb016"
      },
      "execution_count": null,
      "outputs": [
        {
          "output_type": "stream",
          "name": "stdout",
          "text": [
            "Fare min: 0.0\n",
            "Fare max: 512.3292\n"
          ]
        }
      ]
    },
    {
      "cell_type": "code",
      "source": [
        "# チケット料金の分布\n",
        "plt.figure(figsize=(10, 6))\n",
        "sns.scatterplot(x=\"PassengerId\", y=\"Fare\", data=df_all, s=5)\n",
        "plt.show()"
      ],
      "metadata": {
        "colab": {
          "base_uri": "https://localhost:8080/"
        },
        "id": "EsHRfQRxeinB",
        "outputId": "d2842da7-fd47-4623-94ad-22a3526fd8e8"
      },
      "execution_count": null,
      "outputs": [
        {
          "output_type": "display_data",
          "data": {
            "text/plain": [
              "<Figure size 1000x600 with 1 Axes>"
            ],
            "image/png": "[encoded data removed]"
          },
          "metadata": {}
        }
      ]
    },
    {
      "cell_type": "code",
      "source": [
        "# 分割\n",
        "bins = [0, 20, 40, 50, 60, 80, 100, 200, 300, 520]\n",
        "\n",
        "df[\"FareGroup\"] = pd.cut(df[\"Fare\"], bins=bins, right=False)\n",
        "df_test[\"FareGroup\"] = pd.cut(df_test[\"Fare\"], bins=bins, right=False)\n",
        "df_all[\"FareGroup\"] = pd.cut(df_all[\"Fare\"], bins=bins, right=False)"
      ],
      "metadata": {
        "id": "RRqC4v5LJisc"
      },
      "execution_count": null,
      "outputs": []
    },
    {
      "cell_type": "code",
      "source": [
        "df[\"FareGroup\"].value_counts()"
      ],
      "metadata": {
        "colab": {
          "base_uri": "https://localhost:8080/"
        },
        "id": "gvb1TugkJqGD",
        "outputId": "e4ca6137-45dd-4fad-aa87-80de97005e0c"
      },
      "execution_count": null,
      "outputs": [
        {
          "output_type": "execute_result",
          "data": {
            "text/plain": [
              "[0, 20)       515\n",
              "[20, 40)      200\n",
              "[60, 80)       46\n",
              "[50, 60)       39\n",
              "[100, 200)     33\n",
              "[80, 100)      23\n",
              "[200, 300)     17\n",
              "[40, 50)       15\n",
              "[300, 520)      3\n",
              "Name: FareGroup, dtype: int64"
            ]
          },
          "metadata": {},
          "execution_count": 73
        }
      ]
    },
    {
      "cell_type": "code",
      "source": [
        "# \"FareGroup\"別の死亡率\n",
        "plt.figure(figsize=(10, 5))\n",
        "sns.barplot(x=\"FareGroup\", y=\"Perished\", data=df)\n",
        "plt.show()"
      ],
      "metadata": {
        "colab": {
          "base_uri": "https://localhost:8080/"
        },
        "id": "tlObjOt9JWP7",
        "outputId": "cf4cb227-0d20-419c-a6dd-3e6cfa00da35"
      },
      "execution_count": null,
      "outputs": [
        {
          "output_type": "display_data",
          "data": {
            "text/plain": [
              "<Figure size 1000x500 with 1 Axes>"
            ],
            "image/png": "[encoded data removed]"
          },
          "metadata": {}
        }
      ]
    },
    {
      "cell_type": "markdown",
      "source": [
        "知見  \n",
        "・料金が低いと死亡率が高い"
      ],
      "metadata": {
        "id": "k9kwExeU1KPE"
      }
    },
    {
      "cell_type": "markdown",
      "source": [
        "#### 2.2.13 \"FareLabel\"列"
      ],
      "metadata": {
        "id": "dSqUkHS0lwpS"
      }
    },
    {
      "cell_type": "code",
      "source": [
        "# \"Fare\"別の死亡率でグループ分け\n",
        "def fare_label(fare):\n",
        "    if ((0 <= fare < 20) | (40 <= fare < 50)):\n",
        "        return 0\n",
        "    elif ((20 <= fare < 40) | (60 <= fare < 80)):\n",
        "        return 1\n",
        "    elif ((50 <= fare < 60) | (80 <= fare < 300)):\n",
        "        return 2\n",
        "    elif (fare >= 300):\n",
        "        return 3\n",
        "\n",
        "df[\"FareLabel\"] = df[\"Fare\"].apply(fare_label)\n",
        "df_test[\"FareLabel\"] = df_test[\"Fare\"].apply(fare_label)\n",
        "df_all[\"FareLabel\"] = df_all[\"Fare\"].apply(fare_label)"
      ],
      "metadata": {
        "id": "wcDcGObwmBfA"
      },
      "execution_count": null,
      "outputs": []
    },
    {
      "cell_type": "code",
      "source": [
        "# \"FareLabel\"別の死亡率\n",
        "sns.barplot(x=\"FareLabel\", y=\"Perished\", data=df)\n",
        "plt.show()"
      ],
      "metadata": {
        "colab": {
          "base_uri": "https://localhost:8080/"
        },
        "id": "AxWgXELawLv0",
        "outputId": "c6da0b65-0255-4db2-a2ce-7f04fe0ac264"
      },
      "execution_count": null,
      "outputs": [
        {
          "output_type": "display_data",
          "data": {
            "text/plain": [
              "<Figure size 640x480 with 1 Axes>"
            ],
            "image/png": "[encoded data removed]"
          },
          "metadata": {}
        }
      ]
    },
    {
      "cell_type": "markdown",
      "source": [
        "#### 2.2.14 \"Deck\"列"
      ],
      "metadata": {
        "id": "oKFvKY77XgOf"
      }
    },
    {
      "cell_type": "code",
      "source": [
        "# 客室番号の頭文字は上層からA-Gまで、Tは一人だけ\n",
        "df[\"Deck\"] = df[\"Cabin\"].str.get(0)\n",
        "df_test[\"Deck\"] = df_test[\"Cabin\"].str.get(0)\n",
        "df_all[\"Deck\"] = df_all[\"Cabin\"].str.get(0)"
      ],
      "metadata": {
        "id": "cNAZI5B2MjyG"
      },
      "execution_count": null,
      "outputs": []
    },
    {
      "cell_type": "code",
      "source": [
        "df_all[\"Deck\"].value_counts()"
      ],
      "metadata": {
        "colab": {
          "base_uri": "https://localhost:8080/"
        },
        "id": "EKb-VXLVaSs8",
        "outputId": "3eb299cb-5fb1-48f6-d76f-20c9f88044b9"
      },
      "execution_count": null,
      "outputs": [
        {
          "output_type": "execute_result",
          "data": {
            "text/plain": [
              "U    1014\n",
              "C      94\n",
              "B      65\n",
              "D      46\n",
              "E      41\n",
              "A      22\n",
              "F      21\n",
              "G       5\n",
              "T       1\n",
              "Name: Deck, dtype: int64"
            ]
          },
          "metadata": {},
          "execution_count": 78
        }
      ]
    },
    {
      "cell_type": "code",
      "source": [
        "# \"Deck\"別の死亡率\n",
        "sns.barplot(x=\"Deck\", y=\"Perished\", data=df, order=[\"A\", \"B\", \"C\", \"D\", \"E\", \"F\", \"G\", \"T\", \"U\"])\n",
        "plt.show()"
      ],
      "metadata": {
        "colab": {
          "base_uri": "https://localhost:8080/"
        },
        "id": "eMxbbIi1M5TC",
        "outputId": "49015759-67e4-40d0-9a65-3c5a38e60ca9"
      },
      "execution_count": null,
      "outputs": [
        {
          "output_type": "display_data",
          "data": {
            "text/plain": [
              "<Figure size 640x480 with 1 Axes>"
            ],
            "image/png": "[encoded data removed]"
          },
          "metadata": {}
        }
      ]
    },
    {
      "cell_type": "markdown",
      "source": [
        "#### 2.2.15 \"DeckLabel\"列"
      ],
      "metadata": {
        "id": "Q_lub51GXrh9"
      }
    },
    {
      "cell_type": "code",
      "source": [
        "# \"Deck\"が\"U\"であるかどうかでグループ分け\n",
        "def deck_label(deck):\n",
        "    if (deck in [\"U\"]):\n",
        "        return 0\n",
        "    else:\n",
        "        return 1\n",
        "\n",
        "df[\"DeckLabel\"] = df[\"Deck\"].apply(deck_label)\n",
        "df_test[\"DeckLabel\"] = df_test[\"Deck\"].apply(deck_label)\n",
        "df_all[\"DeckLabel\"] = df_all[\"Deck\"].apply(deck_label)"
      ],
      "metadata": {
        "id": "yUJGVqGMOMAq"
      },
      "execution_count": null,
      "outputs": []
    },
    {
      "cell_type": "code",
      "source": [
        "# \"DeckLabel\"別の死亡率\n",
        "sns.barplot(x=\"DeckLabel\", y=\"Perished\", data=df)\n",
        "plt.show()"
      ],
      "metadata": {
        "id": "ZPUZ_c6QrU_r",
        "colab": {
          "base_uri": "https://localhost:8080/"
        },
        "outputId": "aaff3799-198a-4d42-8fbb-68f28e34f9ed"
      },
      "execution_count": null,
      "outputs": [
        {
          "output_type": "display_data",
          "data": {
            "text/plain": [
              "<Figure size 640x480 with 1 Axes>"
            ],
            "image/png": "[encoded data removed]"
          },
          "metadata": {}
        }
      ]
    },
    {
      "cell_type": "markdown",
      "source": [
        "#### 2.1.16 \"EmbarkedLabel\"列"
      ],
      "metadata": {
        "id": "aMkD0-z7WEep"
      }
    },
    {
      "cell_type": "code",
      "source": [
        "# \"Embarked\"別の死亡率\n",
        "sns.barplot(x=\"Embarked\", y=\"Perished\", data=df)\n",
        "plt.show()"
      ],
      "metadata": {
        "colab": {
          "base_uri": "https://localhost:8080/"
        },
        "id": "67KzRbxMV-eQ",
        "outputId": "eaec518d-47f3-4eb9-c708-7122802c861c"
      },
      "execution_count": null,
      "outputs": [
        {
          "output_type": "display_data",
          "data": {
            "text/plain": [
              "<Figure size 640x480 with 1 Axes>"
            ],
            "image/png": "[encoded data removed]"
          },
          "metadata": {}
        }
      ]
    },
    {
      "cell_type": "code",
      "source": [
        "# \"Embarked\"別の死亡率でグループ分け\n",
        "def embarked_label(embarked):\n",
        "    if (embarked in [\"S\", \"Q\"]):\n",
        "        return 0\n",
        "    elif (embarked in [\"C\"]):\n",
        "        return 1\n",
        "\n",
        "df[\"EmbarkedLabel\"] = df[\"Embarked\"].apply(embarked_label)\n",
        "df_test[\"EmbarkedLabel\"] = df_test[\"Embarked\"].apply(embarked_label)\n",
        "df_all[\"EmbarkedLabel\"] = df_all[\"Embarked\"].apply(embarked_label)"
      ],
      "metadata": {
        "id": "Y7HPDK75WRde"
      },
      "execution_count": null,
      "outputs": []
    },
    {
      "cell_type": "code",
      "source": [
        "# \"EmbarkedLabel\"別の死亡率\n",
        "sns.barplot(x=\"EmbarkedLabel\", y=\"Perished\", data=df)\n",
        "plt.show()"
      ],
      "metadata": {
        "colab": {
          "base_uri": "https://localhost:8080/"
        },
        "id": "EgvcIzcQWu3u",
        "outputId": "253c1cc6-c600-4b23-acb2-eea5d61ad1f2"
      },
      "execution_count": null,
      "outputs": [
        {
          "output_type": "display_data",
          "data": {
            "text/plain": [
              "<Figure size 640x480 with 1 Axes>"
            ],
            "image/png": "[encoded data removed]"
          },
          "metadata": {}
        }
      ]
    },
    {
      "cell_type": "markdown",
      "source": [
        "### 2.3 カテゴリカル変数に対しての処理"
      ],
      "metadata": {
        "id": "xz5QLNHwDspg"
      }
    },
    {
      "cell_type": "markdown",
      "source": [
        "#### 2.3.1 \"Sex\"列"
      ],
      "metadata": {
        "id": "fqKTBDAyVnGk"
      }
    },
    {
      "cell_type": "code",
      "source": [
        "# \"Sex\"列を二値化\n",
        "df.replace({\"Sex\": {\"male\": 0, \"female\": 1}}, inplace=True)\n",
        "df_test.replace({\"Sex\": {\"male\": 0, \"female\": 1}}, inplace=True)"
      ],
      "metadata": {
        "id": "SAZP9hdGEdpY"
      },
      "execution_count": null,
      "outputs": []
    },
    {
      "cell_type": "markdown",
      "source": [
        "#### 2.3.2 \"Embarked\"列"
      ],
      "metadata": {
        "id": "ajmOTjxSVq_W"
      }
    },
    {
      "cell_type": "code",
      "source": [
        "# # \"Embarked\"列をOne-Hot Encoding\n",
        "# embarked = pd.concat([df[\"Embarked\"], df_test[\"Embarked\"]])\n",
        "\n",
        "# embarked_ohe = pd.get_dummies(embarked)\n",
        "\n",
        "# embarked_ohe_train = embarked_ohe[:891]\n",
        "# embarked_ohe_test = embarked_ohe[891:]\n",
        "\n",
        "# df = pd.concat([df, embarked_ohe_train], axis=1)\n",
        "# df_test = pd.concat([df_test, embarked_ohe_test], axis=1)"
      ],
      "metadata": {
        "id": "Kaje0SklEqNk"
      },
      "execution_count": null,
      "outputs": []
    },
    {
      "cell_type": "markdown",
      "source": [
        "#### 2.3.3 \"Title\"列"
      ],
      "metadata": {
        "id": "iLBHP4_iVlgT"
      }
    },
    {
      "cell_type": "code",
      "source": [
        "# trainデータの敬称の種類と数\n",
        "df[\"Title\"].value_counts()"
      ],
      "metadata": {
        "colab": {
          "base_uri": "https://localhost:8080/"
        },
        "id": "xiLkkc6_Trva",
        "outputId": "39dc86b7-4769-4713-9aea-d781f8bc293b"
      },
      "execution_count": null,
      "outputs": [
        {
          "output_type": "execute_result",
          "data": {
            "text/plain": [
              "Mr          517\n",
              "Miss        182\n",
              "Mrs         125\n",
              "Master       40\n",
              "Dr            7\n",
              "Rev           6\n",
              "Mlle          2\n",
              "Major         2\n",
              "Col           2\n",
              "Countess      1\n",
              "Capt          1\n",
              "Ms            1\n",
              "Sir           1\n",
              "Lady          1\n",
              "Mme           1\n",
              "Don           1\n",
              "Jonkheer      1\n",
              "Name: Title, dtype: int64"
            ]
          },
          "metadata": {},
          "execution_count": 87
        }
      ]
    },
    {
      "cell_type": "code",
      "source": [
        "# testデータの敬称の種類と数\n",
        "df_test[\"Title\"].value_counts()"
      ],
      "metadata": {
        "colab": {
          "base_uri": "https://localhost:8080/"
        },
        "id": "YKLHA61r6vNq",
        "outputId": "d7b7fbce-d90a-4cc8-8e30-9dc2a29b3a9f"
      },
      "execution_count": null,
      "outputs": [
        {
          "output_type": "execute_result",
          "data": {
            "text/plain": [
              "Mr        254\n",
              "Miss       80\n",
              "Mrs        63\n",
              "Master     15\n",
              "Col         2\n",
              "Ms          1\n",
              "Rev         1\n",
              "Dr          1\n",
              "Dona        1\n",
              "Name: Title, dtype: int64"
            ]
          },
          "metadata": {},
          "execution_count": 88
        }
      ]
    },
    {
      "cell_type": "code",
      "source": [
        "# \"Title\"別の死亡率（変更前）\n",
        "df[[\"Title\", \"Perished\"]].groupby([\"Title\"], as_index=True).mean().sort_values(by=\"Perished\")"
      ],
      "metadata": {
        "colab": {
          "base_uri": "https://localhost:8080/"
        },
        "id": "oN8opeib4lNZ",
        "outputId": "cc87a3bd-2eba-48a0-f54f-b27450eaa40a"
      },
      "execution_count": null,
      "outputs": [
        {
          "output_type": "execute_result",
          "data": {
            "text/plain": [
              "          Perished\n",
              "Title             \n",
              "Sir       0.000000\n",
              "Ms        0.000000\n",
              "Countess  0.000000\n",
              "Mme       0.000000\n",
              "Mlle      0.000000\n",
              "Lady      0.000000\n",
              "Mrs       0.208000\n",
              "Miss      0.302198\n",
              "Master    0.425000\n",
              "Major     0.500000\n",
              "Col       0.500000\n",
              "Dr        0.571429\n",
              "Mr        0.843327\n",
              "Jonkheer  1.000000\n",
              "Don       1.000000\n",
              "Rev       1.000000\n",
              "Capt      1.000000"
            ],
            "text/html": [
              "\n",
              "  <div id=\"df-e4ae6dee-7882-41a7-b63d-9c0934bf43e8\" class=\"colab-df-container\">\n",
              "    <div>\n",
              "<style scoped>\n",
              "    .dataframe tbody tr th:only-of-type {\n",
              "        vertical-align: middle;\n",
              "    }\n",
              "\n",
              "    .dataframe tbody tr th {\n",
              "        vertical-align: top;\n",
              "    }\n",
              "\n",
              "    .dataframe thead th {\n",
              "        text-align: right;\n",
              "    }\n",
              "</style>\n",
              "<table border=\"1\" class=\"dataframe\">\n",
              "  <thead>\n",
              "    <tr style=\"text-align: right;\">\n",
              "      <th></th>\n",
              "      <th>Perished</th>\n",
              "    </tr>\n",
              "    <tr>\n",
              "      <th>Title</th>\n",
              "      <th></th>\n",
              "    </tr>\n",
              "  </thead>\n",
              "  <tbody>\n",
              "    <tr>\n",
              "      <th>Sir</th>\n",
              "      <td>0.000000</td>\n",
              "    </tr>\n",
              "    <tr>\n",
              "      <th>Ms</th>\n",
              "      <td>0.000000</td>\n",
              "    </tr>\n",
              "    <tr>\n",
              "      <th>Countess</th>\n",
              "      <td>0.000000</td>\n",
              "    </tr>\n",
              "    <tr>\n",
              "      <th>Mme</th>\n",
              "      <td>0.000000</td>\n",
              "    </tr>\n",
              "    <tr>\n",
              "      <th>Mlle</th>\n",
              "      <td>0.000000</td>\n",
              "    </tr>\n",
              "    <tr>\n",
              "      <th>Lady</th>\n",
              "      <td>0.000000</td>\n",
              "    </tr>\n",
              "    <tr>\n",
              "      <th>Mrs</th>\n",
              "      <td>0.208000</td>\n",
              "    </tr>\n",
              "    <tr>\n",
              "      <th>Miss</th>\n",
              "      <td>0.302198</td>\n",
              "    </tr>\n",
              "    <tr>\n",
              "      <th>Master</th>\n",
              "      <td>0.425000</td>\n",
              "    </tr>\n",
              "    <tr>\n",
              "      <th>Major</th>\n",
              "      <td>0.500000</td>\n",
              "    </tr>\n",
              "    <tr>\n",
              "      <th>Col</th>\n",
              "      <td>0.500000</td>\n",
              "    </tr>\n",
              "    <tr>\n",
              "      <th>Dr</th>\n",
              "      <td>0.571429</td>\n",
              "    </tr>\n",
              "    <tr>\n",
              "      <th>Mr</th>\n",
              "      <td>0.843327</td>\n",
              "    </tr>\n",
              "    <tr>\n",
              "      <th>Jonkheer</th>\n",
              "      <td>1.000000</td>\n",
              "    </tr>\n",
              "    <tr>\n",
              "      <th>Don</th>\n",
              "      <td>1.000000</td>\n",
              "    </tr>\n",
              "    <tr>\n",
              "      <th>Rev</th>\n",
              "      <td>1.000000</td>\n",
              "    </tr>\n",
              "    <tr>\n",
              "      <th>Capt</th>\n",
              "      <td>1.000000</td>\n",
              "    </tr>\n",
              "  </tbody>\n",
              "</table>\n",
              "</div>\n",
              "    <div class=\"colab-df-buttons\">\n",
              "\n",
              "  <div class=\"colab-df-container\">\n",
              "    <button class=\"colab-df-convert\" onclick=\"convertToInteractive('df-e4ae6dee-7882-41a7-b63d-9c0934bf43e8')\"\n",
              "            title=\"Convert this dataframe to an interactive table.\"\n",
              "            style=\"display:none;\">\n",
              "\n",
              "  <svg xmlns=\"http://www.w3.org/2000/svg\" height=\"24px\" viewBox=\"0 -960 960 960\">\n",
              "    <path d=\"M120-120v-720h720v720H120Zm60-500h600v-160H180v160Zm220 220h160v-160H400v160Zm0 220h160v-160H400v160ZM180-400h160v-160H180v160Zm440 0h160v-160H620v160ZM180-180h160v-160H180v160Zm440 0h160v-160H620v160Z\"/>\n",
              "  </svg>\n",
              "    </button>\n",
              "\n",
              "  <style>\n",
              "    .colab-df-container {\n",
              "      display:flex;\n",
              "      gap: 12px;\n",
              "    }\n",
              "\n",
              "    .colab-df-convert {\n",
              "      background-color: #E8F0FE;\n",
              "      border: none;\n",
              "      border-radius: 50%;\n",
              "      cursor: pointer;\n",
              "      display: none;\n",
              "      fill: #1967D2;\n",
              "      height: 32px;\n",
              "      padding: 0 0 0 0;\n",
              "      width: 32px;\n",
              "    }\n",
              "\n",
              "    .colab-df-convert:hover {\n",
              "      background-color: #E2EBFA;\n",
              "      box-shadow: 0px 1px 2px rgba(60, 64, 67, 0.3), 0px 1px 3px 1px rgba(60, 64, 67, 0.15);\n",
              "      fill: #174EA6;\n",
              "    }\n",
              "\n",
              "    .colab-df-buttons div {\n",
              "      margin-bottom: 4px;\n",
              "    }\n",
              "\n",
              "    [theme=dark] .colab-df-convert {\n",
              "      background-color: #3B4455;\n",
              "      fill: #D2E3FC;\n",
              "    }\n",
              "\n",
              "    [theme=dark] .colab-df-convert:hover {\n",
              "      background-color: #434B5C;\n",
              "      box-shadow: 0px 1px 3px 1px rgba(0, 0, 0, 0.15);\n",
              "      filter: drop-shadow(0px 1px 2px rgba(0, 0, 0, 0.3));\n",
              "      fill: #FFFFFF;\n",
              "    }\n",
              "  </style>\n",
              "\n",
              "    <script>\n",
              "      const buttonEl =\n",
              "        document.querySelector('#df-e4ae6dee-7882-41a7-b63d-9c0934bf43e8 button.colab-df-convert');\n",
              "      buttonEl.style.display =\n",
              "        google.colab.kernel.accessAllowed ? 'block' : 'none';\n",
              "\n",
              "      async function convertToInteractive(key) {\n",
              "        const element = document.querySelector('#df-e4ae6dee-7882-41a7-b63d-9c0934bf43e8');\n",
              "        const dataTable =\n",
              "          await google.colab.kernel.invokeFunction('convertToInteractive',\n",
              "                                                    [key], {});\n",
              "        if (!dataTable) return;\n",
              "\n",
              "        const docLinkHtml = 'Like what you see? Visit the ' +\n",
              "          '<a target=\"_blank\" href=https://colab.research.google.com/notebooks/data_table.ipynb>data table notebook</a>'\n",
              "          + ' to learn more about interactive tables.';\n",
              "        element.innerHTML = '';\n",
              "        dataTable['output_type'] = 'display_data';\n",
              "        await google.colab.output.renderOutput(dataTable, element);\n",
              "        const docLink = document.createElement('div');\n",
              "        docLink.innerHTML = docLinkHtml;\n",
              "        element.appendChild(docLink);\n",
              "      }\n",
              "    </script>\n",
              "  </div>\n",
              "\n",
              "\n",
              "<div id=\"df-15a03ffb-1619-4944-9a8c-f5b625e16acb\">\n",
              "  <button class=\"colab-df-quickchart\" onclick=\"quickchart('df-15a03ffb-1619-4944-9a8c-f5b625e16acb')\"\n",
              "            title=\"Suggest charts\"\n",
              "            style=\"display:none;\">\n",
              "\n",
              "<svg xmlns=\"http://www.w3.org/2000/svg\" height=\"24px\"viewBox=\"0 0 24 24\"\n",
              "     width=\"24px\">\n",
              "    <g>\n",
              "        <path d=\"M19 3H5c-1.1 0-2 .9-2 2v14c0 1.1.9 2 2 2h14c1.1 0 2-.9 2-2V5c0-1.1-.9-2-2-2zM9 17H7v-7h2v7zm4 0h-2V7h2v10zm4 0h-2v-4h2v4z\"/>\n",
              "    </g>\n",
              "</svg>\n",
              "  </button>\n",
              "\n",
              "<style>\n",
              "  .colab-df-quickchart {\n",
              "      --bg-color: #E8F0FE;\n",
              "      --fill-color: #1967D2;\n",
              "      --hover-bg-color: #E2EBFA;\n",
              "      --hover-fill-color: #174EA6;\n",
              "      --disabled-fill-color: #AAA;\n",
              "      --disabled-bg-color: #DDD;\n",
              "  }\n",
              "\n",
              "  [theme=dark] .colab-df-quickchart {\n",
              "      --bg-color: #3B4455;\n",
              "      --fill-color: #D2E3FC;\n",
              "      --hover-bg-color: #434B5C;\n",
              "      --hover-fill-color: #FFFFFF;\n",
              "      --disabled-bg-color: #3B4455;\n",
              "      --disabled-fill-color: #666;\n",
              "  }\n",
              "\n",
              "  .colab-df-quickchart {\n",
              "    background-color: var(--bg-color);\n",
              "    border: none;\n",
              "    border-radius: 50%;\n",
              "    cursor: pointer;\n",
              "    display: none;\n",
              "    fill: var(--fill-color);\n",
              "    height: 32px;\n",
              "    padding: 0;\n",
              "    width: 32px;\n",
              "  }\n",
              "\n",
              "  .colab-df-quickchart:hover {\n",
              "    background-color: var(--hover-bg-color);\n",
              "    box-shadow: 0 1px 2px rgba(60, 64, 67, 0.3), 0 1px 3px 1px rgba(60, 64, 67, 0.15);\n",
              "    fill: var(--button-hover-fill-color);\n",
              "  }\n",
              "\n",
              "  .colab-df-quickchart-complete:disabled,\n",
              "  .colab-df-quickchart-complete:disabled:hover {\n",
              "    background-color: var(--disabled-bg-color);\n",
              "    fill: var(--disabled-fill-color);\n",
              "    box-shadow: none;\n",
              "  }\n",
              "\n",
              "  .colab-df-spinner {\n",
              "    border: 2px solid var(--fill-color);\n",
              "    border-color: transparent;\n",
              "    border-bottom-color: var(--fill-color);\n",
              "    animation:\n",
              "      spin 1s steps(1) infinite;\n",
              "  }\n",
              "\n",
              "  @keyframes spin {\n",
              "    0% {\n",
              "      border-color: transparent;\n",
              "      border-bottom-color: var(--fill-color);\n",
              "      border-left-color: var(--fill-color);\n",
              "    }\n",
              "    20% {\n",
              "      border-color: transparent;\n",
              "      border-left-color: var(--fill-color);\n",
              "      border-top-color: var(--fill-color);\n",
              "    }\n",
              "    30% {\n",
              "      border-color: transparent;\n",
              "      border-left-color: var(--fill-color);\n",
              "      border-top-color: var(--fill-color);\n",
              "      border-right-color: var(--fill-color);\n",
              "    }\n",
              "    40% {\n",
              "      border-color: transparent;\n",
              "      border-right-color: var(--fill-color);\n",
              "      border-top-color: var(--fill-color);\n",
              "    }\n",
              "    60% {\n",
              "      border-color: transparent;\n",
              "      border-right-color: var(--fill-color);\n",
              "    }\n",
              "    80% {\n",
              "      border-color: transparent;\n",
              "      border-right-color: var(--fill-color);\n",
              "      border-bottom-color: var(--fill-color);\n",
              "    }\n",
              "    90% {\n",
              "      border-color: transparent;\n",
              "      border-bottom-color: var(--fill-color);\n",
              "    }\n",
              "  }\n",
              "</style>\n",
              "\n",
              "  <script>\n",
              "    async function quickchart(key) {\n",
              "      const quickchartButtonEl =\n",
              "        document.querySelector('#' + key + ' button');\n",
              "      quickchartButtonEl.disabled = true;  // To prevent multiple clicks.\n",
              "      quickchartButtonEl.classList.add('colab-df-spinner');\n",
              "      try {\n",
              "        const charts = await google.colab.kernel.invokeFunction(\n",
              "            'suggestCharts', [key], {});\n",
              "      } catch (error) {\n",
              "        console.error('Error during call to suggestCharts:', error);\n",
              "      }\n",
              "      quickchartButtonEl.classList.remove('colab-df-spinner');\n",
              "      quickchartButtonEl.classList.add('colab-df-quickchart-complete');\n",
              "    }\n",
              "    (() => {\n",
              "      let quickchartButtonEl =\n",
              "        document.querySelector('#df-15a03ffb-1619-4944-9a8c-f5b625e16acb button');\n",
              "      quickchartButtonEl.style.display =\n",
              "        google.colab.kernel.accessAllowed ? 'block' : 'none';\n",
              "    })();\n",
              "  </script>\n",
              "</div>\n",
              "    </div>\n",
              "  </div>\n"
            ]
          },
          "metadata": {},
          "execution_count": 89
        }
      ]
    },
    {
      "cell_type": "code",
      "source": [
        "# 男性の敬称を\"Mr\"に統一\n",
        "df[\"Title\"] = df[\"Title\"].replace([\"Capt\", \"Col\", \"Don\", \"Major\", \"Rev\", \"Sir\", \"Jonkheer\"], \"Mr\")\n",
        "df_test[\"Title\"] = df_test[\"Title\"].replace([\"Capt\", \"Col\", \"Don\", \"Major\", \"Rev\", \"Sir\", \"Jonkheer\"], \"Mr\")\n",
        "\n",
        "# 既婚女性（と思われる）の敬称を\"Mrs\"に統一\n",
        "df[\"Title\"] = df[\"Title\"].replace([\"Countess\", \"Mme\"], \"Mrs\")\n",
        "df_test[\"Title\"] = df_test[\"Title\"].replace([\"Countess\", \"Mme\"], \"Mrs\")\n",
        "\n",
        "# 未婚女性（と思われる）の敬称を\"Miss\"に統一\n",
        "df[\"Title\"] = df[\"Title\"].replace([\"Dona\", \"Lady\", \"Mlle\", \"Ms\"], \"Miss\")\n",
        "df_test[\"Title\"] = df_test[\"Title\"].replace([\"Dona\", \"Lady\", \"Mlle\", \"Ms\"], \"Miss\")"
      ],
      "metadata": {
        "id": "oNZ8L-Tg7A2e"
      },
      "execution_count": null,
      "outputs": []
    },
    {
      "cell_type": "code",
      "source": [
        "# \"Title\"別の死亡率（変更後）\n",
        "df[[\"Title\", \"Perished\"]].groupby([\"Title\"], as_index=True).mean().sort_values(by=\"Perished\")"
      ],
      "metadata": {
        "colab": {
          "base_uri": "https://localhost:8080/"
        },
        "id": "so_8JSn-WRLa",
        "outputId": "de64bf06-fe3b-44fb-8ae7-32b88263c312"
      },
      "execution_count": null,
      "outputs": [
        {
          "output_type": "execute_result",
          "data": {
            "text/plain": [
              "        Perished\n",
              "Title           \n",
              "Mrs     0.204724\n",
              "Miss    0.295699\n",
              "Master  0.425000\n",
              "Dr      0.571429\n",
              "Mr      0.841808"
            ],
            "text/html": [
              "\n",
              "  <div id=\"df-fb3004a9-6a8a-4703-a6cb-cf5a258c2570\" class=\"colab-df-container\">\n",
              "    <div>\n",
              "<style scoped>\n",
              "    .dataframe tbody tr th:only-of-type {\n",
              "        vertical-align: middle;\n",
              "    }\n",
              "\n",
              "    .dataframe tbody tr th {\n",
              "        vertical-align: top;\n",
              "    }\n",
              "\n",
              "    .dataframe thead th {\n",
              "        text-align: right;\n",
              "    }\n",
              "</style>\n",
              "<table border=\"1\" class=\"dataframe\">\n",
              "  <thead>\n",
              "    <tr style=\"text-align: right;\">\n",
              "      <th></th>\n",
              "      <th>Perished</th>\n",
              "    </tr>\n",
              "    <tr>\n",
              "      <th>Title</th>\n",
              "      <th></th>\n",
              "    </tr>\n",
              "  </thead>\n",
              "  <tbody>\n",
              "    <tr>\n",
              "      <th>Mrs</th>\n",
              "      <td>0.204724</td>\n",
              "    </tr>\n",
              "    <tr>\n",
              "      <th>Miss</th>\n",
              "      <td>0.295699</td>\n",
              "    </tr>\n",
              "    <tr>\n",
              "      <th>Master</th>\n",
              "      <td>0.425000</td>\n",
              "    </tr>\n",
              "    <tr>\n",
              "      <th>Dr</th>\n",
              "      <td>0.571429</td>\n",
              "    </tr>\n",
              "    <tr>\n",
              "      <th>Mr</th>\n",
              "      <td>0.841808</td>\n",
              "    </tr>\n",
              "  </tbody>\n",
              "</table>\n",
              "</div>\n",
              "    <div class=\"colab-df-buttons\">\n",
              "\n",
              "  <div class=\"colab-df-container\">\n",
              "    <button class=\"colab-df-convert\" onclick=\"convertToInteractive('df-fb3004a9-6a8a-4703-a6cb-cf5a258c2570')\"\n",
              "            title=\"Convert this dataframe to an interactive table.\"\n",
              "            style=\"display:none;\">\n",
              "\n",
              "  <svg xmlns=\"http://www.w3.org/2000/svg\" height=\"24px\" viewBox=\"0 -960 960 960\">\n",
              "    <path d=\"M120-120v-720h720v720H120Zm60-500h600v-160H180v160Zm220 220h160v-160H400v160Zm0 220h160v-160H400v160ZM180-400h160v-160H180v160Zm440 0h160v-160H620v160ZM180-180h160v-160H180v160Zm440 0h160v-160H620v160Z\"/>\n",
              "  </svg>\n",
              "    </button>\n",
              "\n",
              "  <style>\n",
              "    .colab-df-container {\n",
              "      display:flex;\n",
              "      gap: 12px;\n",
              "    }\n",
              "\n",
              "    .colab-df-convert {\n",
              "      background-color: #E8F0FE;\n",
              "      border: none;\n",
              "      border-radius: 50%;\n",
              "      cursor: pointer;\n",
              "      display: none;\n",
              "      fill: #1967D2;\n",
              "      height: 32px;\n",
              "      padding: 0 0 0 0;\n",
              "      width: 32px;\n",
              "    }\n",
              "\n",
              "    .colab-df-convert:hover {\n",
              "      background-color: #E2EBFA;\n",
              "      box-shadow: 0px 1px 2px rgba(60, 64, 67, 0.3), 0px 1px 3px 1px rgba(60, 64, 67, 0.15);\n",
              "      fill: #174EA6;\n",
              "    }\n",
              "\n",
              "    .colab-df-buttons div {\n",
              "      margin-bottom: 4px;\n",
              "    }\n",
              "\n",
              "    [theme=dark] .colab-df-convert {\n",
              "      background-color: #3B4455;\n",
              "      fill: #D2E3FC;\n",
              "    }\n",
              "\n",
              "    [theme=dark] .colab-df-convert:hover {\n",
              "      background-color: #434B5C;\n",
              "      box-shadow: 0px 1px 3px 1px rgba(0, 0, 0, 0.15);\n",
              "      filter: drop-shadow(0px 1px 2px rgba(0, 0, 0, 0.3));\n",
              "      fill: #FFFFFF;\n",
              "    }\n",
              "  </style>\n",
              "\n",
              "    <script>\n",
              "      const buttonEl =\n",
              "        document.querySelector('#df-fb3004a9-6a8a-4703-a6cb-cf5a258c2570 button.colab-df-convert');\n",
              "      buttonEl.style.display =\n",
              "        google.colab.kernel.accessAllowed ? 'block' : 'none';\n",
              "\n",
              "      async function convertToInteractive(key) {\n",
              "        const element = document.querySelector('#df-fb3004a9-6a8a-4703-a6cb-cf5a258c2570');\n",
              "        const dataTable =\n",
              "          await google.colab.kernel.invokeFunction('convertToInteractive',\n",
              "                                                    [key], {});\n",
              "        if (!dataTable) return;\n",
              "\n",
              "        const docLinkHtml = 'Like what you see? Visit the ' +\n",
              "          '<a target=\"_blank\" href=https://colab.research.google.com/notebooks/data_table.ipynb>data table notebook</a>'\n",
              "          + ' to learn more about interactive tables.';\n",
              "        element.innerHTML = '';\n",
              "        dataTable['output_type'] = 'display_data';\n",
              "        await google.colab.output.renderOutput(dataTable, element);\n",
              "        const docLink = document.createElement('div');\n",
              "        docLink.innerHTML = docLinkHtml;\n",
              "        element.appendChild(docLink);\n",
              "      }\n",
              "    </script>\n",
              "  </div>\n",
              "\n",
              "\n",
              "<div id=\"df-32629cdd-6e53-4589-ba93-21c5dbaa170f\">\n",
              "  <button class=\"colab-df-quickchart\" onclick=\"quickchart('df-32629cdd-6e53-4589-ba93-21c5dbaa170f')\"\n",
              "            title=\"Suggest charts\"\n",
              "            style=\"display:none;\">\n",
              "\n",
              "<svg xmlns=\"http://www.w3.org/2000/svg\" height=\"24px\"viewBox=\"0 0 24 24\"\n",
              "     width=\"24px\">\n",
              "    <g>\n",
              "        <path d=\"M19 3H5c-1.1 0-2 .9-2 2v14c0 1.1.9 2 2 2h14c1.1 0 2-.9 2-2V5c0-1.1-.9-2-2-2zM9 17H7v-7h2v7zm4 0h-2V7h2v10zm4 0h-2v-4h2v4z\"/>\n",
              "    </g>\n",
              "</svg>\n",
              "  </button>\n",
              "\n",
              "<style>\n",
              "  .colab-df-quickchart {\n",
              "      --bg-color: #E8F0FE;\n",
              "      --fill-color: #1967D2;\n",
              "      --hover-bg-color: #E2EBFA;\n",
              "      --hover-fill-color: #174EA6;\n",
              "      --disabled-fill-color: #AAA;\n",
              "      --disabled-bg-color: #DDD;\n",
              "  }\n",
              "\n",
              "  [theme=dark] .colab-df-quickchart {\n",
              "      --bg-color: #3B4455;\n",
              "      --fill-color: #D2E3FC;\n",
              "      --hover-bg-color: #434B5C;\n",
              "      --hover-fill-color: #FFFFFF;\n",
              "      --disabled-bg-color: #3B4455;\n",
              "      --disabled-fill-color: #666;\n",
              "  }\n",
              "\n",
              "  .colab-df-quickchart {\n",
              "    background-color: var(--bg-color);\n",
              "    border: none;\n",
              "    border-radius: 50%;\n",
              "    cursor: pointer;\n",
              "    display: none;\n",
              "    fill: var(--fill-color);\n",
              "    height: 32px;\n",
              "    padding: 0;\n",
              "    width: 32px;\n",
              "  }\n",
              "\n",
              "  .colab-df-quickchart:hover {\n",
              "    background-color: var(--hover-bg-color);\n",
              "    box-shadow: 0 1px 2px rgba(60, 64, 67, 0.3), 0 1px 3px 1px rgba(60, 64, 67, 0.15);\n",
              "    fill: var(--button-hover-fill-color);\n",
              "  }\n",
              "\n",
              "  .colab-df-quickchart-complete:disabled,\n",
              "  .colab-df-quickchart-complete:disabled:hover {\n",
              "    background-color: var(--disabled-bg-color);\n",
              "    fill: var(--disabled-fill-color);\n",
              "    box-shadow: none;\n",
              "  }\n",
              "\n",
              "  .colab-df-spinner {\n",
              "    border: 2px solid var(--fill-color);\n",
              "    border-color: transparent;\n",
              "    border-bottom-color: var(--fill-color);\n",
              "    animation:\n",
              "      spin 1s steps(1) infinite;\n",
              "  }\n",
              "\n",
              "  @keyframes spin {\n",
              "    0% {\n",
              "      border-color: transparent;\n",
              "      border-bottom-color: var(--fill-color);\n",
              "      border-left-color: var(--fill-color);\n",
              "    }\n",
              "    20% {\n",
              "      border-color: transparent;\n",
              "      border-left-color: var(--fill-color);\n",
              "      border-top-color: var(--fill-color);\n",
              "    }\n",
              "    30% {\n",
              "      border-color: transparent;\n",
              "      border-left-color: var(--fill-color);\n",
              "      border-top-color: var(--fill-color);\n",
              "      border-right-color: var(--fill-color);\n",
              "    }\n",
              "    40% {\n",
              "      border-color: transparent;\n",
              "      border-right-color: var(--fill-color);\n",
              "      border-top-color: var(--fill-color);\n",
              "    }\n",
              "    60% {\n",
              "      border-color: transparent;\n",
              "      border-right-color: var(--fill-color);\n",
              "    }\n",
              "    80% {\n",
              "      border-color: transparent;\n",
              "      border-right-color: var(--fill-color);\n",
              "      border-bottom-color: var(--fill-color);\n",
              "    }\n",
              "    90% {\n",
              "      border-color: transparent;\n",
              "      border-bottom-color: var(--fill-color);\n",
              "    }\n",
              "  }\n",
              "</style>\n",
              "\n",
              "  <script>\n",
              "    async function quickchart(key) {\n",
              "      const quickchartButtonEl =\n",
              "        document.querySelector('#' + key + ' button');\n",
              "      quickchartButtonEl.disabled = true;  // To prevent multiple clicks.\n",
              "      quickchartButtonEl.classList.add('colab-df-spinner');\n",
              "      try {\n",
              "        const charts = await google.colab.kernel.invokeFunction(\n",
              "            'suggestCharts', [key], {});\n",
              "      } catch (error) {\n",
              "        console.error('Error during call to suggestCharts:', error);\n",
              "      }\n",
              "      quickchartButtonEl.classList.remove('colab-df-spinner');\n",
              "      quickchartButtonEl.classList.add('colab-df-quickchart-complete');\n",
              "    }\n",
              "    (() => {\n",
              "      let quickchartButtonEl =\n",
              "        document.querySelector('#df-32629cdd-6e53-4589-ba93-21c5dbaa170f button');\n",
              "      quickchartButtonEl.style.display =\n",
              "        google.colab.kernel.accessAllowed ? 'block' : 'none';\n",
              "    })();\n",
              "  </script>\n",
              "</div>\n",
              "    </div>\n",
              "  </div>\n"
            ]
          },
          "metadata": {},
          "execution_count": 91
        }
      ]
    },
    {
      "cell_type": "code",
      "source": [
        "# \"Title\"列をOne-Hot Encoding\n",
        "title = pd.concat([df[\"Title\"], df_test[\"Title\"]])\n",
        "\n",
        "title_ohe = pd.get_dummies(title)\n",
        "\n",
        "title_ohe_train = title_ohe[:891]\n",
        "title_ohe_test = title_ohe[891:]\n",
        "\n",
        "df = pd.concat([df, title_ohe_train], axis=1)\n",
        "df_test = pd.concat([df_test, title_ohe_test], axis=1)"
      ],
      "metadata": {
        "id": "BnpG1h4vudpk"
      },
      "execution_count": null,
      "outputs": []
    },
    {
      "cell_type": "markdown",
      "source": [
        "#### 2.3.4 \"Deck\"列"
      ],
      "metadata": {
        "id": "Q3G_LxgDMfdw"
      }
    },
    {
      "cell_type": "code",
      "source": [
        "# # \"Deck\"列をOne-Hot Encoding\n",
        "# deck = pd.concat([df[\"Deck\"], df_test[\"Deck\"]])\n",
        "\n",
        "# deck_ohe = pd.get_dummies(deck)\n",
        "\n",
        "# deck_ohe_train = deck_ohe[:891]\n",
        "# deck_ohe_test = deck_ohe[891:]\n",
        "\n",
        "# df = pd.concat([df, deck_ohe_train], axis=1)\n",
        "# df_test = pd.concat([df_test, deck_ohe_test], axis=1)\n",
        "\n",
        "# df.head()"
      ],
      "metadata": {
        "id": "N5S_tJSPMiXi"
      },
      "execution_count": null,
      "outputs": []
    },
    {
      "cell_type": "markdown",
      "source": [
        "### 2.4 特徴量の削除"
      ],
      "metadata": {
        "id": "frtRlsAuQYhL"
      }
    },
    {
      "cell_type": "code",
      "source": [
        "df.columns"
      ],
      "metadata": {
        "colab": {
          "base_uri": "https://localhost:8080/"
        },
        "id": "4XRdKr_RPXWW",
        "outputId": "249d7c66-3a3a-45ea-c31d-b4d2e6857449"
      },
      "execution_count": null,
      "outputs": [
        {
          "output_type": "execute_result",
          "data": {
            "text/plain": [
              "Index(['PassengerId', 'Perished', 'Pclass', 'Name', 'Sex', 'Age', 'SibSp',\n",
              "       'Parch', 'Ticket', 'Fare', 'Cabin', 'Embarked', 'Title', 'Surname',\n",
              "       'FamilyGroup', 'SibSpLabel', 'ParchLabel', 'FamilySize',\n",
              "       'FamilySizeLabel', 'SameTicketGroup', 'SameTicketLabel', 'TicketLabel',\n",
              "       'AgeGroup', 'FareGroup', 'FareLabel', 'Deck', 'DeckLabel',\n",
              "       'EmbarkedLabel', 'Dr', 'Master', 'Miss', 'Mr', 'Mrs'],\n",
              "      dtype='object')"
            ]
          },
          "metadata": {},
          "execution_count": 94
        }
      ]
    },
    {
      "cell_type": "code",
      "source": [
        "# 削除する特徴量\n",
        "# ラベリングした特徴量は削除\n",
        "# \"TicketLabel\"は過学習になりやすいため削除\n",
        "# \"Dr\"はtestデータに1人しかいないため削除\n",
        "# \"Master\"は削除したらスコアが上がった（trainデータとtestデータの死亡率に大きな差があると考えられる）\n",
        "del_fe = [\"Name\", \"SibSp\", \"Parch\", \"Ticket\", \"Fare\", \"Cabin\", \"Embarked\", \"Title\", \"Surname\", \"FamilyGroup\", \"FamilySize\", \"SameTicketGroup\", \"TicketLabel\", \"AgeGroup\", \"FareGroup\", \"Deck\", \"Dr\", \"Master\"]\n",
        "\n",
        "# 特徴量を削除\n",
        "df.drop(del_fe, axis=1, inplace=True)\n",
        "df_test.drop(del_fe, axis=1, inplace=True)"
      ],
      "metadata": {
        "id": "NVplqTSLQf84"
      },
      "execution_count": null,
      "outputs": []
    },
    {
      "cell_type": "code",
      "source": [
        "df.isnull().sum()"
      ],
      "metadata": {
        "colab": {
          "base_uri": "https://localhost:8080/"
        },
        "id": "Rv4y9Qleclbv",
        "outputId": "d176177f-3b2e-4891-c1d0-2af67c63ea45"
      },
      "execution_count": null,
      "outputs": [
        {
          "output_type": "execute_result",
          "data": {
            "text/plain": [
              "PassengerId        0\n",
              "Perished           0\n",
              "Pclass             0\n",
              "Sex                0\n",
              "Age                0\n",
              "SibSpLabel         0\n",
              "ParchLabel         0\n",
              "FamilySizeLabel    0\n",
              "SameTicketLabel    0\n",
              "FareLabel          0\n",
              "DeckLabel          0\n",
              "EmbarkedLabel      0\n",
              "Miss               0\n",
              "Mr                 0\n",
              "Mrs                0\n",
              "dtype: int64"
            ]
          },
          "metadata": {},
          "execution_count": 96
        }
      ]
    },
    {
      "cell_type": "code",
      "source": [
        "df_test.isnull().sum()"
      ],
      "metadata": {
        "colab": {
          "base_uri": "https://localhost:8080/"
        },
        "id": "9jrT6KvmceFL",
        "outputId": "a690662b-e870-4227-ef63-59bc7754ad2f"
      },
      "execution_count": null,
      "outputs": [
        {
          "output_type": "execute_result",
          "data": {
            "text/plain": [
              "PassengerId        0\n",
              "Pclass             0\n",
              "Sex                0\n",
              "Age                0\n",
              "SibSpLabel         0\n",
              "ParchLabel         0\n",
              "FamilySizeLabel    0\n",
              "SameTicketLabel    0\n",
              "FareLabel          0\n",
              "DeckLabel          0\n",
              "EmbarkedLabel      0\n",
              "Miss               0\n",
              "Mr                 0\n",
              "Mrs                0\n",
              "dtype: int64"
            ]
          },
          "metadata": {},
          "execution_count": 97
        }
      ]
    },
    {
      "cell_type": "markdown",
      "source": [
        "## 3\\. ランダムフォレストモデル構築"
      ],
      "metadata": {
        "id": "m-q9tqcQpp6m"
      }
    },
    {
      "cell_type": "markdown",
      "source": [
        "### 3.1 変数の準備\n",
        "- 説明変数：PassengerId, Perished以外の変数  \n",
        "- 目的変数：Perished"
      ],
      "metadata": {
        "id": "AQDz33uKd2LM"
      }
    },
    {
      "cell_type": "code",
      "source": [
        "# X:説明変数  y:目的変数\n",
        "X = df.iloc[:, 2:].values\n",
        "y = df.iloc[:, 1].values\n",
        "X_test = df_test.iloc[:, 1:].values"
      ],
      "metadata": {
        "id": "pC7IAPtqxWq8"
      },
      "execution_count": null,
      "outputs": []
    },
    {
      "cell_type": "markdown",
      "source": [
        "### 3.2 グリッドサーチ（ホールドアウト法）"
      ],
      "metadata": {
        "id": "A5ajxXvDG3pT"
      }
    },
    {
      "cell_type": "code",
      "source": [
        "# データ分割\n",
        "X_train, X_valid, y_train, y_valid = train_test_split(X, y, test_size=0.6, random_state=42)"
      ],
      "metadata": {
        "id": "qWWwnNLZkisu"
      },
      "execution_count": null,
      "outputs": []
    },
    {
      "cell_type": "code",
      "source": [
        "# グリッドサーチするパラメータ\n",
        "param_grid = {\n",
        "    \"max_depth\": [5, 6, 7, 8],\n",
        "    \"min_samples_leaf\": [3, 4, 5],\n",
        "    \"n_estimators\": [i for i in range(10, 21, 2)]\n",
        "}"
      ],
      "metadata": {
        "id": "RyvvBDDXQnD6"
      },
      "execution_count": null,
      "outputs": []
    },
    {
      "cell_type": "code",
      "source": [
        "# グリッドサーチ（ホールドアウト法）\n",
        "for max_depth in param_grid[\"max_depth\"]:\n",
        "    for min_samples_leaf in param_grid[\"min_samples_leaf\"]:\n",
        "        for n_estimators in param_grid[\"n_estimators\"]:\n",
        "            rfc_grid = RandomForestClassifier(\n",
        "                max_depth=max_depth,\n",
        "                min_samples_leaf=min_samples_leaf,\n",
        "                n_estimators=n_estimators,\n",
        "                n_jobs=-1,\n",
        "                random_state=42\n",
        "            )\n",
        "            rfc_grid.fit(X_train, y_train)\n",
        "            print(f\"max_depth: {max_depth}, min_samples_leaf: {min_samples_leaf}, n_estimators: {n_estimators}\")\n",
        "            print(f\"    Train Score: {round(rfc_grid.score(X_train, y_train), 3)}, Test Score: {round(rfc_grid.score(X_valid, y_valid), 3)}\")"
      ],
      "metadata": {
        "id": "4yZ6qGHNGnou",
        "colab": {
          "base_uri": "https://localhost:8080/"
        },
        "outputId": "0be950c8-2c2c-4e43-af0b-2bbeaa335082"
      },
      "execution_count": null,
      "outputs": [
        {
          "output_type": "stream",
          "name": "stdout",
          "text": [
            "max_depth: 5, min_samples_leaf: 3, n_estimators: 10\n",
            "    Train Score: 0.826, Test Score: 0.819\n",
            "max_depth: 5, min_samples_leaf: 3, n_estimators: 12\n",
            "    Train Score: 0.837, Test Score: 0.815\n",
            "max_depth: 5, min_samples_leaf: 3, n_estimators: 14\n",
            "    Train Score: 0.826, Test Score: 0.821\n",
            "max_depth: 5, min_samples_leaf: 3, n_estimators: 16\n",
            "    Train Score: 0.834, Test Score: 0.822\n",
            "max_depth: 5, min_samples_leaf: 3, n_estimators: 18\n",
            "    Train Score: 0.831, Test Score: 0.821\n",
            "max_depth: 5, min_samples_leaf: 3, n_estimators: 20\n",
            "    Train Score: 0.826, Test Score: 0.826\n",
            "max_depth: 5, min_samples_leaf: 4, n_estimators: 10\n",
            "    Train Score: 0.817, Test Score: 0.809\n",
            "max_depth: 5, min_samples_leaf: 4, n_estimators: 12\n",
            "    Train Score: 0.817, Test Score: 0.815\n",
            "max_depth: 5, min_samples_leaf: 4, n_estimators: 14\n",
            "    Train Score: 0.826, Test Score: 0.821\n",
            "max_depth: 5, min_samples_leaf: 4, n_estimators: 16\n",
            "    Train Score: 0.831, Test Score: 0.832\n",
            "max_depth: 5, min_samples_leaf: 4, n_estimators: 18\n",
            "    Train Score: 0.826, Test Score: 0.836\n",
            "max_depth: 5, min_samples_leaf: 4, n_estimators: 20\n",
            "    Train Score: 0.823, Test Score: 0.832\n",
            "max_depth: 5, min_samples_leaf: 5, n_estimators: 10\n",
            "    Train Score: 0.815, Test Score: 0.798\n",
            "max_depth: 5, min_samples_leaf: 5, n_estimators: 12\n",
            "    Train Score: 0.817, Test Score: 0.806\n",
            "max_depth: 5, min_samples_leaf: 5, n_estimators: 14\n",
            "    Train Score: 0.826, Test Score: 0.824\n",
            "max_depth: 5, min_samples_leaf: 5, n_estimators: 16\n",
            "    Train Score: 0.826, Test Score: 0.826\n",
            "max_depth: 5, min_samples_leaf: 5, n_estimators: 18\n",
            "    Train Score: 0.817, Test Score: 0.828\n",
            "max_depth: 5, min_samples_leaf: 5, n_estimators: 20\n",
            "    Train Score: 0.82, Test Score: 0.826\n",
            "max_depth: 6, min_samples_leaf: 3, n_estimators: 10\n",
            "    Train Score: 0.84, Test Score: 0.834\n",
            "max_depth: 6, min_samples_leaf: 3, n_estimators: 12\n",
            "    Train Score: 0.84, Test Score: 0.821\n",
            "max_depth: 6, min_samples_leaf: 3, n_estimators: 14\n",
            "    Train Score: 0.843, Test Score: 0.834\n",
            "max_depth: 6, min_samples_leaf: 3, n_estimators: 16\n",
            "    Train Score: 0.843, Test Score: 0.837\n",
            "max_depth: 6, min_samples_leaf: 3, n_estimators: 18\n",
            "    Train Score: 0.843, Test Score: 0.839\n",
            "max_depth: 6, min_samples_leaf: 3, n_estimators: 20\n",
            "    Train Score: 0.84, Test Score: 0.83\n",
            "max_depth: 6, min_samples_leaf: 4, n_estimators: 10\n",
            "    Train Score: 0.837, Test Score: 0.83\n",
            "max_depth: 6, min_samples_leaf: 4, n_estimators: 12\n",
            "    Train Score: 0.84, Test Score: 0.834\n",
            "max_depth: 6, min_samples_leaf: 4, n_estimators: 14\n",
            "    Train Score: 0.854, Test Score: 0.828\n",
            "max_depth: 6, min_samples_leaf: 4, n_estimators: 16\n",
            "    Train Score: 0.834, Test Score: 0.841\n",
            "max_depth: 6, min_samples_leaf: 4, n_estimators: 18\n",
            "    Train Score: 0.851, Test Score: 0.843\n",
            "max_depth: 6, min_samples_leaf: 4, n_estimators: 20\n",
            "    Train Score: 0.846, Test Score: 0.828\n",
            "max_depth: 6, min_samples_leaf: 5, n_estimators: 10\n",
            "    Train Score: 0.829, Test Score: 0.826\n",
            "max_depth: 6, min_samples_leaf: 5, n_estimators: 12\n",
            "    Train Score: 0.837, Test Score: 0.822\n",
            "max_depth: 6, min_samples_leaf: 5, n_estimators: 14\n",
            "    Train Score: 0.834, Test Score: 0.841\n",
            "max_depth: 6, min_samples_leaf: 5, n_estimators: 16\n",
            "    Train Score: 0.846, Test Score: 0.837\n",
            "max_depth: 6, min_samples_leaf: 5, n_estimators: 18\n",
            "    Train Score: 0.848, Test Score: 0.839\n",
            "max_depth: 6, min_samples_leaf: 5, n_estimators: 20\n",
            "    Train Score: 0.846, Test Score: 0.841\n",
            "max_depth: 7, min_samples_leaf: 3, n_estimators: 10\n",
            "    Train Score: 0.848, Test Score: 0.817\n",
            "max_depth: 7, min_samples_leaf: 3, n_estimators: 12\n",
            "    Train Score: 0.857, Test Score: 0.822\n",
            "max_depth: 7, min_samples_leaf: 3, n_estimators: 14\n",
            "    Train Score: 0.851, Test Score: 0.828\n",
            "max_depth: 7, min_samples_leaf: 3, n_estimators: 16\n",
            "    Train Score: 0.854, Test Score: 0.839\n",
            "max_depth: 7, min_samples_leaf: 3, n_estimators: 18\n",
            "    Train Score: 0.846, Test Score: 0.83\n",
            "max_depth: 7, min_samples_leaf: 3, n_estimators: 20\n",
            "    Train Score: 0.846, Test Score: 0.826\n",
            "max_depth: 7, min_samples_leaf: 4, n_estimators: 10\n",
            "    Train Score: 0.837, Test Score: 0.819\n",
            "max_depth: 7, min_samples_leaf: 4, n_estimators: 12\n",
            "    Train Score: 0.851, Test Score: 0.824\n",
            "max_depth: 7, min_samples_leaf: 4, n_estimators: 14\n",
            "    Train Score: 0.854, Test Score: 0.837\n",
            "max_depth: 7, min_samples_leaf: 4, n_estimators: 16\n",
            "    Train Score: 0.846, Test Score: 0.843\n",
            "max_depth: 7, min_samples_leaf: 4, n_estimators: 18\n",
            "    Train Score: 0.851, Test Score: 0.843\n",
            "max_depth: 7, min_samples_leaf: 4, n_estimators: 20\n",
            "    Train Score: 0.851, Test Score: 0.843\n",
            "max_depth: 7, min_samples_leaf: 5, n_estimators: 10\n",
            "    Train Score: 0.834, Test Score: 0.834\n",
            "max_depth: 7, min_samples_leaf: 5, n_estimators: 12\n",
            "    Train Score: 0.84, Test Score: 0.821\n",
            "max_depth: 7, min_samples_leaf: 5, n_estimators: 14\n",
            "    Train Score: 0.84, Test Score: 0.839\n",
            "max_depth: 7, min_samples_leaf: 5, n_estimators: 16\n",
            "    Train Score: 0.84, Test Score: 0.841\n",
            "max_depth: 7, min_samples_leaf: 5, n_estimators: 18\n",
            "    Train Score: 0.837, Test Score: 0.839\n",
            "max_depth: 7, min_samples_leaf: 5, n_estimators: 20\n",
            "    Train Score: 0.837, Test Score: 0.847\n",
            "max_depth: 8, min_samples_leaf: 3, n_estimators: 10\n",
            "    Train Score: 0.857, Test Score: 0.819\n",
            "max_depth: 8, min_samples_leaf: 3, n_estimators: 12\n",
            "    Train Score: 0.86, Test Score: 0.819\n",
            "max_depth: 8, min_samples_leaf: 3, n_estimators: 14\n",
            "    Train Score: 0.862, Test Score: 0.822\n",
            "max_depth: 8, min_samples_leaf: 3, n_estimators: 16\n",
            "    Train Score: 0.865, Test Score: 0.839\n",
            "max_depth: 8, min_samples_leaf: 3, n_estimators: 18\n",
            "    Train Score: 0.862, Test Score: 0.832\n",
            "max_depth: 8, min_samples_leaf: 3, n_estimators: 20\n",
            "    Train Score: 0.865, Test Score: 0.828\n",
            "max_depth: 8, min_samples_leaf: 4, n_estimators: 10\n",
            "    Train Score: 0.846, Test Score: 0.824\n",
            "max_depth: 8, min_samples_leaf: 4, n_estimators: 12\n",
            "    Train Score: 0.851, Test Score: 0.817\n",
            "max_depth: 8, min_samples_leaf: 4, n_estimators: 14\n",
            "    Train Score: 0.854, Test Score: 0.828\n",
            "max_depth: 8, min_samples_leaf: 4, n_estimators: 16\n",
            "    Train Score: 0.846, Test Score: 0.837\n",
            "max_depth: 8, min_samples_leaf: 4, n_estimators: 18\n",
            "    Train Score: 0.857, Test Score: 0.837\n",
            "max_depth: 8, min_samples_leaf: 4, n_estimators: 20\n",
            "    Train Score: 0.848, Test Score: 0.832\n",
            "max_depth: 8, min_samples_leaf: 5, n_estimators: 10\n",
            "    Train Score: 0.831, Test Score: 0.828\n",
            "max_depth: 8, min_samples_leaf: 5, n_estimators: 12\n",
            "    Train Score: 0.829, Test Score: 0.824\n",
            "max_depth: 8, min_samples_leaf: 5, n_estimators: 14\n",
            "    Train Score: 0.829, Test Score: 0.837\n",
            "max_depth: 8, min_samples_leaf: 5, n_estimators: 16\n",
            "    Train Score: 0.837, Test Score: 0.837\n",
            "max_depth: 8, min_samples_leaf: 5, n_estimators: 18\n",
            "    Train Score: 0.831, Test Score: 0.839\n",
            "max_depth: 8, min_samples_leaf: 5, n_estimators: 20\n",
            "    Train Score: 0.831, Test Score: 0.843\n"
          ]
        }
      ]
    },
    {
      "cell_type": "code",
      "source": [
        "# 最適なモデル\n",
        "# 上記の結果からスコアが高く、TrainとTestの差が小さいものを選ぶ\n",
        "rfc_best = RandomForestClassifier(\n",
        "    max_depth=7,\n",
        "    min_samples_leaf=4,\n",
        "    n_estimators=16,\n",
        "    n_jobs=-1,\n",
        "    random_state=42\n",
        ")\n",
        "\n",
        "rfc_best.fit(X, y)\n",
        "\n",
        "# 正解率\n",
        "print(f\"Score: {round(rfc_best.score(X, y), 3)}\")"
      ],
      "metadata": {
        "colab": {
          "base_uri": "https://localhost:8080/"
        },
        "id": "Gy5xaX92lDl4",
        "outputId": "eb45a1cf-7dfa-4c10-d08b-95bf97534992"
      },
      "execution_count": null,
      "outputs": [
        {
          "output_type": "stream",
          "name": "stdout",
          "text": [
            "Score: 0.855\n"
          ]
        }
      ]
    },
    {
      "cell_type": "markdown",
      "source": [
        "### 3.3 グリッドサーチ（クロスバリデーション法）"
      ],
      "metadata": {
        "id": "ogMmFK0WkyqA"
      }
    },
    {
      "cell_type": "code",
      "source": [
        "# # グリッドサーチするパラメータ\n",
        "# param_grid = {\n",
        "#     \"max_depth\": [5, 6, 7, 8],\n",
        "#     \"min_samples_leaf\": [3, 4, 5],\n",
        "#     \"n_estimators\": [50, 100, 200]\n",
        "# }"
      ],
      "metadata": {
        "id": "fScB-ZnXmgw8"
      },
      "execution_count": null,
      "outputs": []
    },
    {
      "cell_type": "code",
      "source": [
        "# # グリッドサーチ（クロスバリデーション法）\n",
        "# rfc = RandomForestClassifier(n_jobs=-1, random_state=42)\n",
        "# rfc_gs = GridSearchCV(rfc, param_grid, cv=5, return_train_score=True)\n",
        "# rfc_gs.fit(X, y)\n",
        "\n",
        "# print(f\"Best Parameters: {rfc_gs.best_params_}\")\n",
        "# print(f\"CV Score: {round(rfc_gs.best_score_, 3)}\")"
      ],
      "metadata": {
        "id": "PA-SQAf7QqiB"
      },
      "execution_count": null,
      "outputs": []
    },
    {
      "cell_type": "code",
      "source": [
        "# # 最適なモデル\n",
        "# rfc_best = RandomForestClassifier(\n",
        "#     max_depth=rfc_gs.best_params_[\"max_depth\"],\n",
        "#     min_samples_leaf=rfc_gs.best_params_[\"min_samples_leaf\"],\n",
        "#     n_estimators=rfc_gs.best_params_[\"n_estimators\"],\n",
        "#     n_jobs=-1,\n",
        "#     random_state=42\n",
        "# )\n",
        "\n",
        "# rfc_best.fit(X, y)\n",
        "\n",
        "# # 正解率\n",
        "# print(f\"Score: {round(rfc_best.score(X, y), 3)}\")"
      ],
      "metadata": {
        "id": "ZtQtiFv2vuHi"
      },
      "execution_count": null,
      "outputs": []
    },
    {
      "cell_type": "markdown",
      "source": [
        "### 3.4 説明変数を絞る"
      ],
      "metadata": {
        "id": "NB64q3zvNZBR"
      }
    },
    {
      "cell_type": "code",
      "source": [
        "# # グリッドサーチするパラメータ\n",
        "# param_grid = {\n",
        "#     \"classify__max_depth\": [5, 6, 7, 8],\n",
        "#     \"classify__min_samples_leaf\": [3, 4, 5],\n",
        "#     \"classify__n_estimators\": [50, 100, 200]\n",
        "# }"
      ],
      "metadata": {
        "id": "2VCFNVx0nz5K"
      },
      "execution_count": null,
      "outputs": []
    },
    {
      "cell_type": "code",
      "source": [
        "# # 説明変数を12個に絞る\n",
        "# select = SelectKBest(k=12)\n",
        "# rfc = RandomForestClassifier(n_jobs=-1, random_state=42)\n",
        "# pipe = Pipeline([(\"select\", select), (\"classify\", rfc)])\n",
        "\n",
        "# rfc_gs = GridSearchCV(estimator=pipe, param_grid=param_grid, cv=5, return_train_score=True)\n",
        "# rfc_gs.fit(X, y)\n",
        "\n",
        "# print(f\"Best Parameters: {rfc_gs.best_params_}\")\n",
        "# print(f\"CV Score: {round(rfc_gs.best_score_, 3)}\")"
      ],
      "metadata": {
        "id": "ZYmOjZDGNX9b"
      },
      "execution_count": null,
      "outputs": []
    },
    {
      "cell_type": "code",
      "source": [
        "# # 最適なモデル\n",
        "# rfc_best = RandomForestClassifier(\n",
        "#     max_depth=rfc_gs.best_params_[\"classify__max_depth\"],\n",
        "#     min_samples_leaf=rfc_gs.best_params_[\"classify__min_samples_leaf\"],\n",
        "#     n_estimators=rfc_gs.best_params_[\"classify__n_estimators\"],\n",
        "#     n_jobs=-1,\n",
        "#     random_state=42\n",
        "# )\n",
        "\n",
        "# rfc_best_pipeline = make_pipeline(select, rfc_best)\n",
        "# rfc_best_pipeline.fit(X, y)\n",
        "\n",
        "# cv_result = cross_validate(rfc_best_pipeline, X, y, cv=5)\n",
        "# print(f\"Mean Score: {np.mean(cv_result['test_score'])}\")\n",
        "# print(f\"Std: {np.std(cv_result['test_score'])}\")\n",
        "\n",
        "# # 正解率\n",
        "# print(f\"Score: {round(rfc_best_pipeline.score(X, y), 3)}\")"
      ],
      "metadata": {
        "id": "Bo3iglfsFJd1"
      },
      "execution_count": null,
      "outputs": []
    },
    {
      "cell_type": "code",
      "source": [
        "# # 説明変数の採用可否\n",
        "# mask = select.get_support()\n",
        "\n",
        "# list_col = list(df.columns[2:])\n",
        "\n",
        "# for i, j in enumerate(list_col):\n",
        "#     print(f\"No {i + 1}, {j} = {mask[i]}\")\n",
        "\n",
        "# X_selected = select.transform(X)\n",
        "# print(f\"X.shape = {X.shape}, X_selected.shape = {X_selected.shape}\")"
      ],
      "metadata": {
        "id": "DsSeNlpVTYV_"
      },
      "execution_count": null,
      "outputs": []
    },
    {
      "cell_type": "markdown",
      "source": [
        "### 3.5 Optunaの利用"
      ],
      "metadata": {
        "id": "Qqo7bic8aJko"
      }
    },
    {
      "cell_type": "code",
      "source": [
        "# # 目的関数の設定（ステップ1）\n",
        "# def objective(trial):\n",
        "#     # ハイパーパラメータの集合を定義する\n",
        "#     # 推定器の集合\n",
        "#     classifier_name = trial.suggest_categorical(\"classifier\", [\"RandomForest\"])\n",
        "\n",
        "#     # 推定器ごとのハイパーパラメータの集合\n",
        "#     # ランダムフォレスト\n",
        "#     if classifier_name == \"RandomForest\":\n",
        "#         rf_max_depth = trial.suggest_int(\"rf_max_depth\", 2, 10, log=True)\n",
        "#         rf_min_samples_leaf = trial.suggest_int(\"rf_min_samples_leaf\", 2, 10)\n",
        "#         rf_n_estimators = trial.suggest_int(\"rf_n_estimators\", 10, 300)\n",
        "#         classifier_obj = ensemble.RandomForestClassifier(max_depth=rf_max_depth, min_samples_leaf=rf_min_samples_leaf, n_estimators=rf_n_estimators)\n",
        "\n",
        "#     # 良し悪しを判断するメトリクスを定義する\n",
        "#     # CVの実施\n",
        "#     score = model_selection.cross_val_score(classifier_obj, X, y, n_jobs=-1, cv=5)\n",
        "#     ## CVの結果の平均値\n",
        "#     accuracy = score.mean()\n",
        "#     return accuracy\n",
        "\n",
        "# # 目的関数の最適化を実行する（ステップ2）\n",
        "# study = optuna.create_study(direction=\"maximize\")\n",
        "# study.optimize(objective, n_trials=50)"
      ],
      "metadata": {
        "id": "Wz7YHB6QaHx1"
      },
      "execution_count": null,
      "outputs": []
    },
    {
      "cell_type": "code",
      "source": [
        "# # 最適解の出力\n",
        "# print(f\"The best value is: {study.best_value}\")\n",
        "# print(f\"The best parameters: {study.best_params}\")"
      ],
      "metadata": {
        "id": "_WfjJLc3bmk1"
      },
      "execution_count": null,
      "outputs": []
    },
    {
      "cell_type": "code",
      "source": [
        "# # 最適なモデル\n",
        "# rfc_best = RandomForestClassifier(max_depth=study.best_params[\"rf_max_depth\"], min_samples_leaf=study.best_params[\"rf_min_samples_leaf\"], n_estimators=study.best_params[\"rf_n_estimators\"], n_jobs=-1, random_state=42)\n",
        "# rfc_best.fit(X, y)\n",
        "\n",
        "# # 正解率\n",
        "# print(f\"Score: {round(rfc_best.score(X, y), 3)}\")"
      ],
      "metadata": {
        "id": "U_SZfwESgOq9"
      },
      "execution_count": null,
      "outputs": []
    },
    {
      "cell_type": "markdown",
      "source": [
        "## 4\\. 提出ファイル作成"
      ],
      "metadata": {
        "id": "jYFAMFOjIYq2"
      }
    },
    {
      "cell_type": "code",
      "source": [
        "# 予測結果\n",
        "rfc_pred = rfc_best.predict_proba(X_test)\n",
        "pred = rfc_pred.argmax(axis=1)"
      ],
      "metadata": {
        "id": "HXDYjtoc5NJV"
      },
      "execution_count": null,
      "outputs": []
    },
    {
      "cell_type": "code",
      "source": [
        "# ファイルをセッションストレージにアップロード\n",
        "submission = pd.read_csv(\"gender_submission.csv\")\n",
        "\n",
        "print(submission.shape)\n",
        "print(pred.shape)"
      ],
      "metadata": {
        "colab": {
          "base_uri": "https://localhost:8080/"
        },
        "id": "Av6Arl3xIVOH",
        "outputId": "a657f04e-79ee-4de6-ad21-6d82539bb499"
      },
      "execution_count": null,
      "outputs": [
        {
          "output_type": "stream",
          "name": "stdout",
          "text": [
            "(418, 2)\n",
            "(418,)\n"
          ]
        }
      ]
    },
    {
      "cell_type": "code",
      "source": [
        "submission[\"Perished\"] = pred\n",
        "submission.head()"
      ],
      "metadata": {
        "colab": {
          "base_uri": "https://localhost:8080/",
          "height": 206
        },
        "id": "WTEQ-T0XIgN1",
        "outputId": "b6032f79-b566-40e7-cbc0-6e7f073aa5f6"
      },
      "execution_count": null,
      "outputs": [
        {
          "output_type": "execute_result",
          "data": {
            "text/plain": [
              "   PassengerId  Perished\n",
              "0          892         1\n",
              "1          893         1\n",
              "2          894         1\n",
              "3          895         1\n",
              "4          896         0"
            ],
            "text/html": [
              "\n",
              "  <div id=\"df-878af4c6-5b3e-4786-a98e-b4ecbf4078d1\" class=\"colab-df-container\">\n",
              "    <div>\n",
              "<style scoped>\n",
              "    .dataframe tbody tr th:only-of-type {\n",
              "        vertical-align: middle;\n",
              "    }\n",
              "\n",
              "    .dataframe tbody tr th {\n",
              "        vertical-align: top;\n",
              "    }\n",
              "\n",
              "    .dataframe thead th {\n",
              "        text-align: right;\n",
              "    }\n",
              "</style>\n",
              "<table border=\"1\" class=\"dataframe\">\n",
              "  <thead>\n",
              "    <tr style=\"text-align: right;\">\n",
              "      <th></th>\n",
              "      <th>PassengerId</th>\n",
              "      <th>Perished</th>\n",
              "    </tr>\n",
              "  </thead>\n",
              "  <tbody>\n",
              "    <tr>\n",
              "      <th>0</th>\n",
              "      <td>892</td>\n",
              "      <td>1</td>\n",
              "    </tr>\n",
              "    <tr>\n",
              "      <th>1</th>\n",
              "      <td>893</td>\n",
              "      <td>1</td>\n",
              "    </tr>\n",
              "    <tr>\n",
              "      <th>2</th>\n",
              "      <td>894</td>\n",
              "      <td>1</td>\n",
              "    </tr>\n",
              "    <tr>\n",
              "      <th>3</th>\n",
              "      <td>895</td>\n",
              "      <td>1</td>\n",
              "    </tr>\n",
              "    <tr>\n",
              "      <th>4</th>\n",
              "      <td>896</td>\n",
              "      <td>0</td>\n",
              "    </tr>\n",
              "  </tbody>\n",
              "</table>\n",
              "</div>\n",
              "    <div class=\"colab-df-buttons\">\n",
              "\n",
              "  <div class=\"colab-df-container\">\n",
              "    <button class=\"colab-df-convert\" onclick=\"convertToInteractive('df-878af4c6-5b3e-4786-a98e-b4ecbf4078d1')\"\n",
              "            title=\"Convert this dataframe to an interactive table.\"\n",
              "            style=\"display:none;\">\n",
              "\n",
              "  <svg xmlns=\"http://www.w3.org/2000/svg\" height=\"24px\" viewBox=\"0 -960 960 960\">\n",
              "    <path d=\"M120-120v-720h720v720H120Zm60-500h600v-160H180v160Zm220 220h160v-160H400v160Zm0 220h160v-160H400v160ZM180-400h160v-160H180v160Zm440 0h160v-160H620v160ZM180-180h160v-160H180v160Zm440 0h160v-160H620v160Z\"/>\n",
              "  </svg>\n",
              "    </button>\n",
              "\n",
              "  <style>\n",
              "    .colab-df-container {\n",
              "      display:flex;\n",
              "      gap: 12px;\n",
              "    }\n",
              "\n",
              "    .colab-df-convert {\n",
              "      background-color: #E8F0FE;\n",
              "      border: none;\n",
              "      border-radius: 50%;\n",
              "      cursor: pointer;\n",
              "      display: none;\n",
              "      fill: #1967D2;\n",
              "      height: 32px;\n",
              "      padding: 0 0 0 0;\n",
              "      width: 32px;\n",
              "    }\n",
              "\n",
              "    .colab-df-convert:hover {\n",
              "      background-color: #E2EBFA;\n",
              "      box-shadow: 0px 1px 2px rgba(60, 64, 67, 0.3), 0px 1px 3px 1px rgba(60, 64, 67, 0.15);\n",
              "      fill: #174EA6;\n",
              "    }\n",
              "\n",
              "    .colab-df-buttons div {\n",
              "      margin-bottom: 4px;\n",
              "    }\n",
              "\n",
              "    [theme=dark] .colab-df-convert {\n",
              "      background-color: #3B4455;\n",
              "      fill: #D2E3FC;\n",
              "    }\n",
              "\n",
              "    [theme=dark] .colab-df-convert:hover {\n",
              "      background-color: #434B5C;\n",
              "      box-shadow: 0px 1px 3px 1px rgba(0, 0, 0, 0.15);\n",
              "      filter: drop-shadow(0px 1px 2px rgba(0, 0, 0, 0.3));\n",
              "      fill: #FFFFFF;\n",
              "    }\n",
              "  </style>\n",
              "\n",
              "    <script>\n",
              "      const buttonEl =\n",
              "        document.querySelector('#df-878af4c6-5b3e-4786-a98e-b4ecbf4078d1 button.colab-df-convert');\n",
              "      buttonEl.style.display =\n",
              "        google.colab.kernel.accessAllowed ? 'block' : 'none';\n",
              "\n",
              "      async function convertToInteractive(key) {\n",
              "        const element = document.querySelector('#df-878af4c6-5b3e-4786-a98e-b4ecbf4078d1');\n",
              "        const dataTable =\n",
              "          await google.colab.kernel.invokeFunction('convertToInteractive',\n",
              "                                                    [key], {});\n",
              "        if (!dataTable) return;\n",
              "\n",
              "        const docLinkHtml = 'Like what you see? Visit the ' +\n",
              "          '<a target=\"_blank\" href=https://colab.research.google.com/notebooks/data_table.ipynb>data table notebook</a>'\n",
              "          + ' to learn more about interactive tables.';\n",
              "        element.innerHTML = '';\n",
              "        dataTable['output_type'] = 'display_data';\n",
              "        await google.colab.output.renderOutput(dataTable, element);\n",
              "        const docLink = document.createElement('div');\n",
              "        docLink.innerHTML = docLinkHtml;\n",
              "        element.appendChild(docLink);\n",
              "      }\n",
              "    </script>\n",
              "  </div>\n",
              "\n",
              "\n",
              "<div id=\"df-3d40b49d-0007-4ea3-9141-1ebfc6ce1579\">\n",
              "  <button class=\"colab-df-quickchart\" onclick=\"quickchart('df-3d40b49d-0007-4ea3-9141-1ebfc6ce1579')\"\n",
              "            title=\"Suggest charts\"\n",
              "            style=\"display:none;\">\n",
              "\n",
              "<svg xmlns=\"http://www.w3.org/2000/svg\" height=\"24px\"viewBox=\"0 0 24 24\"\n",
              "     width=\"24px\">\n",
              "    <g>\n",
              "        <path d=\"M19 3H5c-1.1 0-2 .9-2 2v14c0 1.1.9 2 2 2h14c1.1 0 2-.9 2-2V5c0-1.1-.9-2-2-2zM9 17H7v-7h2v7zm4 0h-2V7h2v10zm4 0h-2v-4h2v4z\"/>\n",
              "    </g>\n",
              "</svg>\n",
              "  </button>\n",
              "\n",
              "<style>\n",
              "  .colab-df-quickchart {\n",
              "      --bg-color: #E8F0FE;\n",
              "      --fill-color: #1967D2;\n",
              "      --hover-bg-color: #E2EBFA;\n",
              "      --hover-fill-color: #174EA6;\n",
              "      --disabled-fill-color: #AAA;\n",
              "      --disabled-bg-color: #DDD;\n",
              "  }\n",
              "\n",
              "  [theme=dark] .colab-df-quickchart {\n",
              "      --bg-color: #3B4455;\n",
              "      --fill-color: #D2E3FC;\n",
              "      --hover-bg-color: #434B5C;\n",
              "      --hover-fill-color: #FFFFFF;\n",
              "      --disabled-bg-color: #3B4455;\n",
              "      --disabled-fill-color: #666;\n",
              "  }\n",
              "\n",
              "  .colab-df-quickchart {\n",
              "    background-color: var(--bg-color);\n",
              "    border: none;\n",
              "    border-radius: 50%;\n",
              "    cursor: pointer;\n",
              "    display: none;\n",
              "    fill: var(--fill-color);\n",
              "    height: 32px;\n",
              "    padding: 0;\n",
              "    width: 32px;\n",
              "  }\n",
              "\n",
              "  .colab-df-quickchart:hover {\n",
              "    background-color: var(--hover-bg-color);\n",
              "    box-shadow: 0 1px 2px rgba(60, 64, 67, 0.3), 0 1px 3px 1px rgba(60, 64, 67, 0.15);\n",
              "    fill: var(--button-hover-fill-color);\n",
              "  }\n",
              "\n",
              "  .colab-df-quickchart-complete:disabled,\n",
              "  .colab-df-quickchart-complete:disabled:hover {\n",
              "    background-color: var(--disabled-bg-color);\n",
              "    fill: var(--disabled-fill-color);\n",
              "    box-shadow: none;\n",
              "  }\n",
              "\n",
              "  .colab-df-spinner {\n",
              "    border: 2px solid var(--fill-color);\n",
              "    border-color: transparent;\n",
              "    border-bottom-color: var(--fill-color);\n",
              "    animation:\n",
              "      spin 1s steps(1) infinite;\n",
              "  }\n",
              "\n",
              "  @keyframes spin {\n",
              "    0% {\n",
              "      border-color: transparent;\n",
              "      border-bottom-color: var(--fill-color);\n",
              "      border-left-color: var(--fill-color);\n",
              "    }\n",
              "    20% {\n",
              "      border-color: transparent;\n",
              "      border-left-color: var(--fill-color);\n",
              "      border-top-color: var(--fill-color);\n",
              "    }\n",
              "    30% {\n",
              "      border-color: transparent;\n",
              "      border-left-color: var(--fill-color);\n",
              "      border-top-color: var(--fill-color);\n",
              "      border-right-color: var(--fill-color);\n",
              "    }\n",
              "    40% {\n",
              "      border-color: transparent;\n",
              "      border-right-color: var(--fill-color);\n",
              "      border-top-color: var(--fill-color);\n",
              "    }\n",
              "    60% {\n",
              "      border-color: transparent;\n",
              "      border-right-color: var(--fill-color);\n",
              "    }\n",
              "    80% {\n",
              "      border-color: transparent;\n",
              "      border-right-color: var(--fill-color);\n",
              "      border-bottom-color: var(--fill-color);\n",
              "    }\n",
              "    90% {\n",
              "      border-color: transparent;\n",
              "      border-bottom-color: var(--fill-color);\n",
              "    }\n",
              "  }\n",
              "</style>\n",
              "\n",
              "  <script>\n",
              "    async function quickchart(key) {\n",
              "      const quickchartButtonEl =\n",
              "        document.querySelector('#' + key + ' button');\n",
              "      quickchartButtonEl.disabled = true;  // To prevent multiple clicks.\n",
              "      quickchartButtonEl.classList.add('colab-df-spinner');\n",
              "      try {\n",
              "        const charts = await google.colab.kernel.invokeFunction(\n",
              "            'suggestCharts', [key], {});\n",
              "      } catch (error) {\n",
              "        console.error('Error during call to suggestCharts:', error);\n",
              "      }\n",
              "      quickchartButtonEl.classList.remove('colab-df-spinner');\n",
              "      quickchartButtonEl.classList.add('colab-df-quickchart-complete');\n",
              "    }\n",
              "    (() => {\n",
              "      let quickchartButtonEl =\n",
              "        document.querySelector('#df-3d40b49d-0007-4ea3-9141-1ebfc6ce1579 button');\n",
              "      quickchartButtonEl.style.display =\n",
              "        google.colab.kernel.accessAllowed ? 'block' : 'none';\n",
              "    })();\n",
              "  </script>\n",
              "</div>\n",
              "    </div>\n",
              "  </div>\n"
            ]
          },
          "metadata": {},
          "execution_count": 118
        }
      ]
    },
    {
      "cell_type": "code",
      "source": [
        "submission.to_csv(\"submission.csv\", index=False)"
      ],
      "metadata": {
        "id": "5cvcCJEnIkii"
      },
      "execution_count": null,
      "outputs": []
    },
    {
      "cell_type": "markdown",
      "source": [
        "## 参考文献\n",
        "- https://qiita.com/shiroino11111/items/bc3889fa38ff32d46c13\n",
        "- https://qiita.com/jun40vn/items/d8a1f71fae680589e05c\n",
        "- https://www.kaggle.com/code/vinothan/titanic-model-with-90-accuracy\n",
        "- https://www.kaggle.com/code/lainguyn123/titantic-prediction-interpretable-ml"
      ],
      "metadata": {
        "id": "70BGmR39-B-i"
      }
    }
  ]
}